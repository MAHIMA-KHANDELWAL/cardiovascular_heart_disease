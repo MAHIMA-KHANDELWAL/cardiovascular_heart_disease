{
 "cells": [
  {
   "cell_type": "code",
   "execution_count": 7,
   "id": "cf8559e2",
   "metadata": {},
   "outputs": [
    {
     "name": "stdout",
     "output_type": "stream",
     "text": [
      "[0, 1, 1, 2, 3, 5, 8, 13, 21, 34]\n"
     ]
    }
   ],
   "source": [
    "#wrire a program to print fibonacci series using a function \n",
    "def fibonacci(n):\n",
    "    a,b=0,1\n",
    "    fib_series=[a,b]\n",
    "    for i in range(2,n,1):\n",
    "        \n",
    "        a,b=b,a+b\n",
    "        fib_series.append(b)\n",
    "    return fib_series\n",
    "res=fibonacci(10)        \n",
    "print(res)   \n",
    "    "
   ]
  },
  {
   "cell_type": "code",
   "execution_count": 11,
   "id": "154ffc7c",
   "metadata": {},
   "outputs": [
    {
     "name": "stdout",
     "output_type": "stream",
     "text": [
      " sum of elements in the list are : 90\n"
     ]
    }
   ],
   "source": [
    "def sum_of(list1):\n",
    "    return sum(list1)\n",
    "list1=[2,4,67,8,9]\n",
    "print(f\" sum of elements in the list are : {sum_of(list1)}\")\n",
    "\n"
   ]
  },
  {
   "cell_type": "code",
   "execution_count": 25,
   "id": "d0e47499",
   "metadata": {},
   "outputs": [
    {
     "name": "stdout",
     "output_type": "stream",
     "text": [
      "*\n",
      "*\n",
      "*\n",
      "*\n",
      "*\n",
      "*\n",
      "*\n",
      "*\n",
      "*\n",
      "*\n"
     ]
    }
   ],
   "source": [
    "# ask this doubt why this output is coming\n",
    "\n",
    "for i in range(1,5):\n",
    "    for j in range(1,i+1):\n",
    "        print(\"*\")\n",
    "          "
   ]
  },
  {
   "cell_type": "code",
   "execution_count": 22,
   "id": "e2036cfe",
   "metadata": {},
   "outputs": [
    {
     "ename": "SyntaxError",
     "evalue": "unterminated string literal (detected at line 4) (3011653620.py, line 4)",
     "output_type": "error",
     "traceback": [
      "\u001b[1;36m  Cell \u001b[1;32mIn[22], line 4\u001b[1;36m\u001b[0m\n\u001b[1;33m    print(f\" the dictionary has this key {check_(dict,\"name\")})\u001b[0m\n\u001b[1;37m                                                           ^\u001b[0m\n\u001b[1;31mSyntaxError\u001b[0m\u001b[1;31m:\u001b[0m unterminated string literal (detected at line 4)\n"
     ]
    }
   ],
   "source": [
    "def check_(dict,key):\n",
    "    return key in dict\n",
    "dict={\"name\":\"Maih\",\"age\":12,\"class\":9}\n",
    "print(f\" the dictionary has this key {check_(dict,\"name\")})    "
   ]
  },
  {
   "cell_type": "code",
   "execution_count": 1,
   "id": "e9fa39ef",
   "metadata": {},
   "outputs": [
    {
     "data": {
      "text/html": [
       "<div>\n",
       "<style scoped>\n",
       "    .dataframe tbody tr th:only-of-type {\n",
       "        vertical-align: middle;\n",
       "    }\n",
       "\n",
       "    .dataframe tbody tr th {\n",
       "        vertical-align: top;\n",
       "    }\n",
       "\n",
       "    .dataframe thead th {\n",
       "        text-align: right;\n",
       "    }\n",
       "</style>\n",
       "<table border=\"1\" class=\"dataframe\">\n",
       "  <thead>\n",
       "    <tr style=\"text-align: right;\">\n",
       "      <th></th>\n",
       "      <th>Name</th>\n",
       "      <th>Age</th>\n",
       "      <th>Salary</th>\n",
       "      <th>Id</th>\n",
       "      <th>Address</th>\n",
       "      <th>City</th>\n",
       "    </tr>\n",
       "  </thead>\n",
       "  <tbody>\n",
       "    <tr>\n",
       "      <th>0</th>\n",
       "      <td>shalini</td>\n",
       "      <td>45</td>\n",
       "      <td>500000</td>\n",
       "      <td>1</td>\n",
       "      <td>kacheri road</td>\n",
       "      <td>kota</td>\n",
       "    </tr>\n",
       "    <tr>\n",
       "      <th>1</th>\n",
       "      <td>rani</td>\n",
       "      <td>78</td>\n",
       "      <td>890000</td>\n",
       "      <td>2</td>\n",
       "      <td>BK Kaul</td>\n",
       "      <td>Rajkot</td>\n",
       "    </tr>\n",
       "    <tr>\n",
       "      <th>2</th>\n",
       "      <td>shrusti</td>\n",
       "      <td>56</td>\n",
       "      <td>450000</td>\n",
       "      <td>nandi nagar</td>\n",
       "      <td>jaipur</td>\n",
       "      <td>NaN</td>\n",
       "    </tr>\n",
       "    <tr>\n",
       "      <th>3</th>\n",
       "      <td>ragini</td>\n",
       "      <td>41</td>\n",
       "      <td>780000</td>\n",
       "      <td>ganesh nagar</td>\n",
       "      <td>NaN</td>\n",
       "      <td>NaN</td>\n",
       "    </tr>\n",
       "  </tbody>\n",
       "</table>\n",
       "</div>"
      ],
      "text/plain": [
       "      Name  Age  Salary            Id       Address    City\n",
       "0  shalini   45  500000             1  kacheri road    kota\n",
       "1     rani   78  890000             2       BK Kaul  Rajkot\n",
       "2  shrusti   56  450000   nandi nagar        jaipur     NaN\n",
       "3   ragini   41  780000  ganesh nagar           NaN     NaN"
      ]
     },
     "execution_count": 1,
     "metadata": {},
     "output_type": "execute_result"
    }
   ],
   "source": [
    "import pandas as pd\n",
    "df=pd.read_csv(\"nascomm.csv\")\n",
    "df"
   ]
  },
  {
   "cell_type": "code",
   "execution_count": 2,
   "id": "0490fb4b",
   "metadata": {},
   "outputs": [
    {
     "name": "stdout",
     "output_type": "stream",
     "text": [
      "<class 'pandas.core.frame.DataFrame'>\n",
      "RangeIndex: 4 entries, 0 to 3\n",
      "Data columns (total 6 columns):\n",
      " #   Column   Non-Null Count  Dtype \n",
      "---  ------   --------------  ----- \n",
      " 0   Name     4 non-null      object\n",
      " 1   Age      4 non-null      int64 \n",
      " 2   Salary   4 non-null      int64 \n",
      " 3   Id       4 non-null      object\n",
      " 4   Address  3 non-null      object\n",
      " 5   City     2 non-null      object\n",
      "dtypes: int64(2), object(4)\n",
      "memory usage: 324.0+ bytes\n"
     ]
    }
   ],
   "source": [
    "\n",
    "df.info()"
   ]
  },
  {
   "cell_type": "code",
   "execution_count": 3,
   "id": "b0a6401e",
   "metadata": {},
   "outputs": [
    {
     "data": {
      "text/html": [
       "<div>\n",
       "<style scoped>\n",
       "    .dataframe tbody tr th:only-of-type {\n",
       "        vertical-align: middle;\n",
       "    }\n",
       "\n",
       "    .dataframe tbody tr th {\n",
       "        vertical-align: top;\n",
       "    }\n",
       "\n",
       "    .dataframe thead th {\n",
       "        text-align: right;\n",
       "    }\n",
       "</style>\n",
       "<table border=\"1\" class=\"dataframe\">\n",
       "  <thead>\n",
       "    <tr style=\"text-align: right;\">\n",
       "      <th></th>\n",
       "      <th>Age</th>\n",
       "      <th>Salary</th>\n",
       "    </tr>\n",
       "  </thead>\n",
       "  <tbody>\n",
       "    <tr>\n",
       "      <th>count</th>\n",
       "      <td>4.000000</td>\n",
       "      <td>4.0000</td>\n",
       "    </tr>\n",
       "    <tr>\n",
       "      <th>mean</th>\n",
       "      <td>55.000000</td>\n",
       "      <td>655000.0000</td>\n",
       "    </tr>\n",
       "    <tr>\n",
       "      <th>std</th>\n",
       "      <td>16.593171</td>\n",
       "      <td>213619.5996</td>\n",
       "    </tr>\n",
       "    <tr>\n",
       "      <th>min</th>\n",
       "      <td>41.000000</td>\n",
       "      <td>450000.0000</td>\n",
       "    </tr>\n",
       "    <tr>\n",
       "      <th>25%</th>\n",
       "      <td>44.000000</td>\n",
       "      <td>487500.0000</td>\n",
       "    </tr>\n",
       "    <tr>\n",
       "      <th>50%</th>\n",
       "      <td>50.500000</td>\n",
       "      <td>640000.0000</td>\n",
       "    </tr>\n",
       "    <tr>\n",
       "      <th>75%</th>\n",
       "      <td>61.500000</td>\n",
       "      <td>807500.0000</td>\n",
       "    </tr>\n",
       "    <tr>\n",
       "      <th>max</th>\n",
       "      <td>78.000000</td>\n",
       "      <td>890000.0000</td>\n",
       "    </tr>\n",
       "  </tbody>\n",
       "</table>\n",
       "</div>"
      ],
      "text/plain": [
       "             Age       Salary\n",
       "count   4.000000       4.0000\n",
       "mean   55.000000  655000.0000\n",
       "std    16.593171  213619.5996\n",
       "min    41.000000  450000.0000\n",
       "25%    44.000000  487500.0000\n",
       "50%    50.500000  640000.0000\n",
       "75%    61.500000  807500.0000\n",
       "max    78.000000  890000.0000"
      ]
     },
     "execution_count": 3,
     "metadata": {},
     "output_type": "execute_result"
    }
   ],
   "source": [
    "df.describe()"
   ]
  },
  {
   "cell_type": "code",
   "execution_count": 53,
   "id": "6038d708",
   "metadata": {},
   "outputs": [
    {
     "ename": "KeyError",
     "evalue": "\"['Name'] not found in axis\"",
     "output_type": "error",
     "traceback": [
      "\u001b[1;31m---------------------------------------------------------------------------\u001b[0m",
      "\u001b[1;31mKeyError\u001b[0m                                  Traceback (most recent call last)",
      "Cell \u001b[1;32mIn[53], line 1\u001b[0m\n\u001b[1;32m----> 1\u001b[0m df\u001b[38;5;241m.\u001b[39mdrop(columns\u001b[38;5;241m=\u001b[39m[\u001b[38;5;124m'\u001b[39m\u001b[38;5;124mName\u001b[39m\u001b[38;5;124m'\u001b[39m],axis\u001b[38;5;241m=\u001b[39m\u001b[38;5;241m0\u001b[39m)\n\u001b[0;32m      2\u001b[0m df\n",
      "File \u001b[1;32m~\\anaconda3\\Lib\\site-packages\\pandas\\core\\frame.py:5258\u001b[0m, in \u001b[0;36mDataFrame.drop\u001b[1;34m(self, labels, axis, index, columns, level, inplace, errors)\u001b[0m\n\u001b[0;32m   5110\u001b[0m \u001b[38;5;28;01mdef\u001b[39;00m \u001b[38;5;21mdrop\u001b[39m(\n\u001b[0;32m   5111\u001b[0m     \u001b[38;5;28mself\u001b[39m,\n\u001b[0;32m   5112\u001b[0m     labels: IndexLabel \u001b[38;5;241m=\u001b[39m \u001b[38;5;28;01mNone\u001b[39;00m,\n\u001b[1;32m   (...)\u001b[0m\n\u001b[0;32m   5119\u001b[0m     errors: IgnoreRaise \u001b[38;5;241m=\u001b[39m \u001b[38;5;124m\"\u001b[39m\u001b[38;5;124mraise\u001b[39m\u001b[38;5;124m\"\u001b[39m,\n\u001b[0;32m   5120\u001b[0m ) \u001b[38;5;241m-\u001b[39m\u001b[38;5;241m>\u001b[39m DataFrame \u001b[38;5;241m|\u001b[39m \u001b[38;5;28;01mNone\u001b[39;00m:\n\u001b[0;32m   5121\u001b[0m \u001b[38;5;250m    \u001b[39m\u001b[38;5;124;03m\"\"\"\u001b[39;00m\n\u001b[0;32m   5122\u001b[0m \u001b[38;5;124;03m    Drop specified labels from rows or columns.\u001b[39;00m\n\u001b[0;32m   5123\u001b[0m \n\u001b[1;32m   (...)\u001b[0m\n\u001b[0;32m   5256\u001b[0m \u001b[38;5;124;03m            weight  1.0     0.8\u001b[39;00m\n\u001b[0;32m   5257\u001b[0m \u001b[38;5;124;03m    \"\"\"\u001b[39;00m\n\u001b[1;32m-> 5258\u001b[0m     \u001b[38;5;28;01mreturn\u001b[39;00m \u001b[38;5;28msuper\u001b[39m()\u001b[38;5;241m.\u001b[39mdrop(\n\u001b[0;32m   5259\u001b[0m         labels\u001b[38;5;241m=\u001b[39mlabels,\n\u001b[0;32m   5260\u001b[0m         axis\u001b[38;5;241m=\u001b[39maxis,\n\u001b[0;32m   5261\u001b[0m         index\u001b[38;5;241m=\u001b[39mindex,\n\u001b[0;32m   5262\u001b[0m         columns\u001b[38;5;241m=\u001b[39mcolumns,\n\u001b[0;32m   5263\u001b[0m         level\u001b[38;5;241m=\u001b[39mlevel,\n\u001b[0;32m   5264\u001b[0m         inplace\u001b[38;5;241m=\u001b[39minplace,\n\u001b[0;32m   5265\u001b[0m         errors\u001b[38;5;241m=\u001b[39merrors,\n\u001b[0;32m   5266\u001b[0m     )\n",
      "File \u001b[1;32m~\\anaconda3\\Lib\\site-packages\\pandas\\core\\generic.py:4549\u001b[0m, in \u001b[0;36mNDFrame.drop\u001b[1;34m(self, labels, axis, index, columns, level, inplace, errors)\u001b[0m\n\u001b[0;32m   4547\u001b[0m \u001b[38;5;28;01mfor\u001b[39;00m axis, labels \u001b[38;5;129;01min\u001b[39;00m axes\u001b[38;5;241m.\u001b[39mitems():\n\u001b[0;32m   4548\u001b[0m     \u001b[38;5;28;01mif\u001b[39;00m labels \u001b[38;5;129;01mis\u001b[39;00m \u001b[38;5;129;01mnot\u001b[39;00m \u001b[38;5;28;01mNone\u001b[39;00m:\n\u001b[1;32m-> 4549\u001b[0m         obj \u001b[38;5;241m=\u001b[39m obj\u001b[38;5;241m.\u001b[39m_drop_axis(labels, axis, level\u001b[38;5;241m=\u001b[39mlevel, errors\u001b[38;5;241m=\u001b[39merrors)\n\u001b[0;32m   4551\u001b[0m \u001b[38;5;28;01mif\u001b[39;00m inplace:\n\u001b[0;32m   4552\u001b[0m     \u001b[38;5;28mself\u001b[39m\u001b[38;5;241m.\u001b[39m_update_inplace(obj)\n",
      "File \u001b[1;32m~\\anaconda3\\Lib\\site-packages\\pandas\\core\\generic.py:4591\u001b[0m, in \u001b[0;36mNDFrame._drop_axis\u001b[1;34m(self, labels, axis, level, errors, only_slice)\u001b[0m\n\u001b[0;32m   4589\u001b[0m         new_axis \u001b[38;5;241m=\u001b[39m axis\u001b[38;5;241m.\u001b[39mdrop(labels, level\u001b[38;5;241m=\u001b[39mlevel, errors\u001b[38;5;241m=\u001b[39merrors)\n\u001b[0;32m   4590\u001b[0m     \u001b[38;5;28;01melse\u001b[39;00m:\n\u001b[1;32m-> 4591\u001b[0m         new_axis \u001b[38;5;241m=\u001b[39m axis\u001b[38;5;241m.\u001b[39mdrop(labels, errors\u001b[38;5;241m=\u001b[39merrors)\n\u001b[0;32m   4592\u001b[0m     indexer \u001b[38;5;241m=\u001b[39m axis\u001b[38;5;241m.\u001b[39mget_indexer(new_axis)\n\u001b[0;32m   4594\u001b[0m \u001b[38;5;66;03m# Case for non-unique axis\u001b[39;00m\n\u001b[0;32m   4595\u001b[0m \u001b[38;5;28;01melse\u001b[39;00m:\n",
      "File \u001b[1;32m~\\anaconda3\\Lib\\site-packages\\pandas\\core\\indexes\\base.py:6699\u001b[0m, in \u001b[0;36mIndex.drop\u001b[1;34m(self, labels, errors)\u001b[0m\n\u001b[0;32m   6697\u001b[0m \u001b[38;5;28;01mif\u001b[39;00m mask\u001b[38;5;241m.\u001b[39many():\n\u001b[0;32m   6698\u001b[0m     \u001b[38;5;28;01mif\u001b[39;00m errors \u001b[38;5;241m!=\u001b[39m \u001b[38;5;124m\"\u001b[39m\u001b[38;5;124mignore\u001b[39m\u001b[38;5;124m\"\u001b[39m:\n\u001b[1;32m-> 6699\u001b[0m         \u001b[38;5;28;01mraise\u001b[39;00m \u001b[38;5;167;01mKeyError\u001b[39;00m(\u001b[38;5;124mf\u001b[39m\u001b[38;5;124m\"\u001b[39m\u001b[38;5;132;01m{\u001b[39;00m\u001b[38;5;28mlist\u001b[39m(labels[mask])\u001b[38;5;132;01m}\u001b[39;00m\u001b[38;5;124m not found in axis\u001b[39m\u001b[38;5;124m\"\u001b[39m)\n\u001b[0;32m   6700\u001b[0m     indexer \u001b[38;5;241m=\u001b[39m indexer[\u001b[38;5;241m~\u001b[39mmask]\n\u001b[0;32m   6701\u001b[0m \u001b[38;5;28;01mreturn\u001b[39;00m \u001b[38;5;28mself\u001b[39m\u001b[38;5;241m.\u001b[39mdelete(indexer)\n",
      "\u001b[1;31mKeyError\u001b[0m: \"['Name'] not found in axis\""
     ]
    }
   ],
   "source": [
    "df.drop(columns=['Name'],axis=0)\n",
    "df"
   ]
  },
  {
   "cell_type": "code",
   "execution_count": 5,
   "id": "8139d079",
   "metadata": {},
   "outputs": [
    {
     "data": {
      "text/html": [
       "<div>\n",
       "<style scoped>\n",
       "    .dataframe tbody tr th:only-of-type {\n",
       "        vertical-align: middle;\n",
       "    }\n",
       "\n",
       "    .dataframe tbody tr th {\n",
       "        vertical-align: top;\n",
       "    }\n",
       "\n",
       "    .dataframe thead th {\n",
       "        text-align: right;\n",
       "    }\n",
       "</style>\n",
       "<table border=\"1\" class=\"dataframe\">\n",
       "  <thead>\n",
       "    <tr style=\"text-align: right;\">\n",
       "      <th></th>\n",
       "      <th>Name</th>\n",
       "      <th>Age</th>\n",
       "      <th>Salary</th>\n",
       "      <th>Id</th>\n",
       "      <th>Address</th>\n",
       "      <th>City</th>\n",
       "    </tr>\n",
       "  </thead>\n",
       "  <tbody>\n",
       "    <tr>\n",
       "      <th>0</th>\n",
       "      <td>shalini</td>\n",
       "      <td>45</td>\n",
       "      <td>500000</td>\n",
       "      <td>1</td>\n",
       "      <td>kacheri road</td>\n",
       "      <td>kota</td>\n",
       "    </tr>\n",
       "    <tr>\n",
       "      <th>1</th>\n",
       "      <td>rani</td>\n",
       "      <td>78</td>\n",
       "      <td>890000</td>\n",
       "      <td>2</td>\n",
       "      <td>BK Kaul</td>\n",
       "      <td>Rajkot</td>\n",
       "    </tr>\n",
       "  </tbody>\n",
       "</table>\n",
       "</div>"
      ],
      "text/plain": [
       "      Name  Age  Salary Id       Address    City\n",
       "0  shalini   45  500000  1  kacheri road    kota\n",
       "1     rani   78  890000  2       BK Kaul  Rajkot"
      ]
     },
     "execution_count": 5,
     "metadata": {},
     "output_type": "execute_result"
    }
   ],
   "source": [
    "df.head(2)"
   ]
  },
  {
   "cell_type": "code",
   "execution_count": 6,
   "id": "0b2e477d",
   "metadata": {},
   "outputs": [
    {
     "data": {
      "text/html": [
       "<div>\n",
       "<style scoped>\n",
       "    .dataframe tbody tr th:only-of-type {\n",
       "        vertical-align: middle;\n",
       "    }\n",
       "\n",
       "    .dataframe tbody tr th {\n",
       "        vertical-align: top;\n",
       "    }\n",
       "\n",
       "    .dataframe thead th {\n",
       "        text-align: right;\n",
       "    }\n",
       "</style>\n",
       "<table border=\"1\" class=\"dataframe\">\n",
       "  <thead>\n",
       "    <tr style=\"text-align: right;\">\n",
       "      <th></th>\n",
       "      <th>Name</th>\n",
       "      <th>Age</th>\n",
       "      <th>Salary</th>\n",
       "      <th>Id</th>\n",
       "      <th>Address</th>\n",
       "      <th>City</th>\n",
       "    </tr>\n",
       "  </thead>\n",
       "  <tbody>\n",
       "    <tr>\n",
       "      <th>3</th>\n",
       "      <td>ragini</td>\n",
       "      <td>41</td>\n",
       "      <td>780000</td>\n",
       "      <td>ganesh nagar</td>\n",
       "      <td>NaN</td>\n",
       "      <td>NaN</td>\n",
       "    </tr>\n",
       "  </tbody>\n",
       "</table>\n",
       "</div>"
      ],
      "text/plain": [
       "     Name  Age  Salary            Id Address City\n",
       "3  ragini   41  780000  ganesh nagar     NaN  NaN"
      ]
     },
     "execution_count": 6,
     "metadata": {},
     "output_type": "execute_result"
    }
   ],
   "source": [
    "df.tail(1)"
   ]
  },
  {
   "cell_type": "code",
   "execution_count": 7,
   "id": "cb47ff07",
   "metadata": {},
   "outputs": [
    {
     "data": {
      "text/html": [
       "<div>\n",
       "<style scoped>\n",
       "    .dataframe tbody tr th:only-of-type {\n",
       "        vertical-align: middle;\n",
       "    }\n",
       "\n",
       "    .dataframe tbody tr th {\n",
       "        vertical-align: top;\n",
       "    }\n",
       "\n",
       "    .dataframe thead th {\n",
       "        text-align: right;\n",
       "    }\n",
       "</style>\n",
       "<table border=\"1\" class=\"dataframe\">\n",
       "  <thead>\n",
       "    <tr style=\"text-align: right;\">\n",
       "      <th></th>\n",
       "      <th>Name</th>\n",
       "      <th>Age</th>\n",
       "      <th>Salary</th>\n",
       "      <th>Id</th>\n",
       "      <th>Address</th>\n",
       "      <th>City</th>\n",
       "    </tr>\n",
       "  </thead>\n",
       "  <tbody>\n",
       "    <tr>\n",
       "      <th>2</th>\n",
       "      <td>shrusti</td>\n",
       "      <td>56</td>\n",
       "      <td>450000</td>\n",
       "      <td>nandi nagar</td>\n",
       "      <td>jaipur</td>\n",
       "      <td>NaN</td>\n",
       "    </tr>\n",
       "  </tbody>\n",
       "</table>\n",
       "</div>"
      ],
      "text/plain": [
       "      Name  Age  Salary           Id Address City\n",
       "2  shrusti   56  450000  nandi nagar  jaipur  NaN"
      ]
     },
     "execution_count": 7,
     "metadata": {},
     "output_type": "execute_result"
    }
   ],
   "source": [
    "df.sample()"
   ]
  },
  {
   "cell_type": "code",
   "execution_count": 8,
   "id": "2c2e6a98",
   "metadata": {},
   "outputs": [
    {
     "data": {
      "text/plain": [
       "(4, 6)"
      ]
     },
     "execution_count": 8,
     "metadata": {},
     "output_type": "execute_result"
    }
   ],
   "source": [
    "df.shape\n"
   ]
  },
  {
   "cell_type": "code",
   "execution_count": 9,
   "id": "2e5082f5",
   "metadata": {},
   "outputs": [
    {
     "data": {
      "text/html": [
       "<div>\n",
       "<style scoped>\n",
       "    .dataframe tbody tr th:only-of-type {\n",
       "        vertical-align: middle;\n",
       "    }\n",
       "\n",
       "    .dataframe tbody tr th {\n",
       "        vertical-align: top;\n",
       "    }\n",
       "\n",
       "    .dataframe thead th {\n",
       "        text-align: right;\n",
       "    }\n",
       "</style>\n",
       "<table border=\"1\" class=\"dataframe\">\n",
       "  <thead>\n",
       "    <tr style=\"text-align: right;\">\n",
       "      <th></th>\n",
       "      <th>Age</th>\n",
       "      <th>Salary</th>\n",
       "    </tr>\n",
       "  </thead>\n",
       "  <tbody>\n",
       "    <tr>\n",
       "      <th>count</th>\n",
       "      <td>4.000000</td>\n",
       "      <td>4.0000</td>\n",
       "    </tr>\n",
       "    <tr>\n",
       "      <th>mean</th>\n",
       "      <td>55.000000</td>\n",
       "      <td>655000.0000</td>\n",
       "    </tr>\n",
       "    <tr>\n",
       "      <th>std</th>\n",
       "      <td>16.593171</td>\n",
       "      <td>213619.5996</td>\n",
       "    </tr>\n",
       "    <tr>\n",
       "      <th>min</th>\n",
       "      <td>41.000000</td>\n",
       "      <td>450000.0000</td>\n",
       "    </tr>\n",
       "    <tr>\n",
       "      <th>25%</th>\n",
       "      <td>44.000000</td>\n",
       "      <td>487500.0000</td>\n",
       "    </tr>\n",
       "    <tr>\n",
       "      <th>50%</th>\n",
       "      <td>50.500000</td>\n",
       "      <td>640000.0000</td>\n",
       "    </tr>\n",
       "    <tr>\n",
       "      <th>75%</th>\n",
       "      <td>61.500000</td>\n",
       "      <td>807500.0000</td>\n",
       "    </tr>\n",
       "    <tr>\n",
       "      <th>max</th>\n",
       "      <td>78.000000</td>\n",
       "      <td>890000.0000</td>\n",
       "    </tr>\n",
       "  </tbody>\n",
       "</table>\n",
       "</div>"
      ],
      "text/plain": [
       "             Age       Salary\n",
       "count   4.000000       4.0000\n",
       "mean   55.000000  655000.0000\n",
       "std    16.593171  213619.5996\n",
       "min    41.000000  450000.0000\n",
       "25%    44.000000  487500.0000\n",
       "50%    50.500000  640000.0000\n",
       "75%    61.500000  807500.0000\n",
       "max    78.000000  890000.0000"
      ]
     },
     "execution_count": 9,
     "metadata": {},
     "output_type": "execute_result"
    }
   ],
   "source": [
    "df.describe()"
   ]
  },
  {
   "cell_type": "code",
   "execution_count": 10,
   "id": "bae5d741",
   "metadata": {},
   "outputs": [
    {
     "data": {
      "text/plain": [
       "Index(['Name', 'Age', 'Salary', 'Id', 'Address', 'City'], dtype='object')"
      ]
     },
     "execution_count": 10,
     "metadata": {},
     "output_type": "execute_result"
    }
   ],
   "source": [
    "df.columns\n"
   ]
  },
  {
   "cell_type": "code",
   "execution_count": 11,
   "id": "d105ee57",
   "metadata": {},
   "outputs": [
    {
     "data": {
      "text/html": [
       "<div>\n",
       "<style scoped>\n",
       "    .dataframe tbody tr th:only-of-type {\n",
       "        vertical-align: middle;\n",
       "    }\n",
       "\n",
       "    .dataframe tbody tr th {\n",
       "        vertical-align: top;\n",
       "    }\n",
       "\n",
       "    .dataframe thead th {\n",
       "        text-align: right;\n",
       "    }\n",
       "</style>\n",
       "<table border=\"1\" class=\"dataframe\">\n",
       "  <thead>\n",
       "    <tr style=\"text-align: right;\">\n",
       "      <th></th>\n",
       "      <th>Name</th>\n",
       "      <th>Age</th>\n",
       "      <th>Salary</th>\n",
       "      <th>Id</th>\n",
       "      <th>Address</th>\n",
       "      <th>City</th>\n",
       "    </tr>\n",
       "  </thead>\n",
       "  <tbody>\n",
       "    <tr>\n",
       "      <th>0</th>\n",
       "      <td>False</td>\n",
       "      <td>False</td>\n",
       "      <td>False</td>\n",
       "      <td>False</td>\n",
       "      <td>False</td>\n",
       "      <td>False</td>\n",
       "    </tr>\n",
       "    <tr>\n",
       "      <th>1</th>\n",
       "      <td>False</td>\n",
       "      <td>False</td>\n",
       "      <td>False</td>\n",
       "      <td>False</td>\n",
       "      <td>False</td>\n",
       "      <td>False</td>\n",
       "    </tr>\n",
       "    <tr>\n",
       "      <th>2</th>\n",
       "      <td>False</td>\n",
       "      <td>False</td>\n",
       "      <td>False</td>\n",
       "      <td>False</td>\n",
       "      <td>False</td>\n",
       "      <td>True</td>\n",
       "    </tr>\n",
       "    <tr>\n",
       "      <th>3</th>\n",
       "      <td>False</td>\n",
       "      <td>False</td>\n",
       "      <td>False</td>\n",
       "      <td>False</td>\n",
       "      <td>True</td>\n",
       "      <td>True</td>\n",
       "    </tr>\n",
       "  </tbody>\n",
       "</table>\n",
       "</div>"
      ],
      "text/plain": [
       "    Name    Age  Salary     Id  Address   City\n",
       "0  False  False   False  False    False  False\n",
       "1  False  False   False  False    False  False\n",
       "2  False  False   False  False    False   True\n",
       "3  False  False   False  False     True   True"
      ]
     },
     "execution_count": 11,
     "metadata": {},
     "output_type": "execute_result"
    }
   ],
   "source": [
    "df.isnull()"
   ]
  },
  {
   "cell_type": "code",
   "execution_count": 12,
   "id": "2e124334",
   "metadata": {},
   "outputs": [
    {
     "data": {
      "text/plain": [
       "Name       0\n",
       "Age        0\n",
       "Salary     0\n",
       "Id         0\n",
       "Address    1\n",
       "City       2\n",
       "dtype: int64"
      ]
     },
     "execution_count": 12,
     "metadata": {},
     "output_type": "execute_result"
    }
   ],
   "source": [
    "df.isnull().sum()"
   ]
  },
  {
   "cell_type": "code",
   "execution_count": 13,
   "id": "748d7eba",
   "metadata": {},
   "outputs": [
    {
     "data": {
      "text/html": [
       "<div>\n",
       "<style scoped>\n",
       "    .dataframe tbody tr th:only-of-type {\n",
       "        vertical-align: middle;\n",
       "    }\n",
       "\n",
       "    .dataframe tbody tr th {\n",
       "        vertical-align: top;\n",
       "    }\n",
       "\n",
       "    .dataframe thead th {\n",
       "        text-align: right;\n",
       "    }\n",
       "</style>\n",
       "<table border=\"1\" class=\"dataframe\">\n",
       "  <thead>\n",
       "    <tr style=\"text-align: right;\">\n",
       "      <th></th>\n",
       "      <th>Name</th>\n",
       "      <th>Age</th>\n",
       "      <th>Salary</th>\n",
       "      <th>Id</th>\n",
       "      <th>Address</th>\n",
       "      <th>City</th>\n",
       "    </tr>\n",
       "  </thead>\n",
       "  <tbody>\n",
       "    <tr>\n",
       "      <th>0</th>\n",
       "      <td>shalini</td>\n",
       "      <td>45</td>\n",
       "      <td>500000</td>\n",
       "      <td>1</td>\n",
       "      <td>kacheri road</td>\n",
       "      <td>kota</td>\n",
       "    </tr>\n",
       "    <tr>\n",
       "      <th>1</th>\n",
       "      <td>rani</td>\n",
       "      <td>78</td>\n",
       "      <td>890000</td>\n",
       "      <td>2</td>\n",
       "      <td>BK Kaul</td>\n",
       "      <td>Rajkot</td>\n",
       "    </tr>\n",
       "    <tr>\n",
       "      <th>2</th>\n",
       "      <td>shrusti</td>\n",
       "      <td>56</td>\n",
       "      <td>450000</td>\n",
       "      <td>nandi nagar</td>\n",
       "      <td>jaipur</td>\n",
       "      <td>0</td>\n",
       "    </tr>\n",
       "    <tr>\n",
       "      <th>3</th>\n",
       "      <td>ragini</td>\n",
       "      <td>41</td>\n",
       "      <td>780000</td>\n",
       "      <td>ganesh nagar</td>\n",
       "      <td>0</td>\n",
       "      <td>0</td>\n",
       "    </tr>\n",
       "  </tbody>\n",
       "</table>\n",
       "</div>"
      ],
      "text/plain": [
       "      Name  Age  Salary            Id       Address    City\n",
       "0  shalini   45  500000             1  kacheri road    kota\n",
       "1     rani   78  890000             2       BK Kaul  Rajkot\n",
       "2  shrusti   56  450000   nandi nagar        jaipur       0\n",
       "3   ragini   41  780000  ganesh nagar             0       0"
      ]
     },
     "execution_count": 13,
     "metadata": {},
     "output_type": "execute_result"
    }
   ],
   "source": [
    "df.fillna(0)"
   ]
  },
  {
   "cell_type": "code",
   "execution_count": 14,
   "id": "8126bca5",
   "metadata": {},
   "outputs": [
    {
     "data": {
      "text/html": [
       "<div>\n",
       "<style scoped>\n",
       "    .dataframe tbody tr th:only-of-type {\n",
       "        vertical-align: middle;\n",
       "    }\n",
       "\n",
       "    .dataframe tbody tr th {\n",
       "        vertical-align: top;\n",
       "    }\n",
       "\n",
       "    .dataframe thead th {\n",
       "        text-align: right;\n",
       "    }\n",
       "</style>\n",
       "<table border=\"1\" class=\"dataframe\">\n",
       "  <thead>\n",
       "    <tr style=\"text-align: right;\">\n",
       "      <th></th>\n",
       "      <th>Name</th>\n",
       "      <th>Age</th>\n",
       "      <th>Salary</th>\n",
       "      <th>Id</th>\n",
       "      <th>Address</th>\n",
       "      <th>City</th>\n",
       "    </tr>\n",
       "  </thead>\n",
       "  <tbody>\n",
       "    <tr>\n",
       "      <th>0</th>\n",
       "      <td>shalini</td>\n",
       "      <td>45</td>\n",
       "      <td>500000</td>\n",
       "      <td>1</td>\n",
       "      <td>kacheri road</td>\n",
       "      <td>kota</td>\n",
       "    </tr>\n",
       "    <tr>\n",
       "      <th>1</th>\n",
       "      <td>rani</td>\n",
       "      <td>78</td>\n",
       "      <td>890000</td>\n",
       "      <td>2</td>\n",
       "      <td>BK Kaul</td>\n",
       "      <td>Rajkot</td>\n",
       "    </tr>\n",
       "  </tbody>\n",
       "</table>\n",
       "</div>"
      ],
      "text/plain": [
       "      Name  Age  Salary Id       Address    City\n",
       "0  shalini   45  500000  1  kacheri road    kota\n",
       "1     rani   78  890000  2       BK Kaul  Rajkot"
      ]
     },
     "execution_count": 14,
     "metadata": {},
     "output_type": "execute_result"
    }
   ],
   "source": [
    "df.dropna()"
   ]
  },
  {
   "cell_type": "code",
   "execution_count": 15,
   "id": "9d046e42",
   "metadata": {},
   "outputs": [
    {
     "data": {
      "text/html": [
       "<div>\n",
       "<style scoped>\n",
       "    .dataframe tbody tr th:only-of-type {\n",
       "        vertical-align: middle;\n",
       "    }\n",
       "\n",
       "    .dataframe tbody tr th {\n",
       "        vertical-align: top;\n",
       "    }\n",
       "\n",
       "    .dataframe thead th {\n",
       "        text-align: right;\n",
       "    }\n",
       "</style>\n",
       "<table border=\"1\" class=\"dataframe\">\n",
       "  <thead>\n",
       "    <tr style=\"text-align: right;\">\n",
       "      <th></th>\n",
       "      <th>Name</th>\n",
       "      <th>Age</th>\n",
       "      <th>Salary</th>\n",
       "      <th>Id</th>\n",
       "      <th>Address</th>\n",
       "      <th>City</th>\n",
       "    </tr>\n",
       "  </thead>\n",
       "  <tbody>\n",
       "    <tr>\n",
       "      <th>0</th>\n",
       "      <td>shalini</td>\n",
       "      <td>45</td>\n",
       "      <td>500000</td>\n",
       "      <td>1</td>\n",
       "      <td>kacheri road</td>\n",
       "      <td>kota</td>\n",
       "    </tr>\n",
       "    <tr>\n",
       "      <th>1</th>\n",
       "      <td>rani</td>\n",
       "      <td>78</td>\n",
       "      <td>890000</td>\n",
       "      <td>2</td>\n",
       "      <td>BK Kaul</td>\n",
       "      <td>Rajkot</td>\n",
       "    </tr>\n",
       "    <tr>\n",
       "      <th>2</th>\n",
       "      <td>shrusti</td>\n",
       "      <td>56</td>\n",
       "      <td>450000</td>\n",
       "      <td>nandi nagar</td>\n",
       "      <td>jaipur</td>\n",
       "      <td>NaN</td>\n",
       "    </tr>\n",
       "    <tr>\n",
       "      <th>3</th>\n",
       "      <td>ragini</td>\n",
       "      <td>41</td>\n",
       "      <td>780000</td>\n",
       "      <td>ganesh nagar</td>\n",
       "      <td>NaN</td>\n",
       "      <td>NaN</td>\n",
       "    </tr>\n",
       "  </tbody>\n",
       "</table>\n",
       "</div>"
      ],
      "text/plain": [
       "      Name  Age  Salary            Id       Address    City\n",
       "0  shalini   45  500000             1  kacheri road    kota\n",
       "1     rani   78  890000             2       BK Kaul  Rajkot\n",
       "2  shrusti   56  450000   nandi nagar        jaipur     NaN\n",
       "3   ragini   41  780000  ganesh nagar           NaN     NaN"
      ]
     },
     "execution_count": 15,
     "metadata": {},
     "output_type": "execute_result"
    }
   ],
   "source": [
    "df"
   ]
  },
  {
   "cell_type": "code",
   "execution_count": 16,
   "id": "78fb6bcb",
   "metadata": {},
   "outputs": [
    {
     "data": {
      "text/plain": [
       "0    45\n",
       "1    78\n",
       "2    56\n",
       "3    41\n",
       "Name: Age, dtype: int64"
      ]
     },
     "execution_count": 16,
     "metadata": {},
     "output_type": "execute_result"
    }
   ],
   "source": [
    "df.Age\n",
    "\n"
   ]
  },
  {
   "cell_type": "code",
   "execution_count": 17,
   "id": "305a81d4",
   "metadata": {},
   "outputs": [
    {
     "data": {
      "text/html": [
       "<div>\n",
       "<style scoped>\n",
       "    .dataframe tbody tr th:only-of-type {\n",
       "        vertical-align: middle;\n",
       "    }\n",
       "\n",
       "    .dataframe tbody tr th {\n",
       "        vertical-align: top;\n",
       "    }\n",
       "\n",
       "    .dataframe thead th {\n",
       "        text-align: right;\n",
       "    }\n",
       "</style>\n",
       "<table border=\"1\" class=\"dataframe\">\n",
       "  <thead>\n",
       "    <tr style=\"text-align: right;\">\n",
       "      <th></th>\n",
       "      <th>Name</th>\n",
       "      <th>Age</th>\n",
       "      <th>Salary</th>\n",
       "      <th>Id</th>\n",
       "      <th>Address</th>\n",
       "      <th>City</th>\n",
       "    </tr>\n",
       "  </thead>\n",
       "  <tbody>\n",
       "    <tr>\n",
       "      <th>0</th>\n",
       "      <td>shalini</td>\n",
       "      <td>45</td>\n",
       "      <td>500000</td>\n",
       "      <td>1</td>\n",
       "      <td>kacheri road</td>\n",
       "      <td>kota</td>\n",
       "    </tr>\n",
       "    <tr>\n",
       "      <th>1</th>\n",
       "      <td>rani</td>\n",
       "      <td>78</td>\n",
       "      <td>890000</td>\n",
       "      <td>2</td>\n",
       "      <td>BK Kaul</td>\n",
       "      <td>Rajkot</td>\n",
       "    </tr>\n",
       "    <tr>\n",
       "      <th>2</th>\n",
       "      <td>shrusti</td>\n",
       "      <td>56</td>\n",
       "      <td>450000</td>\n",
       "      <td>nandi nagar</td>\n",
       "      <td>jaipur</td>\n",
       "      <td>NaN</td>\n",
       "    </tr>\n",
       "    <tr>\n",
       "      <th>3</th>\n",
       "      <td>ragini</td>\n",
       "      <td>41</td>\n",
       "      <td>780000</td>\n",
       "      <td>ganesh nagar</td>\n",
       "      <td>NaN</td>\n",
       "      <td>NaN</td>\n",
       "    </tr>\n",
       "  </tbody>\n",
       "</table>\n",
       "</div>"
      ],
      "text/plain": [
       "      Name  Age  Salary            Id       Address    City\n",
       "0  shalini   45  500000             1  kacheri road    kota\n",
       "1     rani   78  890000             2       BK Kaul  Rajkot\n",
       "2  shrusti   56  450000   nandi nagar        jaipur     NaN\n",
       "3   ragini   41  780000  ganesh nagar           NaN     NaN"
      ]
     },
     "execution_count": 17,
     "metadata": {},
     "output_type": "execute_result"
    }
   ],
   "source": [
    "df[df[\"Salary\"]>12000]\n"
   ]
  },
  {
   "cell_type": "code",
   "execution_count": 18,
   "id": "4ac4ff53",
   "metadata": {},
   "outputs": [
    {
     "data": {
      "text/html": [
       "<div>\n",
       "<style scoped>\n",
       "    .dataframe tbody tr th:only-of-type {\n",
       "        vertical-align: middle;\n",
       "    }\n",
       "\n",
       "    .dataframe tbody tr th {\n",
       "        vertical-align: top;\n",
       "    }\n",
       "\n",
       "    .dataframe thead th {\n",
       "        text-align: right;\n",
       "    }\n",
       "</style>\n",
       "<table border=\"1\" class=\"dataframe\">\n",
       "  <thead>\n",
       "    <tr style=\"text-align: right;\">\n",
       "      <th></th>\n",
       "      <th>Name</th>\n",
       "      <th>Age</th>\n",
       "      <th>Salary</th>\n",
       "      <th>Id</th>\n",
       "      <th>Address</th>\n",
       "      <th>City</th>\n",
       "    </tr>\n",
       "  </thead>\n",
       "  <tbody>\n",
       "    <tr>\n",
       "      <th>0</th>\n",
       "      <td>shalini</td>\n",
       "      <td>45</td>\n",
       "      <td>500000</td>\n",
       "      <td>1</td>\n",
       "      <td>kacheri road</td>\n",
       "      <td>kota</td>\n",
       "    </tr>\n",
       "  </tbody>\n",
       "</table>\n",
       "</div>"
      ],
      "text/plain": [
       "      Name  Age  Salary Id       Address  City\n",
       "0  shalini   45  500000  1  kacheri road  kota"
      ]
     },
     "execution_count": 18,
     "metadata": {},
     "output_type": "execute_result"
    }
   ],
   "source": [
    "df[(df[\"Salary\"] > 2000) & (df[\"City\"] == \"kota\")]"
   ]
  },
  {
   "cell_type": "code",
   "execution_count": null,
   "id": "7cfa9139",
   "metadata": {},
   "outputs": [],
   "source": []
  },
  {
   "cell_type": "code",
   "execution_count": 19,
   "id": "80235059",
   "metadata": {},
   "outputs": [
    {
     "data": {
      "text/plain": [
       "<Axes: >"
      ]
     },
     "execution_count": 19,
     "metadata": {},
     "output_type": "execute_result"
    },
    {
     "data": {
      "image/png": "[encoded data removed]",
      "text/plain": [
       "<Figure size 640x480 with 1 Axes>"
      ]
     },
     "metadata": {},
     "output_type": "display_data"
    }
   ],
   "source": [
    "df['Salary'].hist()"
   ]
  },
  {
   "cell_type": "code",
   "execution_count": 28,
   "id": "010a0166",
   "metadata": {},
   "outputs": [],
   "source": [
    "import matplotlib.pyplot as plt"
   ]
  },
  {
   "cell_type": "code",
   "execution_count": 42,
   "id": "74adee30",
   "metadata": {},
   "outputs": [
    {
     "data": {
      "text/plain": [
       "[]"
      ]
     },
     "execution_count": 42,
     "metadata": {},
     "output_type": "execute_result"
    },
    {
     "data": {
      "image/png": "[encoded data removed]",
      "text/plain": [
       "<Figure size 640x480 with 1 Axes>"
      ]
     },
     "metadata": {},
     "output_type": "display_data"
    }
   ],
   "source": [
    "plt.plot(x_label=\"Salary\",y_label=\"City\")"
   ]
  },
  {
   "cell_type": "code",
   "execution_count": 45,
   "id": "22942a3f",
   "metadata": {},
   "outputs": [
    {
     "data": {
      "text/plain": [
       "<Axes: title={'center': 'chart'}, ylabel='y-axis'>"
      ]
     },
     "execution_count": 45,
     "metadata": {},
     "output_type": "execute_result"
    },
    {
     "data": {
      "image/png": "[encoded data removed]",
      "text/plain": [
       "<Figure size 640x480 with 1 Axes>"
      ]
     },
     "metadata": {},
     "output_type": "display_data"
    }
   ],
   "source": [
    "df.plot(x=\"Salary\",y=\"Age\",kind=\"pie\",xlabel=\"x-axis\",ylabel=\"y-axis\",title=\"chart\")"
   ]
  },
  {
   "cell_type": "code",
   "execution_count": 54,
   "id": "9765a84c",
   "metadata": {},
   "outputs": [
    {
     "data": {
      "text/plain": [
       "array([500000, 890000, 450000, 780000], dtype=int64)"
      ]
     },
     "execution_count": 54,
     "metadata": {},
     "output_type": "execute_result"
    }
   ],
   "source": [
    "df[\"Salary\"].unique()"
   ]
  },
  {
   "cell_type": "code",
   "execution_count": 16,
   "id": "3a1233a0",
   "metadata": {},
   "outputs": [
    {
     "name": "stdout",
     "output_type": "stream",
     "text": [
      "#include <bits/stdc++.h>\n",
      "\n",
      "using namespace std;\n",
      "\n",
      "string ltrim(const string &);\n",
      "string rtrim(const string &);\n",
      "\n",
      "/*\n",
      " * Complete the 'isBalanced' function below.\n",
      " *\n",
      " * The function is expected to return a STRING.\n",
      " * The function accepts STRING s as parameter.\n",
      " */\n",
      "\n",
      "string isBalanced(string s) {\n",
      "      stack<char>st;\n",
      "      for(int i=0;i<s.length();i++){\n",
      "          if(s[i]=='{'||s[i]=='['||s[i]=='('){\n",
      "              st.push(s[i]);\n",
      "          }\n",
      "          else if(s[i] == ')' || s[i] == ']' || s[i] == '}') {\n",
      "            if(st.empty()) {\n",
      "                return \"NO\";\n",
      "            }\n",
      "\n",
      "            char top = st.top();\n",
      "            st.pop();\n",
      "\n",
      "            if((s[i] == ')' && top != '(') ||\n",
      "               (s[i] == ']' && top != '[') ||\n",
      "               (s[i] == '}' && top != '{')) {\n",
      "                return \"NO\";\n",
      "            }\n",
      "        }\n",
      "    }\n",
      "    return st.empty() ? \"YES\": \"NO\"; \n",
      "}\n",
      "\n",
      "\n",
      "int main()\n",
      "{\n",
      "    ofstream fout(getenv(\"OUTPUT_PATH\"));\n",
      "\n",
      "    string t_temp;\n",
      "    getline(cin, t_temp);\n",
      "\n",
      "    int t = stoi(ltrim(rtrim(t_temp)));\n",
      "\n",
      "    for (int t_itr = 0; t_itr < t; t_itr++) {\n",
      "        string s;\n",
      "        getline(cin, s);\n",
      "\n",
      "        string result = isBalanced(s);\n",
      "\n",
      "        fout << result << \"\\n\";\n",
      "    }\n",
      "\n",
      "    fout.close();\n",
      "\n",
      "    return 0;\n",
      "}\n",
      "\n",
      "string ltrim(const string &str) {\n",
      "    string s(str);\n",
      "\n",
      "    s.erase(\n",
      "        s.begin(),\n",
      "        find_if(s.begin(), s.end(), not1(ptr_fun<int, int>(isspace)))\n",
      "    );\n",
      "\n",
      "    return s;\n",
      "}\n",
      "\n",
      "string rtrim(const string &str) {\n",
      "    string s(str);\n",
      "\n",
      "    s.erase(\n",
      "        find_if(s.rbegin(), s.rend(), not1(ptr_fun<int, int>(isspace))).base(),\n",
      "        s.end()\n",
      "    );\n",
      "\n",
      "    return s;\n",
      "}\n",
      "\n"
     ]
    }
   ],
   "source": [
    "try:\n",
    "    file=open(r\"C:\\Users\\91787\\Desktop\\myFile.txt\",'r')\n",
    "    content=file.read()\n",
    "    print(content)\n",
    "    file.close()\n",
    "    \n",
    "except FileNotFoundError:\n",
    "    print(\"file is not found \")\n",
    "    "
   ]
  },
  {
   "cell_type": "code",
   "execution_count": 5,
   "id": "1cc7feb9",
   "metadata": {},
   "outputs": [
    {
     "name": "stdout",
     "output_type": "stream",
     "text": [
      "index not found\n"
     ]
    }
   ],
   "source": [
    "list=[1,2,3,4,5]\n",
    "try:\n",
    "    print(list[6])\n",
    "except IndexError:\n",
    "    print(\"index not found\")"
   ]
  },
  {
   "cell_type": "code",
   "execution_count": 8,
   "id": "fb06aa2f",
   "metadata": {},
   "outputs": [
    {
     "name": "stdout",
     "output_type": "stream",
     "text": [
      "key is not found \n"
     ]
    }
   ],
   "source": [
    "dict1={\"name\":\"riya\",\"rollno\":45,\"id\":1}\n",
    "try:\n",
    "    print(dict1[\"roll\"])\n",
    "except KeyError:\n",
    "    print(\"key is not found \")"
   ]
  },
  {
   "cell_type": "code",
   "execution_count": 30,
   "id": "cd161371",
   "metadata": {},
   "outputs": [
    {
     "name": "stdout",
     "output_type": "stream",
     "text": [
      "enter any no 4\n",
      "enter value of divisor 0\n",
      "division is not possible \n"
     ]
    }
   ],
   "source": [
    "try:\n",
    "    n=int(input(\"enter any no \"))\n",
    "    p=int(input(\"enter value of divisor \"))\n",
    "    result=n/p\n",
    "    print(result)\n",
    "except ZeroDivisionError:\n",
    "    print(\"division is not possible \")\n",
    "except ValueError:\n",
    "    print(\"please enter a valid input \")\n",
    "    "
   ]
  },
  {
   "cell_type": "code",
   "execution_count": 27,
   "id": "6efa99ad",
   "metadata": {},
   "outputs": [
    {
     "name": "stdout",
     "output_type": "stream",
     "text": [
      "jkdksjdsd\n"
     ]
    }
   ],
   "source": [
    "try:\n",
    "    file=open(r\"C:\\Users\\91787\\Desktop\\myFile.txt\",'r')\n",
    "    content=file.read()\n",
    "    print(content)\n",
    "    file.close()\n",
    "    \n",
    "except FileNotFoundError:\n",
    "    print(\"file is not found \")\n",
    "except IOError:\n",
    "    print(\"input output error\")"
   ]
  },
  {
   "cell_type": "code",
   "execution_count": 49,
   "id": "4b13dd5c",
   "metadata": {},
   "outputs": [
    {
     "name": "stdout",
     "output_type": "stream",
     "text": [
      "hello hello helloABCDEFGHIJK\n"
     ]
    }
   ],
   "source": [
    "file2=open(r\"C:\\Users\\91787\\Desktop\\test.txt\",'r')\n",
    "content=file2.read()\n",
    "print(content)\n",
    "file2.close()"
   ]
  },
  {
   "cell_type": "code",
   "execution_count": 14,
   "id": "14a45284",
   "metadata": {},
   "outputs": [],
   "source": [
    "with open(r\"C:\\Users\\91787\\Desktop\\test.txt\",'w') as file2:\n",
    "    file2.write(\"hello hello hello\")\n",
    "    \n"
   ]
  },
  {
   "cell_type": "code",
   "execution_count": 50,
   "id": "0529efe5",
   "metadata": {},
   "outputs": [],
   "source": [
    "with open(r\"C:\\Users\\91787\\Desktop\\test.txt\",'a') as file2:\n",
    "    file2.write(\"ABCDEFGHIJK\")"
   ]
  },
  {
   "cell_type": "code",
   "execution_count": 52,
   "id": "8e6bc143",
   "metadata": {},
   "outputs": [
    {
     "data": {
      "text/html": [
       "<div>\n",
       "<style scoped>\n",
       "    .dataframe tbody tr th:only-of-type {\n",
       "        vertical-align: middle;\n",
       "    }\n",
       "\n",
       "    .dataframe tbody tr th {\n",
       "        vertical-align: top;\n",
       "    }\n",
       "\n",
       "    .dataframe thead th {\n",
       "        text-align: right;\n",
       "    }\n",
       "</style>\n",
       "<table border=\"1\" class=\"dataframe\">\n",
       "  <thead>\n",
       "    <tr style=\"text-align: right;\">\n",
       "      <th></th>\n",
       "      <th>id</th>\n",
       "      <th>salary</th>\n",
       "      <th>city</th>\n",
       "      <th>address</th>\n",
       "      <th>post</th>\n",
       "    </tr>\n",
       "  </thead>\n",
       "  <tbody>\n",
       "    <tr>\n",
       "      <th>0</th>\n",
       "      <td>1</td>\n",
       "      <td>450000</td>\n",
       "      <td>ajmer</td>\n",
       "      <td>ganpati nagar</td>\n",
       "      <td>IT officer</td>\n",
       "    </tr>\n",
       "    <tr>\n",
       "      <th>1</th>\n",
       "      <td>2</td>\n",
       "      <td>4700000</td>\n",
       "      <td>jaipur</td>\n",
       "      <td>vigyan nagar</td>\n",
       "      <td>HOD</td>\n",
       "    </tr>\n",
       "    <tr>\n",
       "      <th>2</th>\n",
       "      <td>3</td>\n",
       "      <td>47000</td>\n",
       "      <td>kota</td>\n",
       "      <td>nandi nagar</td>\n",
       "      <td>AI engineer</td>\n",
       "    </tr>\n",
       "    <tr>\n",
       "      <th>3</th>\n",
       "      <td>4</td>\n",
       "      <td>23000</td>\n",
       "      <td>bangaluru</td>\n",
       "      <td>narayani nagar</td>\n",
       "      <td>backend developer</td>\n",
       "    </tr>\n",
       "    <tr>\n",
       "      <th>4</th>\n",
       "      <td>5</td>\n",
       "      <td>63333</td>\n",
       "      <td>beawar</td>\n",
       "      <td>sarojini nagar</td>\n",
       "      <td>NaN</td>\n",
       "    </tr>\n",
       "  </tbody>\n",
       "</table>\n",
       "</div>"
      ],
      "text/plain": [
       "   id   salary       city         address               post\n",
       "0   1   450000      ajmer   ganpati nagar         IT officer\n",
       "1   2  4700000     jaipur    vigyan nagar                HOD\n",
       "2   3    47000       kota     nandi nagar        AI engineer\n",
       "3   4    23000  bangaluru  narayani nagar  backend developer\n",
       "4   5    63333     beawar  sarojini nagar                NaN"
      ]
     },
     "execution_count": 52,
     "metadata": {},
     "output_type": "execute_result"
    }
   ],
   "source": [
    "import pandas as pd\n",
    "df=pd.read_csv(\"nascomm.csv\")\n",
    "df"
   ]
  },
  {
   "cell_type": "code",
   "execution_count": 53,
   "id": "c1acfce6",
   "metadata": {},
   "outputs": [
    {
     "data": {
      "text/html": [
       "<div>\n",
       "<style scoped>\n",
       "    .dataframe tbody tr th:only-of-type {\n",
       "        vertical-align: middle;\n",
       "    }\n",
       "\n",
       "    .dataframe tbody tr th {\n",
       "        vertical-align: top;\n",
       "    }\n",
       "\n",
       "    .dataframe thead th {\n",
       "        text-align: right;\n",
       "    }\n",
       "</style>\n",
       "<table border=\"1\" class=\"dataframe\">\n",
       "  <thead>\n",
       "    <tr style=\"text-align: right;\">\n",
       "      <th></th>\n",
       "      <th>id</th>\n",
       "      <th>salary</th>\n",
       "      <th>city</th>\n",
       "      <th>address</th>\n",
       "      <th>post</th>\n",
       "    </tr>\n",
       "  </thead>\n",
       "  <tbody>\n",
       "    <tr>\n",
       "      <th>0</th>\n",
       "      <td>1</td>\n",
       "      <td>450000</td>\n",
       "      <td>ajmer</td>\n",
       "      <td>ganpati nagar</td>\n",
       "      <td>IT officer</td>\n",
       "    </tr>\n",
       "    <tr>\n",
       "      <th>1</th>\n",
       "      <td>2</td>\n",
       "      <td>4700000</td>\n",
       "      <td>jaipur</td>\n",
       "      <td>vigyan nagar</td>\n",
       "      <td>HOD</td>\n",
       "    </tr>\n",
       "    <tr>\n",
       "      <th>2</th>\n",
       "      <td>3</td>\n",
       "      <td>47000</td>\n",
       "      <td>kota</td>\n",
       "      <td>nandi nagar</td>\n",
       "      <td>AI engineer</td>\n",
       "    </tr>\n",
       "    <tr>\n",
       "      <th>3</th>\n",
       "      <td>4</td>\n",
       "      <td>23000</td>\n",
       "      <td>bangaluru</td>\n",
       "      <td>narayani nagar</td>\n",
       "      <td>backend developer</td>\n",
       "    </tr>\n",
       "    <tr>\n",
       "      <th>4</th>\n",
       "      <td>5</td>\n",
       "      <td>63333</td>\n",
       "      <td>beawar</td>\n",
       "      <td>sarojini nagar</td>\n",
       "      <td>0</td>\n",
       "    </tr>\n",
       "  </tbody>\n",
       "</table>\n",
       "</div>"
      ],
      "text/plain": [
       "   id   salary       city         address               post\n",
       "0   1   450000      ajmer   ganpati nagar         IT officer\n",
       "1   2  4700000     jaipur    vigyan nagar                HOD\n",
       "2   3    47000       kota     nandi nagar        AI engineer\n",
       "3   4    23000  bangaluru  narayani nagar  backend developer\n",
       "4   5    63333     beawar  sarojini nagar                  0"
      ]
     },
     "execution_count": 53,
     "metadata": {},
     "output_type": "execute_result"
    }
   ],
   "source": [
    "df.fillna(0)"
   ]
  },
  {
   "cell_type": "code",
   "execution_count": 54,
   "id": "aed198fe",
   "metadata": {},
   "outputs": [
    {
     "data": {
      "text/plain": [
       "<Axes: xlabel='id'>"
      ]
     },
     "execution_count": 54,
     "metadata": {},
     "output_type": "execute_result"
    },
    {
     "data": {
      "image/png": "[encoded data removed]",
      "text/plain": [
       "<Figure size 640x480 with 1 Axes>"
      ]
     },
     "metadata": {},
     "output_type": "display_data"
    }
   ],
   "source": [
    "df.plot(x=\"id\",y=\"salary\",kind=\"bar\")"
   ]
  },
  {
   "cell_type": "code",
   "execution_count": 55,
   "id": "8a695d2a",
   "metadata": {},
   "outputs": [
    {
     "data": {
      "text/plain": [
       "<Axes: xlabel='id'>"
      ]
     },
     "execution_count": 55,
     "metadata": {},
     "output_type": "execute_result"
    },
    {
     "data": {
      "image/png": "[encoded data removed]",
      "text/plain": [
       "<Figure size 640x480 with 1 Axes>"
      ]
     },
     "metadata": {},
     "output_type": "display_data"
    }
   ],
   "source": [
    "df.plot(x=\"id\",y=\"salary\",kind=\"line\")"
   ]
  },
  {
   "cell_type": "code",
   "execution_count": 56,
   "id": "95ea8b8b",
   "metadata": {},
   "outputs": [
    {
     "name": "stdout",
     "output_type": "stream",
     "text": [
      "enter value of a4\n",
      "enter value of divisor 0\n",
      "cannot divide by zero\n"
     ]
    }
   ],
   "source": [
    "try:\n",
    "    a=int(input(\"enter value of a\"))\n",
    "    b=int(input(\"enter value of divisor \"))\n",
    "    result=a/b\n",
    "    print(result)\n",
    "except ZeroDivisionError:\n",
    "    print(\"cannot divide by zero\")"
   ]
  },
  {
   "cell_type": "code",
   "execution_count": 57,
   "id": "66fcba52",
   "metadata": {},
   "outputs": [
    {
     "name": "stdout",
     "output_type": "stream",
     "text": [
      "enter value of a4\n",
      "enter value  of  divisor k\n",
      " value entered is invalid  \n"
     ]
    }
   ],
   "source": [
    "try:\n",
    "    a=int(input(\"enter value of a\"))\n",
    "    b=int(input(\"enter value  of  divisor \"))\n",
    "    print(a/b)\n",
    "except ValueError:\n",
    "    print(\" value entered is invalid  \")"
   ]
  },
  {
   "cell_type": "code",
   "execution_count": 63,
   "id": "c3b0dc9e",
   "metadata": {},
   "outputs": [
    {
     "name": "stdout",
     "output_type": "stream",
     "text": [
      "hghjffhjjkhkh\n"
     ]
    }
   ],
   "source": [
    "\n",
    "try:\n",
    "    file5=open(r\"C:\\Users\\91787\\Desktop\\test2.txt\",'r')\n",
    "    \n",
    "    con=file5.read()\n",
    "    print(con)\n",
    "    file5.close()\n",
    "    \n",
    "except IOError:\n",
    "    print(\" input output error \")\n",
    "except FileNotFoundError:\n",
    "    print(\"file not found \")\n",
    "    \n",
    "    "
   ]
  },
  {
   "cell_type": "code",
   "execution_count": 1,
   "id": "6dafba11",
   "metadata": {},
   "outputs": [],
   "source": [
    "import numpy as np"
   ]
  },
  {
   "cell_type": "code",
   "execution_count": 2,
   "id": "cdb0f80a",
   "metadata": {},
   "outputs": [
    {
     "data": {
      "text/plain": [
       "array([4, 2, 1, 5])"
      ]
     },
     "execution_count": 2,
     "metadata": {},
     "output_type": "execute_result"
    }
   ],
   "source": [
    "arr=np.array([4,2,1,5])\n",
    "arr"
   ]
  },
  {
   "cell_type": "code",
   "execution_count": 5,
   "id": "1a7636eb",
   "metadata": {},
   "outputs": [
    {
     "data": {
      "text/plain": [
       "array([[1, 2, 3],\n",
       "       [4, 5, 6]])"
      ]
     },
     "execution_count": 5,
     "metadata": {},
     "output_type": "execute_result"
    }
   ],
   "source": [
    "arr2=np.array([[1,2,3],[4,5,6]])\n",
    "arr2"
   ]
  },
  {
   "cell_type": "code",
   "execution_count": 8,
   "id": "e21d858f",
   "metadata": {},
   "outputs": [
    {
     "data": {
      "text/plain": [
       "array([[0., 0., 0.],\n",
       "       [0., 0., 0.]])"
      ]
     },
     "execution_count": 8,
     "metadata": {},
     "output_type": "execute_result"
    }
   ],
   "source": [
    "arr3=np.zeros((2,3))\n",
    "arr3"
   ]
  },
  {
   "cell_type": "code",
   "execution_count": 10,
   "id": "056b9f0f",
   "metadata": {},
   "outputs": [
    {
     "data": {
      "text/plain": [
       "array([[1., 1.],\n",
       "       [1., 1.]])"
      ]
     },
     "execution_count": 10,
     "metadata": {},
     "output_type": "execute_result"
    }
   ],
   "source": [
    "arr5=np.ones((2,2))\n",
    "arr5"
   ]
  },
  {
   "cell_type": "code",
   "execution_count": 11,
   "id": "5985f71f",
   "metadata": {},
   "outputs": [
    {
     "data": {
      "text/plain": [
       "array([[10, 10, 10],\n",
       "       [12, 10,  8]])"
      ]
     },
     "execution_count": 11,
     "metadata": {},
     "output_type": "execute_result"
    }
   ],
   "source": [
    "arr6=np.array([[1,2,3],[4,5,6]])\n",
    "arr7=np.array([[9,8,7],[8,5,2]])\n",
    "result=arr6+arr7\n",
    "result"
   ]
  },
  {
   "cell_type": "code",
   "execution_count": 12,
   "id": "e495382d",
   "metadata": {},
   "outputs": [
    {
     "data": {
      "text/plain": [
       "array([[ 9, 16],\n",
       "       [32, 10]])"
      ]
     },
     "execution_count": 12,
     "metadata": {},
     "output_type": "execute_result"
    }
   ],
   "source": [
    "# multiplying two arrays \n",
    "arr6=np.array([[1,2],[4,5]])\n",
    "arr7=np.array([[9,8],[8,2]])\n",
    "result=arr6*arr7\n",
    "result"
   ]
  },
  {
   "cell_type": "code",
   "execution_count": 22,
   "id": "c2799798",
   "metadata": {},
   "outputs": [
    {
     "data": {
      "text/plain": [
       "array([[0, 1, 2],\n",
       "       [3, 4, 5],\n",
       "       [6, 7, 8]])"
      ]
     },
     "execution_count": 22,
     "metadata": {},
     "output_type": "execute_result"
    }
   ],
   "source": [
    "arr8=np.arange(9).reshape(3,3)\n",
    "arr8"
   ]
  },
  {
   "cell_type": "code",
   "execution_count": 23,
   "id": "ace69189",
   "metadata": {},
   "outputs": [
    {
     "data": {
      "text/plain": [
       "array([0.        , 0.69314718, 1.60943791, 1.79175947, 1.94591015])"
      ]
     },
     "execution_count": 23,
     "metadata": {},
     "output_type": "execute_result"
    }
   ],
   "source": [
    "arr36=np.array([1,2,5,6,7])\n",
    "log_val=np.log(arr36)\n",
    "log_val"
   ]
  },
  {
   "cell_type": "code",
   "execution_count": 24,
   "id": "43e22cea",
   "metadata": {},
   "outputs": [
    {
     "data": {
      "text/plain": [
       "array([   2.71828183,    7.3890561 ,  148.4131591 ,  403.42879349,\n",
       "       1096.63315843])"
      ]
     },
     "execution_count": 24,
     "metadata": {},
     "output_type": "execute_result"
    }
   ],
   "source": [
    "arr36=np.array([1,2,5,6,7])\n",
    "exp_val=np.exp(arr36)\n",
    "exp_val"
   ]
  },
  {
   "cell_type": "code",
   "execution_count": 34,
   "id": "ae6d1605",
   "metadata": {},
   "outputs": [
    {
     "data": {
      "text/plain": [
       "array([12])"
      ]
     },
     "execution_count": 34,
     "metadata": {},
     "output_type": "execute_result"
    }
   ],
   "source": [
    "ar=np.array([[12,2],[5,6]])\n",
    "sli=ar[0,0:1]\n",
    "sli"
   ]
  },
  {
   "cell_type": "code",
   "execution_count": 37,
   "id": "3410f7ef",
   "metadata": {},
   "outputs": [
    {
     "data": {
      "text/plain": [
       "2.3151673805580453"
      ]
     },
     "execution_count": 37,
     "metadata": {},
     "output_type": "execute_result"
    }
   ],
   "source": [
    "arr36=np.array([1,2,5,6,7])\n",
    "res=np.std(arr36)\n",
    "res"
   ]
  },
  {
   "cell_type": "code",
   "execution_count": 42,
   "id": "b5ffc4dc",
   "metadata": {},
   "outputs": [
    {
     "ename": "NameError",
     "evalue": "name 'stats' is not defined",
     "output_type": "error",
     "traceback": [
      "\u001b[1;31m---------------------------------------------------------------------------\u001b[0m",
      "\u001b[1;31mNameError\u001b[0m                                 Traceback (most recent call last)",
      "Cell \u001b[1;32mIn[42], line 3\u001b[0m\n\u001b[0;32m      1\u001b[0m \u001b[38;5;28;01mfrom\u001b[39;00m \u001b[38;5;21;01mscipy\u001b[39;00m\u001b[38;5;21;01m.\u001b[39;00m\u001b[38;5;21;01mstats\u001b[39;00m \u001b[38;5;28;01mimport\u001b[39;00m mode\n\u001b[0;32m      2\u001b[0m arrr\u001b[38;5;241m=\u001b[39mnp\u001b[38;5;241m.\u001b[39marray([\u001b[38;5;241m2\u001b[39m,\u001b[38;5;241m5\u001b[39m,\u001b[38;5;241m5\u001b[39m,\u001b[38;5;241m4\u001b[39m])\n\u001b[1;32m----> 3\u001b[0m mo\u001b[38;5;241m=\u001b[39mstats\u001b[38;5;241m.\u001b[39mmode(arrr)\n\u001b[0;32m      4\u001b[0m mo\n",
      "\u001b[1;31mNameError\u001b[0m: name 'stats' is not defined"
     ]
    }
   ],
   "source": [
    "from scipy.stats import mode\n",
    "arrr=np.array([2,5,5,4])\n",
    "mo=stats.mode(arrr)\n",
    "mo"
   ]
  },
  {
   "cell_type": "code",
   "execution_count": 2,
   "id": "5dc8a157",
   "metadata": {},
   "outputs": [
    {
     "data": {
      "text/plain": [
       "array([[105,  18],\n",
       "       [210,  36]])"
      ]
     },
     "execution_count": 2,
     "metadata": {},
     "output_type": "execute_result"
    }
   ],
   "source": [
    "import numpy as np\n",
    "arr=np.array([[2,3],[4,6]])\n",
    "arr2=np.array([[45,3],[5,4]])\n",
    "res=np.dot(arr,arr2)\n",
    "res"
   ]
  },
  {
   "cell_type": "code",
   "execution_count": 3,
   "id": "380b2d3b",
   "metadata": {},
   "outputs": [
    {
     "data": {
      "text/plain": [
       "array([[105,  18],\n",
       "       [210,  36]])"
      ]
     },
     "execution_count": 3,
     "metadata": {},
     "output_type": "execute_result"
    }
   ],
   "source": [
    "arr=np.array([[2,3],[4,6]])\n",
    "arr2=np.array([[45,3],[5,4]])\n",
    "res=arr@arr2\n",
    "res"
   ]
  },
  {
   "cell_type": "code",
   "execution_count": 11,
   "id": "ab43bf15",
   "metadata": {},
   "outputs": [
    {
     "ename": "LinAlgError",
     "evalue": "Singular matrix",
     "output_type": "error",
     "traceback": [
      "\u001b[1;31m---------------------------------------------------------------------------\u001b[0m",
      "\u001b[1;31mLinAlgError\u001b[0m                               Traceback (most recent call last)",
      "Cell \u001b[1;32mIn[11], line 2\u001b[0m\n\u001b[0;32m      1\u001b[0m arr\u001b[38;5;241m=\u001b[39mnp\u001b[38;5;241m.\u001b[39marray([[\u001b[38;5;241m2\u001b[39m,\u001b[38;5;241m3\u001b[39m],[\u001b[38;5;241m4\u001b[39m,\u001b[38;5;241m6\u001b[39m]])\n\u001b[1;32m----> 2\u001b[0m inverse1\u001b[38;5;241m=\u001b[39mnp\u001b[38;5;241m.\u001b[39mlinalg\u001b[38;5;241m.\u001b[39minv(arr)\n\u001b[0;32m      3\u001b[0m inverse1\n",
      "File \u001b[1;32m<__array_function__ internals>:200\u001b[0m, in \u001b[0;36minv\u001b[1;34m(*args, **kwargs)\u001b[0m\n",
      "File \u001b[1;32m~\\anaconda3\\Lib\\site-packages\\numpy\\linalg\\linalg.py:538\u001b[0m, in \u001b[0;36minv\u001b[1;34m(a)\u001b[0m\n\u001b[0;32m    536\u001b[0m signature \u001b[38;5;241m=\u001b[39m \u001b[38;5;124m'\u001b[39m\u001b[38;5;124mD->D\u001b[39m\u001b[38;5;124m'\u001b[39m \u001b[38;5;28;01mif\u001b[39;00m isComplexType(t) \u001b[38;5;28;01melse\u001b[39;00m \u001b[38;5;124m'\u001b[39m\u001b[38;5;124md->d\u001b[39m\u001b[38;5;124m'\u001b[39m\n\u001b[0;32m    537\u001b[0m extobj \u001b[38;5;241m=\u001b[39m get_linalg_error_extobj(_raise_linalgerror_singular)\n\u001b[1;32m--> 538\u001b[0m ainv \u001b[38;5;241m=\u001b[39m _umath_linalg\u001b[38;5;241m.\u001b[39minv(a, signature\u001b[38;5;241m=\u001b[39msignature, extobj\u001b[38;5;241m=\u001b[39mextobj)\n\u001b[0;32m    539\u001b[0m \u001b[38;5;28;01mreturn\u001b[39;00m wrap(ainv\u001b[38;5;241m.\u001b[39mastype(result_t, copy\u001b[38;5;241m=\u001b[39m\u001b[38;5;28;01mFalse\u001b[39;00m))\n",
      "File \u001b[1;32m~\\anaconda3\\Lib\\site-packages\\numpy\\linalg\\linalg.py:89\u001b[0m, in \u001b[0;36m_raise_linalgerror_singular\u001b[1;34m(err, flag)\u001b[0m\n\u001b[0;32m     88\u001b[0m \u001b[38;5;28;01mdef\u001b[39;00m \u001b[38;5;21m_raise_linalgerror_singular\u001b[39m(err, flag):\n\u001b[1;32m---> 89\u001b[0m     \u001b[38;5;28;01mraise\u001b[39;00m LinAlgError(\u001b[38;5;124m\"\u001b[39m\u001b[38;5;124mSingular matrix\u001b[39m\u001b[38;5;124m\"\u001b[39m)\n",
      "\u001b[1;31mLinAlgError\u001b[0m: Singular matrix"
     ]
    }
   ],
   "source": [
    "arr=np.array([[2,3],[4,6]])\n",
    "inverse1=np.linalg.inv(arr)\n",
    "inverse1"
   ]
  },
  {
   "cell_type": "code",
   "execution_count": 17,
   "id": "81e782b3",
   "metadata": {
    "scrolled": true
   },
   "outputs": [
    {
     "ename": "LinAlgError",
     "evalue": "Singular matrix",
     "output_type": "error",
     "traceback": [
      "\u001b[1;31m---------------------------------------------------------------------------\u001b[0m",
      "\u001b[1;31mLinAlgError\u001b[0m                               Traceback (most recent call last)",
      "Cell \u001b[1;32mIn[17], line 3\u001b[0m\n\u001b[0;32m      1\u001b[0m arr9\u001b[38;5;241m=\u001b[39mnp\u001b[38;5;241m.\u001b[39marray([[\u001b[38;5;241m2\u001b[39m,\u001b[38;5;241m3\u001b[39m],[\u001b[38;5;241m4\u001b[39m,\u001b[38;5;241m6\u001b[39m]])\n\u001b[0;32m      2\u001b[0m arr7\u001b[38;5;241m=\u001b[39mnp\u001b[38;5;241m.\u001b[39marray([[\u001b[38;5;241m7\u001b[39m,\u001b[38;5;241m8\u001b[39m],[\u001b[38;5;241m6\u001b[39m,\u001b[38;5;241m9\u001b[39m]])\n\u001b[1;32m----> 3\u001b[0m pe\u001b[38;5;241m=\u001b[39mnp\u001b[38;5;241m.\u001b[39mlinalg\u001b[38;5;241m.\u001b[39msolve(arr9,arr7)\n\u001b[0;32m      4\u001b[0m pe\n",
      "File \u001b[1;32m<__array_function__ internals>:200\u001b[0m, in \u001b[0;36msolve\u001b[1;34m(*args, **kwargs)\u001b[0m\n",
      "File \u001b[1;32m~\\anaconda3\\Lib\\site-packages\\numpy\\linalg\\linalg.py:386\u001b[0m, in \u001b[0;36msolve\u001b[1;34m(a, b)\u001b[0m\n\u001b[0;32m    384\u001b[0m signature \u001b[38;5;241m=\u001b[39m \u001b[38;5;124m'\u001b[39m\u001b[38;5;124mDD->D\u001b[39m\u001b[38;5;124m'\u001b[39m \u001b[38;5;28;01mif\u001b[39;00m isComplexType(t) \u001b[38;5;28;01melse\u001b[39;00m \u001b[38;5;124m'\u001b[39m\u001b[38;5;124mdd->d\u001b[39m\u001b[38;5;124m'\u001b[39m\n\u001b[0;32m    385\u001b[0m extobj \u001b[38;5;241m=\u001b[39m get_linalg_error_extobj(_raise_linalgerror_singular)\n\u001b[1;32m--> 386\u001b[0m r \u001b[38;5;241m=\u001b[39m gufunc(a, b, signature\u001b[38;5;241m=\u001b[39msignature, extobj\u001b[38;5;241m=\u001b[39mextobj)\n\u001b[0;32m    388\u001b[0m \u001b[38;5;28;01mreturn\u001b[39;00m wrap(r\u001b[38;5;241m.\u001b[39mastype(result_t, copy\u001b[38;5;241m=\u001b[39m\u001b[38;5;28;01mFalse\u001b[39;00m))\n",
      "File \u001b[1;32m~\\anaconda3\\Lib\\site-packages\\numpy\\linalg\\linalg.py:89\u001b[0m, in \u001b[0;36m_raise_linalgerror_singular\u001b[1;34m(err, flag)\u001b[0m\n\u001b[0;32m     88\u001b[0m \u001b[38;5;28;01mdef\u001b[39;00m \u001b[38;5;21m_raise_linalgerror_singular\u001b[39m(err, flag):\n\u001b[1;32m---> 89\u001b[0m     \u001b[38;5;28;01mraise\u001b[39;00m LinAlgError(\u001b[38;5;124m\"\u001b[39m\u001b[38;5;124mSingular matrix\u001b[39m\u001b[38;5;124m\"\u001b[39m)\n",
      "\u001b[1;31mLinAlgError\u001b[0m: Singular matrix"
     ]
    }
   ],
   "source": [
    "arr9=np.array([[2,3],[4,6]])\n",
    "arr7=np.array([[7,8],[6,9]])\n",
    "pe=np.linalg.solve(arr9,arr7)\n",
    "pe"
   ]
  },
  {
   "cell_type": "code",
   "execution_count": 14,
   "id": "42a9a6fd",
   "metadata": {},
   "outputs": [
    {
     "data": {
      "text/plain": [
       "-343.99999999999994"
      ]
     },
     "execution_count": 14,
     "metadata": {},
     "output_type": "execute_result"
    }
   ],
   "source": [
    "\n",
    "# determinant of matrix \n",
    "arr5=np.array([[2,89],[4,6]])\n",
    "deter=np.linalg.det(arr5)\n",
    "deter"
   ]
  },
  {
   "cell_type": "code",
   "execution_count": 19,
   "id": "cb1e92c3",
   "metadata": {},
   "outputs": [],
   "source": [
    "import random as rn"
   ]
  },
  {
   "cell_type": "code",
   "execution_count": 24,
   "id": "33f41cd8",
   "metadata": {},
   "outputs": [],
   "source": [
    "# generate a random value between 0 to 1\n",
    "random_number=rn.random()"
   ]
  },
  {
   "cell_type": "code",
   "execution_count": 27,
   "id": "fa4c542e",
   "metadata": {},
   "outputs": [
    {
     "data": {
      "text/plain": [
       "0.4260956492600355"
      ]
     },
     "execution_count": 27,
     "metadata": {},
     "output_type": "execute_result"
    }
   ],
   "source": [
    "random_number"
   ]
  },
  {
   "cell_type": "code",
   "execution_count": 28,
   "id": "bce8da5d",
   "metadata": {},
   "outputs": [
    {
     "name": "stdout",
     "output_type": "stream",
     "text": [
      "56\n"
     ]
    }
   ],
   "source": [
    "rand=rn.randint(1,60)\n",
    "print(rand)"
   ]
  },
  {
   "cell_type": "code",
   "execution_count": 29,
   "id": "40556f1f",
   "metadata": {},
   "outputs": [
    {
     "data": {
      "text/plain": [
       "22"
      ]
     },
     "execution_count": 29,
     "metadata": {},
     "output_type": "execute_result"
    }
   ],
   "source": [
    "#start stop step\n",
    "rand1=rn.randrange(0,100,2)\n",
    "rand1"
   ]
  },
  {
   "cell_type": "code",
   "execution_count": 32,
   "id": "89d6f860",
   "metadata": {},
   "outputs": [
    {
     "data": {
      "text/plain": [
       "'banana'"
      ]
     },
     "execution_count": 32,
     "metadata": {},
     "output_type": "execute_result"
    }
   ],
   "source": [
    "lis=[\"apple\",\"banana\",\"orange\",\"grapes\"]\n",
    "rand=rn.choice(lis)\n",
    "rand"
   ]
  },
  {
   "cell_type": "code",
   "execution_count": 38,
   "id": "f5d83fbc",
   "metadata": {},
   "outputs": [
    {
     "data": {
      "text/plain": [
       "['apple', 'banana', 'orange', 'grapes']"
      ]
     },
     "execution_count": 38,
     "metadata": {},
     "output_type": "execute_result"
    }
   ],
   "source": [
    "# shuffle function in random library\n",
    "lis2=[\"apple\",\"banana\",\"orange\",\"grapes\"]\n",
    "rand=rn.shuffle(lis2)\n",
    "lis2"
   ]
  },
  {
   "cell_type": "code",
   "execution_count": 42,
   "id": "d13db870",
   "metadata": {},
   "outputs": [
    {
     "name": "stdout",
     "output_type": "stream",
     "text": [
      "[9, 1]\n",
      "[7, 9]\n"
     ]
    }
   ],
   "source": [
    "r,c=2,2\n",
    "random_arr=[[rn.randint(1,10) for _ in range(r)] for _ in range(c)]\n",
    "for r in random_arr:\n",
    "    print(r)"
   ]
  },
  {
   "cell_type": "code",
   "execution_count": 2,
   "id": "2f28ad73",
   "metadata": {},
   "outputs": [],
   "source": [
    "import random as rn"
   ]
  },
  {
   "cell_type": "code",
   "execution_count": 10,
   "id": "cbb14c79",
   "metadata": {},
   "outputs": [
    {
     "name": "stdout",
     "output_type": "stream",
     "text": [
      "enter your choice head or tail-> head\n",
      "toss output = head\n",
      "you win the toss \n"
     ]
    }
   ],
   "source": [
    "def coin_toss():\n",
    "    result=rn.choice(['head','tail'])\n",
    "    return result\n",
    " \n",
    "    \n",
    "def main():\n",
    "    user_choice=input(\"enter your choice head or tail-> \")\n",
    "    toss_result=coin_toss()\n",
    "    print(\"toss output =\",toss_result)\n",
    "    \n",
    "    if(user_choice== toss_result):\n",
    "        print(\"you win the toss \")\n",
    "    else:\n",
    "        print(\"you lost the toss \")\n",
    "        \n",
    "if __name__==\"__main__\":\n",
    "    main()\n"
   ]
  },
  {
   "cell_type": "code",
   "execution_count": 15,
   "id": "a6535a86",
   "metadata": {},
   "outputs": [
    {
     "name": "stdout",
     "output_type": "stream",
     "text": [
      "please enter any button to roll the diceh\n",
      "you got a number  4\n",
      "do you want to roll again enter yes or no ->yes\n",
      "please enter any button to roll the dice\n",
      "you got a number  6\n",
      "do you want to roll again enter yes or no ->no\n",
      "thanks for playing \n",
      "welcome to the dice game \n"
     ]
    }
   ],
   "source": [
    "# dice roller\n",
    "def dice():\n",
    "    return rn.randint(1,6)\n",
    "\n",
    "def main():\n",
    "    print(\"welcome to the dice game \")\n",
    "    \n",
    "while(True):\n",
    "        \n",
    "        input(\"please enter any button to roll the dice\")\n",
    "        result=dice()\n",
    "        print(\"you got a number \", result)\n",
    "        play=input(\"do you want to roll again enter yes or no ->\")\n",
    "        if(play!=\"yes\"):\n",
    "            print(\"thanks for playing \")\n",
    "            break\n",
    "if __name__==\"__main__\":\n",
    "    main()\n",
    "        \n"
   ]
  },
  {
   "cell_type": "code",
   "execution_count": 23,
   "id": "7329bc48",
   "metadata": {},
   "outputs": [
    {
     "name": "stdout",
     "output_type": "stream",
     "text": [
      "welcome to stone paper scissor game \n"
     ]
    },
    {
     "ename": "UnboundLocalError",
     "evalue": "cannot access local variable 'user_choice' where it is not associated with a value",
     "output_type": "error",
     "traceback": [
      "\u001b[1;31m---------------------------------------------------------------------------\u001b[0m",
      "\u001b[1;31mUnboundLocalError\u001b[0m                         Traceback (most recent call last)",
      "Cell \u001b[1;32mIn[23], line 44\u001b[0m\n\u001b[0;32m     36\u001b[0m             \u001b[38;5;28;01mbreak\u001b[39;00m\n\u001b[0;32m     43\u001b[0m \u001b[38;5;28;01mif\u001b[39;00m \u001b[38;5;18m__name__\u001b[39m\u001b[38;5;241m==\u001b[39m\u001b[38;5;124m\"\u001b[39m\u001b[38;5;124m__main__\u001b[39m\u001b[38;5;124m\"\u001b[39m:\n\u001b[1;32m---> 44\u001b[0m     main()\n",
      "Cell \u001b[1;32mIn[23], line 28\u001b[0m, in \u001b[0;36mmain\u001b[1;34m()\u001b[0m\n\u001b[0;32m     26\u001b[0m \u001b[38;5;28mprint\u001b[39m(\u001b[38;5;124m\"\u001b[39m\u001b[38;5;124mwelcome to stone paper scissor game \u001b[39m\u001b[38;5;124m\"\u001b[39m)\n\u001b[0;32m     27\u001b[0m \u001b[38;5;28;01mwhile\u001b[39;00m(\u001b[38;5;28;01mTrue\u001b[39;00m):\n\u001b[1;32m---> 28\u001b[0m     user_choice\u001b[38;5;241m=\u001b[39muser_choice()\n\u001b[0;32m     29\u001b[0m     computer_choice\u001b[38;5;241m=\u001b[39mcomputer_choice()\n\u001b[0;32m     30\u001b[0m     \u001b[38;5;28mprint\u001b[39m(\u001b[38;5;124m\"\u001b[39m\u001b[38;5;124myou choose \u001b[39m\u001b[38;5;124m\"\u001b[39m, user_choice)\n",
      "\u001b[1;31mUnboundLocalError\u001b[0m: cannot access local variable 'user_choice' where it is not associated with a value"
     ]
    }
   ],
   "source": [
    "#wap to create stone paper scissor\n",
    "\n",
    "def user_choice():\n",
    "    user_choice=input(\"enter your choice (stone ,paper, scissor)->\").lower()\n",
    "    while user_choice not in [\"stone\",\"paper\",\"scissor\"]:\n",
    "        print(\"invalid input please choose again \")\n",
    "        user_choice=input(\"enter your choice (stone ,paper, scissor)->\").lower()\n",
    "    return user_choice\n",
    "    \n",
    "    \n",
    "def computer_choice():\n",
    "    return random.choice([\"stone\",\"paper\",\"scissor\"])\n",
    "\n",
    "\n",
    "def winner(user_input,computer_input):\n",
    "    if(user_input==computer_input):\n",
    "        return \"match is tie \"\n",
    "    elif((user_input==\"stone\" and computer_input==\"scissor\") or (user_input==\"paper\" and computer_input==\"stone\") or (user_input==\"scissor\" and computer_input==\"paper\")):\n",
    "        \n",
    "        print(\"user win the game \")\n",
    "    else:\n",
    "        return \"sorry you lost \"\n",
    "\n",
    "    \n",
    "def main():\n",
    "    print(\"welcome to stone paper scissor game \")\n",
    "    while(True):\n",
    "        user_choice=user_choice()\n",
    "        computer_choice=computer_choice()\n",
    "        print(\"you choose \", user_choice)\n",
    "        print(\"computer choice \",computer_choice)\n",
    "        winner(user_choice,computer_choice)\n",
    "        play_again=input(\"do you want to play again enter yes or no->\").lower()\n",
    "        if(play_again==\"no\"):\n",
    "            print(\"thanks for playing \")\n",
    "            break\n",
    "            \n",
    "        \n",
    "        \n",
    "        \n",
    "        \n",
    "        \n",
    "if __name__==\"__main__\":\n",
    "    main()\n",
    "              "
   ]
  },
  {
   "cell_type": "code",
   "execution_count": 1,
   "id": "8aa21823",
   "metadata": {},
   "outputs": [
    {
     "name": "stdout",
     "output_type": "stream",
     "text": [
      "sssss\n"
     ]
    }
   ],
   "source": [
    "class details:\n",
    "    name=\"sssss\"\n",
    "    rollno=4\n",
    "\n",
    "obj=details()\n",
    "print(obj.name)"
   ]
  },
  {
   "cell_type": "code",
   "execution_count": 7,
   "id": "1aa9b555",
   "metadata": {},
   "outputs": [
    {
     "name": "stdout",
     "output_type": "stream",
     "text": [
      "name is Mahima from address sarojini nagar and roll no is 25\n",
      "name is changed_name from address ssss and roll no is 45\n"
     ]
    }
   ],
   "source": [
    "class person:\n",
    "    name=\"Mahima\"\n",
    "    rollno=25\n",
    "    address=\"sarojini nagar\"\n",
    "    \n",
    "    def info(self):\n",
    "        print(f\"name is {self.name} from address {self.address} and roll no is {self.rollno}\")\n",
    "        \n",
    "              \n",
    "              \n",
    "obj1=person()\n",
    "obj1.info()\n",
    "obj2=person()\n",
    "obj2.name=\"changed_name\"\n",
    "obj2.rollno=45\n",
    "obj2.address=\"ssss\"\n",
    "obj2.info()"
   ]
  },
  {
   "cell_type": "code",
   "execution_count": 9,
   "id": "83853355",
   "metadata": {},
   "outputs": [
    {
     "name": "stdout",
     "output_type": "stream",
     "text": [
      "i am a constructor \n"
     ]
    }
   ],
   "source": [
    "class person:\n",
    "    def __init__(self):\n",
    "        print(\"i am a constructor \")\n",
    "obj=person()\n"
   ]
  },
  {
   "cell_type": "code",
   "execution_count": 11,
   "id": "2eadddd7",
   "metadata": {},
   "outputs": [
    {
     "name": "stdout",
     "output_type": "stream",
     "text": [
      " name is Heena and roll no is 78\n",
      " name is new_name and roll no is 78\n"
     ]
    }
   ],
   "source": [
    "class person:\n",
    "    def __init__(self):\n",
    "        self.name=\"Heena\"\n",
    "        self.rollno=78\n",
    "    def info(self):\n",
    "        print(f\" name is {self.name} and roll no is {self.rollno}\")\n",
    "obj=person()\n",
    "obj.info()\n",
    "obj1=person()\n",
    "obj1.name=\"new_name\"\n",
    "obj1.rollno=78\n",
    "obj1.info()"
   ]
  },
  {
   "cell_type": "code",
   "execution_count": 21,
   "id": "8ae92908",
   "metadata": {},
   "outputs": [
    {
     "name": "stdout",
     "output_type": "stream",
     "text": [
      " name is sara  from  address rishikesh\n"
     ]
    }
   ],
   "source": [
    "class person:\n",
    "    def __init__(self,n,r,a):\n",
    "        self.name=n\n",
    "        self.rollno=r\n",
    "        self.address=a\n",
    "        \n",
    "    def info(self):\n",
    "        print(f\" name is {self.name}  from  address {self.address}\")\n",
    "        \n",
    "obj=person(\"sara\",\"78\",\"rishikesh\")\n",
    "obj.info()"
   ]
  },
  {
   "cell_type": "code",
   "execution_count": 26,
   "id": "9a81319a",
   "metadata": {},
   "outputs": [
    {
     "name": "stdout",
     "output_type": "stream",
     "text": [
      "car brand is Toyoto of year 2024 and model name is Lexus\n"
     ]
    }
   ],
   "source": [
    "class car:\n",
    "    def __init__(self,b,y,m):\n",
    "        self.brand=b\n",
    "        self.year=y\n",
    "        self.model=m\n",
    "    def details(self):\n",
    "        print(f\"car brand is {self.brand} of year {self.year} and model name is {self.model}\")\n",
    "        \n",
    "obj=car(\"Toyoto\",2024,\"Lexus\")\n",
    "obj.details()\n"
   ]
  },
  {
   "cell_type": "code",
   "execution_count": 27,
   "id": "b75c7669",
   "metadata": {},
   "outputs": [
    {
     "name": "stdout",
     "output_type": "stream",
     "text": [
      " hello I am teddy\n"
     ]
    }
   ],
   "source": [
    "class dog:\n",
    "    def __init__(self,n,a):\n",
    "        self.name=n\n",
    "        self.age=a\n",
    "    def bark(self):\n",
    "        print(f\" hello I am {self.name}\")\n",
    "        \n",
    "        \n",
    "obj=dog(\"teddy\",74)\n",
    "obj.bark()"
   ]
  },
  {
   "cell_type": "code",
   "execution_count": 1,
   "id": "b1d26f69",
   "metadata": {},
   "outputs": [
    {
     "name": "stdout",
     "output_type": "stream",
     "text": [
      "good morning \n",
      "hello Mahima \n",
      "thank you \n"
     ]
    }
   ],
   "source": [
    "# decorator\n",
    "\n",
    "def decorator(func):\n",
    "    def wrapper(*args,**kwargs):\n",
    "        print(\"good morning \")\n",
    "        func(*args,**kwargs)\n",
    "        print(\"thank you \")\n",
    "    return wrapper\n",
    "@decorator\n",
    "def say_hello():\n",
    "    print(\"hello Mahima \")\n",
    "    \n",
    "say_hello()    "
   ]
  },
  {
   "cell_type": "code",
   "execution_count": 4,
   "id": "dcf0a92b",
   "metadata": {},
   "outputs": [
    {
     "name": "stdout",
     "output_type": "stream",
     "text": [
      "the number of arguments passes multiply,(3, 2),{}\n",
      "6\n"
     ]
    }
   ],
   "source": [
    "def value(func):\n",
    "    def wrapper(*args,**kwargs):\n",
    "        print(f\"the number of arguments passes {func.__name__},{args},{kwargs}\")\n",
    "        return func(*args,**kwargs)\n",
    "    return wrapper\n",
    "\n",
    "@value\n",
    "\n",
    "\n",
    "def multiply(x,y):\n",
    "    return x*y\n",
    "\n",
    "\n",
    "result=multiply(3,2)\n",
    "print(result)\n",
    "\n",
    "\n",
    "        "
   ]
  },
  {
   "cell_type": "code",
   "execution_count": 6,
   "id": "32323eb1",
   "metadata": {},
   "outputs": [
    {
     "ename": "NameError",
     "evalue": "name 'accesss' is not defined",
     "output_type": "error",
     "traceback": [
      "\u001b[1;31m---------------------------------------------------------------------------\u001b[0m",
      "\u001b[1;31mNameError\u001b[0m                                 Traceback (most recent call last)",
      "Cell \u001b[1;32mIn[6], line 18\u001b[0m\n\u001b[0;32m     11\u001b[0m \u001b[38;5;129m@authenticate\u001b[39m\n\u001b[0;32m     12\u001b[0m \n\u001b[0;32m     13\u001b[0m \n\u001b[0;32m     14\u001b[0m \u001b[38;5;28;01mdef\u001b[39;00m \u001b[38;5;21maccess\u001b[39m(username,password):\n\u001b[0;32m     15\u001b[0m     \u001b[38;5;28mprint\u001b[39m(\u001b[38;5;124mf\u001b[39m\u001b[38;5;124m\"\u001b[39m\u001b[38;5;124myou are allowed to access the data \u001b[39m\u001b[38;5;132;01m{\u001b[39;00musername\u001b[38;5;132;01m}\u001b[39;00m\u001b[38;5;124m\"\u001b[39m)\n\u001b[1;32m---> 18\u001b[0m accesss()\n",
      "\u001b[1;31mNameError\u001b[0m: name 'accesss' is not defined"
     ]
    }
   ],
   "source": [
    "def authenticate(func):\n",
    "    def wrapper(*args,**kwargs):\n",
    "        username=input(\"enter your name-> \")\n",
    "        password=int(input(\"enter your password-> \"))\n",
    "        if(username==\"mahima\" and password==1236):\n",
    "            return func(userename,password,*args,**kwargs)\n",
    "        else:\n",
    "            print(\"you are not allowed to login \")\n",
    "    return wrapper\n",
    "    \n",
    "@authenticate\n",
    "\n",
    "\n",
    "def access(username,password):\n",
    "    print(f\"you are allowed to access the data {username}\")\n",
    "    \n",
    "    \n",
    "accesss()    "
   ]
  },
  {
   "cell_type": "code",
   "execution_count": null,
   "id": "ca8ef7b6",
   "metadata": {},
   "outputs": [],
   "source": [
    "def authenticate(func):\n",
    "    def wrapper(*args,**kwargs):\n",
    "       # print('propositional arguments are ',args)\n",
    "       # print('keywords arguments are ',kwargs)\n",
    "        username=input(\"enter username-> \")\n",
    "        password=input(\" enter password-> \")\n",
    "        if(username=='mahima' and password==1235):\n",
    "            return func(username,password,*args,**kwargs)\n",
    "        else:\n",
    "            print('you are not allowed to autinticate')\n",
    "    return wrapper\n",
    "@authenticate\n",
    "\n",
    "def sensitive_data(username,password,*args,**kwargs):\n",
    "    print(f\"you are eligible to access data with username {username}\")\n",
    "    print(\" additional arguments \",args)\n",
    "    print(\" keyword arguments \",kwargs)\n",
    "sensitive_data(12,3,4,name=\"akriti\",age=20)    "
   ]
  },
  {
   "cell_type": "code",
   "execution_count": 2,
   "id": "342a97b7",
   "metadata": {},
   "outputs": [
    {
     "ename": "TypeError",
     "evalue": "__init__() should return None, not 'str'",
     "output_type": "error",
     "traceback": [
      "\u001b[1;31m---------------------------------------------------------------------------\u001b[0m",
      "\u001b[1;31mTypeError\u001b[0m                                 Traceback (most recent call last)",
      "Cell \u001b[1;32mIn[2], line 17\u001b[0m\n\u001b[0;32m     12\u001b[0m     \u001b[38;5;28;01mdef\u001b[39;00m \u001b[38;5;21mdrive\u001b[39m(\u001b[38;5;28mself\u001b[39m):\n\u001b[0;32m     13\u001b[0m         \u001b[38;5;28;01mreturn\u001b[39;00m \u001b[38;5;124mf\u001b[39m\u001b[38;5;124m\"\u001b[39m\u001b[38;5;124m i am driving a bike of \u001b[39m\u001b[38;5;132;01m{\u001b[39;00m\u001b[38;5;28mself\u001b[39m\u001b[38;5;241m.\u001b[39mbrand\u001b[38;5;132;01m}\u001b[39;00m\u001b[38;5;124m\"\u001b[39m\n\u001b[1;32m---> 17\u001b[0m c\u001b[38;5;241m=\u001b[39mcar(\u001b[38;5;124m\"\u001b[39m\u001b[38;5;124mverna\u001b[39m\u001b[38;5;124m\"\u001b[39m)\n\u001b[0;32m     18\u001b[0m \u001b[38;5;28mprint\u001b[39m(c\u001b[38;5;241m.\u001b[39mdrive())\n\u001b[0;32m     19\u001b[0m \u001b[38;5;28mprint\u001b[39m(c\u001b[38;5;241m.\u001b[39mbrand)\n",
      "\u001b[1;31mTypeError\u001b[0m: __init__() should return None, not 'str'"
     ]
    }
   ],
   "source": [
    "class vehicle:\n",
    "    def __init__(self,brand):\n",
    "        self.brand=brand\n",
    "        return \"i am driving a car \"\n",
    "    \n",
    "    \n",
    "class car(vehicle):\n",
    "    def  drive(self):\n",
    "        return f\"I am driving a car of {self.brand}\"\n",
    "\n",
    "class bike(vehicle):\n",
    "    def drive(self):\n",
    "        return f\" i am driving a bike of {self.brand}\"\n",
    "    \n",
    "    \n",
    "    \n",
    "c=car(\"verna\")\n",
    "print(c.drive())\n",
    "print(c.brand)\n"
   ]
  },
  {
   "cell_type": "code",
   "execution_count": 4,
   "id": "97903725",
   "metadata": {},
   "outputs": [
    {
     "name": "stdout",
     "output_type": "stream",
     "text": [
      "i am a dog \n",
      " i am a cat\n"
     ]
    }
   ],
   "source": [
    "class animal:\n",
    "    def __init__(self,name):\n",
    "        self.name=name\n",
    "        \n",
    "    def sound(self):\n",
    "        pass\n",
    "    \n",
    "class dog(animal):\n",
    "    def sound(self):\n",
    "        return \"i am a dog \"\n",
    "    \n",
    "class cat(animal):\n",
    "    def sound(self):\n",
    "        return \" i am a cat\"\n",
    "    \n",
    "d=dog(\"tomm\")\n",
    "print(d.sound())\n",
    "\n",
    "c=cat(\"kitty\")\n",
    "print(c.sound())\n",
    "    "
   ]
  },
  {
   "cell_type": "code",
   "execution_count": 6,
   "id": "7c82a3d1",
   "metadata": {},
   "outputs": [
    {
     "name": "stdout",
     "output_type": "stream",
     "text": [
      "ameena\n",
      "20\n"
     ]
    }
   ],
   "source": [
    "class Parent:\n",
    "    def __init__(self,name):\n",
    "        self.name=name\n",
    "        \n",
    "class Child(Parent):\n",
    "    def __init__(self,name,age):\n",
    "        super().__init__(name)\n",
    "        self.age=age\n",
    "        \n",
    "        \n",
    "child=Child(\"ameena\",20)\n",
    "print(child.name)\n",
    "print(child.age)"
   ]
  },
  {
   "cell_type": "code",
   "execution_count": 8,
   "id": "af2b90d7",
   "metadata": {
    "scrolled": true
   },
   "outputs": [
    {
     "name": "stdout",
     "output_type": "stream",
     "text": [
      " name is mahima salary 5000\n",
      " name is mahi salary 5800000 department hr\n"
     ]
    }
   ],
   "source": [
    "class employee:\n",
    "    def __init__(self,name,salary):\n",
    "        self.name=name\n",
    "        self.salary=salary\n",
    "        \n",
    "        \n",
    "    def display(self):\n",
    "        return f\" name is {self.name} salary {self.salary}\"\n",
    "class Manager(employee):\n",
    "    def __init__(self,name,salary,dept):\n",
    "        super().__init__(name,salary)\n",
    "        self.dept=dept\n",
    "        \n",
    "        \n",
    "    def display(self):\n",
    "        return f\" name is {self.name} salary {self.salary} department {self.dept}\"\n",
    "e=employee(\"mahima\",5000)\n",
    "print(e.display())\n",
    "\n",
    "m=Manager(\"mahi\",5800000,\"hr\")\n",
    "\n",
    "\n",
    "print(m.display())"
   ]
  },
  {
   "cell_type": "code",
   "execution_count": 1,
   "id": "da81a0a9",
   "metadata": {},
   "outputs": [
    {
     "name": "stdout",
     "output_type": "stream",
     "text": [
      "100\n",
      "my name is mahima\n"
     ]
    }
   ],
   "source": [
    "# private\n",
    "\n",
    "class My_class:\n",
    "    def __init__(self):\n",
    "        self.public_var=100\n",
    "        \n",
    "    def public(self):\n",
    "        return \"my name is mahima\"\n",
    "    \n",
    "obj=My_class()\n",
    "print(obj.public_var)\n",
    "print(obj.public())"
   ]
  },
  {
   "cell_type": "code",
   "execution_count": 2,
   "id": "06775324",
   "metadata": {},
   "outputs": [
    {
     "name": "stdout",
     "output_type": "stream",
     "text": [
      "100\n"
     ]
    },
    {
     "ename": "AttributeError",
     "evalue": "'My_class' object has no attribute '_My_class__private_method'",
     "output_type": "error",
     "traceback": [
      "\u001b[1;31m---------------------------------------------------------------------------\u001b[0m",
      "\u001b[1;31mAttributeError\u001b[0m                            Traceback (most recent call last)",
      "Cell \u001b[1;32mIn[2], line 10\u001b[0m\n\u001b[0;32m      8\u001b[0m obj\u001b[38;5;241m=\u001b[39mMy_class()\n\u001b[0;32m      9\u001b[0m \u001b[38;5;28mprint\u001b[39m(obj\u001b[38;5;241m.\u001b[39m_My_class__private)\n\u001b[1;32m---> 10\u001b[0m \u001b[38;5;28mprint\u001b[39m(obj\u001b[38;5;241m.\u001b[39m_My_class__private_method())\n",
      "\u001b[1;31mAttributeError\u001b[0m: 'My_class' object has no attribute '_My_class__private_method'"
     ]
    }
   ],
   "source": [
    "class My_class:\n",
    "    def __init__(self):\n",
    "        self.__private=100\n",
    "        \n",
    "    def private_method(self):\n",
    "        return \"my name is mahima\"\n",
    "    \n",
    "obj=My_class()\n",
    "print(obj._My_class__private)\n",
    "print(obj._My_class__private_method())"
   ]
  },
  {
   "cell_type": "code",
   "execution_count": 1,
   "id": "8fa7bd6e",
   "metadata": {},
   "outputs": [
    {
     "name": "stdout",
     "output_type": "stream",
     "text": [
      "100\n"
     ]
    },
    {
     "ename": "AttributeError",
     "evalue": "'subclass' object has no attribute '_protected_method'",
     "output_type": "error",
     "traceback": [
      "\u001b[1;31m---------------------------------------------------------------------------\u001b[0m",
      "\u001b[1;31mAttributeError\u001b[0m                            Traceback (most recent call last)",
      "Cell \u001b[1;32mIn[1], line 14\u001b[0m\n\u001b[0;32m     12\u001b[0m obj\u001b[38;5;241m=\u001b[39msubclass()\n\u001b[0;32m     13\u001b[0m \u001b[38;5;28mprint\u001b[39m(obj\u001b[38;5;241m.\u001b[39m_protected)\n\u001b[1;32m---> 14\u001b[0m \u001b[38;5;28mprint\u001b[39m(obj\u001b[38;5;241m.\u001b[39m_protected_method())\n\u001b[0;32m     15\u001b[0m \u001b[38;5;28mprint\u001b[39m(obj\u001b[38;5;241m.\u001b[39mdisplay())\n",
      "\u001b[1;31mAttributeError\u001b[0m: 'subclass' object has no attribute '_protected_method'"
     ]
    }
   ],
   "source": [
    "class My_class:\n",
    "    def __init__(self):\n",
    "        self._protected=100\n",
    "        \n",
    "    def protected_method(self):\n",
    "        return \"my name is mahima\"\n",
    "    \n",
    "class subclass(My_class):\n",
    "    def display(self):\n",
    "        return  self._protected\n",
    "    \n",
    "obj=subclass()\n",
    "print(obj._protected)\n",
    "print(obj._protected_method())\n",
    "print(obj.display())\n"
   ]
  },
  {
   "cell_type": "code",
   "execution_count": 21,
   "id": "a0c55728",
   "metadata": {},
   "outputs": [
    {
     "name": "stdout",
     "output_type": "stream",
     "text": [
      "hellooooo \n"
     ]
    }
   ],
   "source": [
    "file5=open(r\"C:\\Users\\91787\\Desktop\\file5.txt\",\"r\")\n",
    "content=file5.read()\n",
    "print(content)\n",
    "file5.close()\n"
   ]
  },
  {
   "cell_type": "code",
   "execution_count": null,
   "id": "ef329a4c",
   "metadata": {},
   "outputs": [],
   "source": []
  },
  {
   "cell_type": "code",
   "execution_count": null,
   "id": "947cf797",
   "metadata": {},
   "outputs": [],
   "source": []
  },
  {
   "cell_type": "code",
   "execution_count": null,
   "id": "4e613193",
   "metadata": {},
   "outputs": [],
   "source": []
  },
  {
   "cell_type": "code",
   "execution_count": 15,
   "id": "81c6e37d",
   "metadata": {},
   "outputs": [],
   "source": [
    "with open(r\"C:\\Users\\91787\\Desktop\\file5.txt\",\"a\") as file5:\n",
    "    file5.write(\" i am a third year btech student \")\n",
    "    "
   ]
  },
  {
   "cell_type": "code",
   "execution_count": 19,
   "id": "4f993cd9",
   "metadata": {},
   "outputs": [],
   "source": [
    "import random \n",
    "\n"
   ]
  },
  {
   "cell_type": "code",
   "execution_count": null,
   "id": "8e567bf3",
   "metadata": {},
   "outputs": [],
   "source": [
    "def user_choice():\n",
    "    user_choice=input(\"enter your choice (stone ,paper, scissor)->\").lower()\n",
    "    while user_choice not in [\"stone\",\"paper\",\"scissor\"]:\n",
    "        print(\"invalid input please choose again \")\n",
    "        user_choice=input(\"enter your choice (stone ,paper, scissor)->\").lower()\n",
    "    return user_choice\n",
    "    \n",
    "    \n",
    "def computer_choice():\n",
    "    return random.choice([\"stone\",\"paper\",\"scissor\"])\n",
    "\n",
    "\n",
    "def winner(user_input,computer_input):\n",
    "    if(user_input==computer_input):\n",
    "        return \"match is tie \"\n",
    "    elif((user_input==\"stone\" and computer_input==\"scissor\") or (user_input==\"paper\" and computer_input==\"stone\") or (user_input==\"scissor\" and computer_input==\"paper\")):\n",
    "        \n",
    "        print(\"user win the game \")\n",
    "    else:\n",
    "        return \"sorry you lost \"\n",
    "\n",
    "    \n",
    "def main():\n",
    "    print(\"welcome to stone paper scissor game \")\n",
    "    while(True):\n",
    "        user_choice=user_choice()\n",
    "        computer_choice=computer_choice()\n",
    "        print(\"you choose \", user_choice)\n",
    "        print(\"computer choice \",computer_choice)\n",
    "        winner(user_choice,computer_choice)\n",
    "        play_again=input(\"do you want to play again enter yes or no->\").lower()\n",
    "        if(play_again==\"no\"):\n",
    "            print(\"thanks for playing \")\n",
    "            break\n",
    "            \n",
    "        \n",
    "        \n",
    "        \n",
    "        \n",
    "        \n",
    "if __name__==\"__main__\":\n",
    "    main()"
   ]
  },
  {
   "cell_type": "code",
   "execution_count": null,
   "id": "9dabf034",
   "metadata": {},
   "outputs": [
    {
     "name": "stdout",
     "output_type": "stream",
     "text": [
      "enter your account number 1234\n",
      "enter your initial balance 100\n",
      "please set your ATM pin 123\n",
      "your account details are : 1234\n"
     ]
    }
   ],
   "source": [
    "class Bank_account:\n",
    "    def __init__(self,account_nbr,balance):\n",
    "        self.account_nbr=account_nbr\n",
    "        self._balance=balance\n",
    "        self.__pin=pin\n",
    "        \n",
    "    def deposite(self,amount):\n",
    "        self._balance+=amount\n",
    "        print(f\"deposited amount {amount} and new amount={self._balance}\")\n",
    "        \n",
    "    def withdraw(self,amount,pin):\n",
    "        if pin==self.__pin:\n",
    "            if amount<=self._balance:\n",
    "                self._balance-=amount\n",
    "                print(f\"the withdrawal amount= {amount} and new amount= {self._balance}\")\n",
    "            else:\n",
    "                print(\"your account balance is too low please add some money \")\n",
    "        else:\n",
    "            print(\"wrong atm pin please check again\")\n",
    "            \n",
    "            \n",
    "account_nbr=int(input(\"enter your account number \"))\n",
    "balance=float(input(\"enter your initial balance \"))\n",
    "pin=int(input (\"please set your ATM pin \"))\n",
    "\n",
    "account=Bank_account(account_nbr,balance)\n",
    "print(f\"your account details are : {account_nbr}\")\n",
    "\n",
    "deposite_amount=float(input(\"enter your amount to deposite \"))\n",
    "account.deposite(deposite_amount)\n",
    "\n",
    "withdraw_amount=float(input(\"enter amount to withdraw \"))\n",
    "account.withdraw(withdraw_amount,pin)\n",
    "    "
   ]
  },
  {
   "cell_type": "code",
   "execution_count": null,
   "id": "5054d499",
   "metadata": {},
   "outputs": [],
   "source": []
  },
  {
   "cell_type": "code",
   "execution_count": null,
   "id": "27385176",
   "metadata": {},
   "outputs": [],
   "source": [
    "class Bank_account:\n",
    "    def __init__(self,account_nbr,balance):\n",
    "        self.account_nbr=account_nbr#public\n",
    "        self._balance=balance#protected\n",
    "        self.__pin=pin#private\n",
    "        \n",
    "    def deposite(self,amount):\n",
    "        self._balance+=amount\n",
    "        print(f\"deposited amount {amount} and new amount={self._balance}\")\n",
    "        \n",
    "    def withdraw(self,amount,pin):\n",
    "        if pin==self.__pin:\n",
    "            if amount<=self._balance:\n",
    "                self._balance-=amount\n",
    "                print(f\"the withdrawal amount= {amount} and new amount= {self._balance}\")\n",
    "            else:\n",
    "                print(\"your account balance is too low please add some money \")\n",
    "        else:\n",
    "            print(\"wrong atm pin please check again\")\n",
    "            \n",
    "account_nbr=int(input(\"enter your account number \"))\n",
    "balance=float(input(\"enter your initial balance \"))\n",
    "pin=int(input (\"please set your ATM pin \"))\n",
    "\n",
    "account=Bank_account(account_nbr,balance)\n",
    "print(f\"your account details are : {account_nbr}\")\n",
    "\n",
    "deposite_amount=float(input(\"enter your amount to deposite \"))\n",
    "account.deposite(deposite_amount)\n",
    "\n",
    "withdraw_amount=float(input(\"enter amount to withdraw \"))\n",
    "account.withdraw(withdraw_amount,pin)            "
   ]
  },
  {
   "cell_type": "code",
   "execution_count": 1,
   "id": "6f524a9d",
   "metadata": {},
   "outputs": [
    {
     "ename": "SyntaxError",
     "evalue": "invalid syntax (1876771187.py, line 1)",
     "output_type": "error",
     "traceback": [
      "\u001b[1;36m  Cell \u001b[1;32mIn[1], line 1\u001b[1;36m\u001b[0m\n\u001b[1;33m    1. Write a program to simulate an ATM machine using conditional statements. Your program should offer options for depositing money, withdrawing money, and checking the balance.\u001b[0m\n\u001b[1;37m       ^\u001b[0m\n\u001b[1;31mSyntaxError\u001b[0m\u001b[1;31m:\u001b[0m invalid syntax\n"
     ]
    }
   ],
   "source": [
    "1. Write a program to simulate an ATM machine using conditional statements. Your program should offer options for depositing money, withdrawing money, and checking the balance. \n"
   ]
  },
  {
   "cell_type": "code",
   "execution_count": 2,
   "id": "ce0912f1",
   "metadata": {},
   "outputs": [
    {
     "name": "stdout",
     "output_type": "stream",
     "text": [
      "hello how you are?\n",
      " i am a dog\n"
     ]
    }
   ],
   "source": [
    "class Animal:\n",
    "    def hello(self):\n",
    "        print(\"hello how you are?\")\n",
    "    \n",
    "    \n",
    "class dog(Animal):\n",
    "    def hi(self):\n",
    "        print(\" i am a dog\")\n",
    "        \n",
    "d=dog()\n",
    "d.hello()\n",
    "d.hi()"
   ]
  },
  {
   "cell_type": "code",
   "execution_count": 4,
   "id": "4cefb428",
   "metadata": {},
   "outputs": [
    {
     "name": "stdout",
     "output_type": "stream",
     "text": [
      "i am a father\n",
      "i am a child\n",
      "i am a mother\n"
     ]
    }
   ],
   "source": [
    "# multilevel inheritance\n",
    "class Father:\n",
    "    def skills(self):\n",
    "        print(\"i am a father\")\n",
    "        \n",
    "class Mother:\n",
    "    def knowledge(self):\n",
    "        print(\"i am a mother\")\n",
    "        \n",
    "        \n",
    "        \n",
    "class child(Father,Mother):\n",
    "    def hobbies(self):\n",
    "        print(\"i am a child\")\n",
    "        \n",
    "        \n",
    "        \n",
    "c=child()\n",
    "c.skills()\n",
    "c.hobbies()\n",
    "c.knowledge()"
   ]
  },
  {
   "cell_type": "code",
   "execution_count": 6,
   "id": "ede6a51c",
   "metadata": {},
   "outputs": [
    {
     "name": "stdout",
     "output_type": "stream",
     "text": [
      " i am a father\n",
      "i am a child\n"
     ]
    }
   ],
   "source": [
    "# multilevel inheritance\n",
    "\n",
    "class Grandfather:\n",
    "    def __init__(self):\n",
    "        print(\"i am a grandfather\")\n",
    "        \n",
    "class Father(Grandfather):\n",
    "    def __init__(self):\n",
    "        print(\" i am a father\")\n",
    "    \n",
    "class child(Father):\n",
    "    def display(self):\n",
    "        print(\"i am a child\")\n",
    "        \n",
    "        \n",
    "c=child()\n",
    "c.display()\n",
    "    \n",
    "    \n"
   ]
  },
  {
   "cell_type": "code",
   "execution_count": 11,
   "id": "4e64cbb5",
   "metadata": {},
   "outputs": [
    {
     "name": "stdout",
     "output_type": "stream",
     "text": [
      "i am a animal\n",
      "i am a cat\n"
     ]
    }
   ],
   "source": [
    "class Animal:\n",
    "    def eat(self):\n",
    "        print(\"i am a animal\")\n",
    "        \n",
    "class Dog(Animal):\n",
    "    def hello(self):\n",
    "        print(\"i am a dog\")\n",
    "        \n",
    "        \n",
    "class Cat(Animal):\n",
    "    def hi(self):\n",
    "        print(\"i am a cat\")\n",
    "    \n",
    "    \n",
    "c=Cat()\n",
    "d=Dog()\n",
    "\n",
    "c.eat()\n",
    "c.hi()"
   ]
  },
  {
   "cell_type": "code",
   "execution_count": null,
   "id": "7737310d",
   "metadata": {},
   "outputs": [],
   "source": []
  },
  {
   "cell_type": "code",
   "execution_count": 15,
   "id": "9df11d82",
   "metadata": {},
   "outputs": [
    {
     "name": "stdout",
     "output_type": "stream",
     "text": [
      "i am dog\n"
     ]
    }
   ],
   "source": [
    "class Animal:\n",
    "    def Make_sound(self):\n",
    "        pass\n",
    "class Dog(Animal):\n",
    "    \n",
    "    def Make_sound(self):\n",
    "        print(\"i am dog\")\n",
    "        \n",
    "class Cat(Animal):\n",
    "    def Make_sound(self):\n",
    "        print(\"i am cat\")\n",
    "        \n",
    "\n",
    "\n",
    "d=Dog()\n",
    "c=Cat()\n",
    "d.Make_sound()\n",
    "\n"
   ]
  },
  {
   "cell_type": "code",
   "execution_count": 18,
   "id": "80f67167",
   "metadata": {},
   "outputs": [
    {
     "name": "stdout",
     "output_type": "stream",
     "text": [
      "enter radius of circle->5\n",
      "area is  24\n",
      "area is  78.5\n"
     ]
    }
   ],
   "source": [
    "class shape:\n",
    "    def area(self):\n",
    "        pass\n",
    "    \n",
    "class rectangle(shape):\n",
    "    def __init__(self,l,b):\n",
    "        self.l=l\n",
    "        self.b=b\n",
    "        \n",
    "    def area(self):\n",
    "        return self.l*self.b\n",
    "    \n",
    "    \n",
    "class circle(shape):\n",
    "    def __init__(self,r):\n",
    "        self.r=int(input(\"enter radius of circle->\"))\n",
    "        \n",
    "    def area(self):\n",
    "        return 3.14*self.r*self.r\n",
    "    \n",
    "s=[rectangle(4,6), circle(5)]\n",
    "for s in s:\n",
    "    print(\"area is \", s.area())"
   ]
  },
  {
   "cell_type": "code",
   "execution_count": 27,
   "id": "c3f1abfe",
   "metadata": {},
   "outputs": [
    {
     "ename": "TypeError",
     "evalue": "'int' object is not callable",
     "output_type": "error",
     "traceback": [
      "\u001b[1;31m---------------------------------------------------------------------------\u001b[0m",
      "\u001b[1;31mTypeError\u001b[0m                                 Traceback (most recent call last)",
      "Cell \u001b[1;32mIn[27], line 22\u001b[0m\n\u001b[0;32m     17\u001b[0m         \u001b[38;5;28;01mreturn\u001b[39;00m \u001b[38;5;28msuper\u001b[39m()\u001b[38;5;241m.\u001b[39msalary()\u001b[38;5;241m+\u001b[39m\u001b[38;5;28mself\u001b[39m\u001b[38;5;241m.\u001b[39mbonus\n\u001b[0;32m     21\u001b[0m emp\u001b[38;5;241m=\u001b[39mManager(\u001b[38;5;124m\"\u001b[39m\u001b[38;5;124makira\u001b[39m\u001b[38;5;124m\"\u001b[39m,\u001b[38;5;241m450000\u001b[39m,\u001b[38;5;241m1000\u001b[39m)\n\u001b[1;32m---> 22\u001b[0m \u001b[38;5;28mprint\u001b[39m(emp\u001b[38;5;241m.\u001b[39msalary())\n",
      "\u001b[1;31mTypeError\u001b[0m: 'int' object is not callable"
     ]
    }
   ],
   "source": [
    "class Employee:\n",
    "    def __init__(self,name,salary):\n",
    "        self.name=name\n",
    "        self.salary=salary\n",
    "        \n",
    "    def salary(self):\n",
    "        return self.salary\n",
    "    \n",
    "    \n",
    "class Manager(Employee):\n",
    "    def __init__(self,name,salary,bonus):\n",
    "        super().__init__(name,salary)\n",
    "        self.bonus=bonus\n",
    "        \n",
    "        \n",
    "    def salary(self):\n",
    "        return super().salary()+self.bonus\n",
    "    \n",
    "    \n",
    "    \n",
    "emp=Manager(\"akira\",450000,1000)\n",
    "print(emp.salary())\n"
   ]
  },
  {
   "cell_type": "code",
   "execution_count": 1,
   "id": "3838fa84",
   "metadata": {},
   "outputs": [
    {
     "name": "stdout",
     "output_type": "stream",
     "text": [
      "None\n"
     ]
    },
    {
     "ename": "AttributeError",
     "evalue": "'car' object has no attribute 'get_model'",
     "output_type": "error",
     "traceback": [
      "\u001b[1;31m---------------------------------------------------------------------------\u001b[0m",
      "\u001b[1;31mAttributeError\u001b[0m                            Traceback (most recent call last)",
      "Cell \u001b[1;32mIn[1], line 36\u001b[0m\n\u001b[0;32m     33\u001b[0m obj\u001b[38;5;241m=\u001b[39mcar(\u001b[38;5;124m\"\u001b[39m\u001b[38;5;124mmaruti\u001b[39m\u001b[38;5;124m\"\u001b[39m,\u001b[38;5;124m\"\u001b[39m\u001b[38;5;124msuv\u001b[39m\u001b[38;5;124m\"\u001b[39m,\u001b[38;5;241m2012\u001b[39m)\n\u001b[0;32m     35\u001b[0m \u001b[38;5;28mprint\u001b[39m(obj\u001b[38;5;241m.\u001b[39mget_make())\n\u001b[1;32m---> 36\u001b[0m \u001b[38;5;28mprint\u001b[39m(obj\u001b[38;5;241m.\u001b[39mget_model())\n\u001b[0;32m     37\u001b[0m \u001b[38;5;28mprint\u001b[39m(obj\u001b[38;5;241m.\u001b[39mget_year())\n",
      "\u001b[1;31mAttributeError\u001b[0m: 'car' object has no attribute 'get_model'"
     ]
    }
   ],
   "source": [
    "class car:\n",
    "    def __init__(self,make,model,year):\n",
    "        self.__make=make\n",
    "        self.__model=model\n",
    "        self.__year=year\n",
    "        \n",
    "    def get_make(self):\n",
    "        \n",
    "    \n",
    "    \n",
    "    \n",
    "    \n",
    "     def set_make(self):\n",
    "            self.__make=make\n",
    "            \n",
    "    def set_model(self):\n",
    "        self.__model=model\n",
    "        \n",
    "    def set_year(self):\n",
    "        self.__year=year\n",
    "        \n",
    "        \n",
    "    \n",
    "    \n",
    "    \n",
    "    \n",
    "    \n",
    "    \n",
    "    \n",
    "    \n",
    "    \n",
    "    \n",
    "obj=car(\"maruti\",\"suv\",2012)\n",
    "\n",
    "print(obj.get_make())\n",
    "print(obj.get_model())\n",
    "print(obj.get_year())"
   ]
  },
  {
   "cell_type": "code",
   "execution_count": 5,
   "id": "ccfd8770",
   "metadata": {},
   "outputs": [
    {
     "name": "stdout",
     "output_type": "stream",
     "text": [
      "Mahima\n",
      "21\n",
      "india\n",
      "\n",
      "Sara\n",
      "45\n",
      "Japan\n"
     ]
    }
   ],
   "source": [
    "class person:\n",
    "    def __init__(self,name,age,country):\n",
    "        self.__name=name\n",
    "        self.__age=age\n",
    "        self.__country=country\n",
    "        \n",
    "        \n",
    "# getter method\n",
    "    def get_name(self):\n",
    "        return self.__name\n",
    "    \n",
    "    def get_age(self):\n",
    "        return self.__age\n",
    "    \n",
    "    \n",
    "    def get_country(self):\n",
    "        return self.__country\n",
    "    \n",
    "    \n",
    "# setter method\n",
    "\n",
    "    def set_name(self,name):\n",
    "        self.__name=name\n",
    "        \n",
    "    def set_age(self,age):\n",
    "        self.__age=age\n",
    "        \n",
    "        \n",
    "    def set_country(self,country):\n",
    "        self.__country=country\n",
    "        \n",
    "p=person(\"Mahima\",21,\"india\")        \n",
    "print(p.get_name())\n",
    "print(p.get_age())\n",
    "print(p.get_country())\n",
    "print()\n",
    "p.set_name(\"Sara\")\n",
    "p.set_age(45)\n",
    "p.set_country(\"Japan\")\n",
    "\n",
    "print(p.get_name())\n",
    "print(p.get_age())\n",
    "print(p.get_country())\n"
   ]
  },
  {
   "cell_type": "code",
   "execution_count": 1,
   "id": "8e5b9348",
   "metadata": {},
   "outputs": [
    {
     "ename": "NameError",
     "evalue": "name 'account_getter' is not defined",
     "output_type": "error",
     "traceback": [
      "\u001b[1;31m---------------------------------------------------------------------------\u001b[0m",
      "\u001b[1;31mNameError\u001b[0m                                 Traceback (most recent call last)",
      "Cell \u001b[1;32mIn[1], line 1\u001b[0m\n\u001b[1;32m----> 1\u001b[0m \u001b[38;5;28;01mclass\u001b[39;00m \u001b[38;5;21;01mBank_account\u001b[39;00m:\n\u001b[0;32m      2\u001b[0m     \u001b[38;5;28;01mdef\u001b[39;00m \u001b[38;5;21m__init__\u001b[39m(\u001b[38;5;28mself\u001b[39m,balance):\n\u001b[0;32m      3\u001b[0m         \u001b[38;5;28mself\u001b[39m\u001b[38;5;241m.\u001b[39m__balance\u001b[38;5;241m=\u001b[39mbalance\n",
      "Cell \u001b[1;32mIn[1], line 7\u001b[0m, in \u001b[0;36mBank_account\u001b[1;34m()\u001b[0m\n\u001b[0;32m      2\u001b[0m \u001b[38;5;28;01mdef\u001b[39;00m \u001b[38;5;21m__init__\u001b[39m(\u001b[38;5;28mself\u001b[39m,balance):\n\u001b[0;32m      3\u001b[0m     \u001b[38;5;28mself\u001b[39m\u001b[38;5;241m.\u001b[39m__balance\u001b[38;5;241m=\u001b[39mbalance\n\u001b[1;32m----> 7\u001b[0m \u001b[38;5;129m@account_getter\u001b[39m\n\u001b[0;32m      8\u001b[0m \u001b[38;5;28;01mdef\u001b[39;00m \u001b[38;5;21mbalance\u001b[39m(\u001b[38;5;28mself\u001b[39m,new_balance):\n\u001b[0;32m      9\u001b[0m     \u001b[38;5;28;01mif\u001b[39;00m(new_balance\u001b[38;5;241m>\u001b[39m\u001b[38;5;241m=\u001b[39m\u001b[38;5;241m0\u001b[39m):\n\u001b[0;32m     10\u001b[0m         \u001b[38;5;28mself\u001b[39m\u001b[38;5;241m.\u001b[39m__balance\u001b[38;5;241m=\u001b[39mnew_balance\n",
      "\u001b[1;31mNameError\u001b[0m: name 'account_getter' is not defined"
     ]
    }
   ],
   "source": [
    "class Bank_account:\n",
    "    def __init__(self,balance):\n",
    "        self.__balance=balance\n",
    "        \n",
    "        \n",
    "        \n",
    "    @account_getter\n",
    "    def balance(self,new_balance):\n",
    "        if(new_balance>=0):\n",
    "            self.__balance=new_balance\n",
    "        else:\n",
    "            print(\"unsufficient balance \")\n",
    "            \n",
    "            \n",
    "acc=Bank_account(1000)\n",
    "print(acc.balance)\n",
    "\n",
    "acc.balance()"
   ]
  },
  {
   "cell_type": "code",
   "execution_count": 4,
   "id": "48a53675",
   "metadata": {},
   "outputs": [
    {
     "name": "stdout",
     "output_type": "stream",
     "text": [
      "10\n",
      "6.0\n"
     ]
    }
   ],
   "source": [
    "\n",
    "# encapsulation\n",
    "\n",
    "class Circle:\n",
    "    def __init__(self,radius):\n",
    "        self.radius=radius\n",
    "        \n",
    "    @property\n",
    "    def diameter(self):\n",
    "        return 2*self.radius\n",
    "    \n",
    "    @diameter.setter\n",
    "    def diameter(self,diameter):\n",
    "        self.radius=diameter/2\n",
    "        \n",
    "        \n",
    "circle=Circle(5)\n",
    "print(circle.diameter)\n",
    "\n",
    "circle.diameter=12\n",
    "print(circle.radius)"
   ]
  },
  {
   "cell_type": "code",
   "execution_count": 13,
   "id": "a6422127",
   "metadata": {},
   "outputs": [
    {
     "ename": "TypeError",
     "evalue": "Rectangle.get_area() missing 1 required positional argument: 'self'",
     "output_type": "error",
     "traceback": [
      "\u001b[1;31m---------------------------------------------------------------------------\u001b[0m",
      "\u001b[1;31mTypeError\u001b[0m                                 Traceback (most recent call last)",
      "Cell \u001b[1;32mIn[13], line 16\u001b[0m\n\u001b[0;32m     12\u001b[0m         \u001b[38;5;28;01mreturn\u001b[39;00m \u001b[38;5;241m2\u001b[39m\u001b[38;5;241m*\u001b[39m(\u001b[38;5;28mself\u001b[39m\u001b[38;5;241m.\u001b[39m_length\u001b[38;5;241m+\u001b[39m \u001b[38;5;28mself\u001b[39m\u001b[38;5;241m.\u001b[39m_width)\n\u001b[0;32m     15\u001b[0m rectangle\u001b[38;5;241m=\u001b[39mRectangle(length\u001b[38;5;241m=\u001b[39m\u001b[38;5;241m20\u001b[39m,width\u001b[38;5;241m=\u001b[39m\u001b[38;5;241m10\u001b[39m)\n\u001b[1;32m---> 16\u001b[0m area\u001b[38;5;241m=\u001b[39mRectangle\u001b[38;5;241m.\u001b[39mget_area()\n\u001b[0;32m     17\u001b[0m perimeter\u001b[38;5;241m=\u001b[39mRectangle\u001b[38;5;241m.\u001b[39mget_perimeter()\n\u001b[0;32m     19\u001b[0m \u001b[38;5;28mprint\u001b[39m(\u001b[38;5;124mf\u001b[39m\u001b[38;5;124m\"\u001b[39m\u001b[38;5;124m area of rectangle = \u001b[39m\u001b[38;5;132;01m{\u001b[39;00marea\u001b[38;5;132;01m}\u001b[39;00m\u001b[38;5;124m\"\u001b[39m)\n",
      "\u001b[1;31mTypeError\u001b[0m: Rectangle.get_area() missing 1 required positional argument: 'self'"
     ]
    }
   ],
   "source": [
    "# abstraction\n",
    "\n",
    "class Rectangle:\n",
    "    def __init__(self,length,width):\n",
    "        self._length=length\n",
    "        self._width=width\n",
    "        \n",
    "    def get_area(self):\n",
    "        return (self._length*self._width)\n",
    "    \n",
    "    def get_perimeter(self):\n",
    "        return 2*(self._length+ self._width)\n",
    "    \n",
    "    \n",
    "rectangle=Rectangle(length=20,width=10)\n",
    "area=Rectangle.get_area()\n",
    "perimeter=Rectangle.get_perimeter()\n",
    "\n",
    "print(f\" area of rectangle = {area}\")\n",
    "print(f\" perimeter of rectangle +{perimeter}\")"
   ]
  },
  {
   "cell_type": "code",
   "execution_count": 4,
   "id": "e96d6d58",
   "metadata": {},
   "outputs": [
    {
     "name": "stdout",
     "output_type": "stream",
     "text": [
      "enter the expression 4+4\n",
      "the result of your calculation  8\n"
     ]
    }
   ],
   "source": [
    "class Calculator:\n",
    "    def __init__(self):\n",
    "        pass\n",
    "    \n",
    "    def evaluate_expression(self,expression):\n",
    "        result=eval(expression)\n",
    "        return result\n",
    "        \n",
    "        \n",
    "def main():\n",
    "    calc=Calculator()\n",
    "    expression=input(\"enter the expression \")\n",
    "    result=calc.evaluate_expression(expression)\n",
    "    print(\"the result of your calculation \",result)\n",
    "    \n",
    "    \n",
    "if __name__==\"__main__\":\n",
    "    main()\n"
   ]
  },
  {
   "cell_type": "code",
   "execution_count": 5,
   "id": "4afc806c",
   "metadata": {},
   "outputs": [],
   "source": [
    "def Calculator():\n",
    "    expr=input(\"enter your expression \")\n",
    "    "
   ]
  },
  {
   "cell_type": "code",
   "execution_count": 8,
   "id": "b34df572",
   "metadata": {},
   "outputs": [
    {
     "name": "stdout",
     "output_type": "stream",
     "text": [
      "enter any number8\n",
      "8 is no is even\n"
     ]
    }
   ],
   "source": [
    "class Number_find:\n",
    "    def __init__(self):\n",
    "        pass\n",
    "    def even_or_odd(self,number):\n",
    "        if(number%2==0):\n",
    "            return \"no is even\"\n",
    "        \n",
    "        else:\n",
    "            return \"no is odd\"\n",
    "        \n",
    "number=Number_find()\n",
    "my_number=int(input(\"enter any number\"))\n",
    "result=number.even_or_odd(my_number)\n",
    "print(f\"{my_number} is {result}\")"
   ]
  },
  {
   "cell_type": "code",
   "execution_count": 13,
   "id": "ba8070d2",
   "metadata": {},
   "outputs": [
    {
     "name": "stdout",
     "output_type": "stream",
     "text": [
      "enter any text-> my name is khan\n",
      "number of words  4\n"
     ]
    }
   ],
   "source": [
    "class Word_counter:\n",
    "    def __init__(self,text):\n",
    "        self.text=text\n",
    "        \n",
    "    def count_words(self):\n",
    "        words=self.text.split()\n",
    "        return len(words)\n",
    "    \n",
    "    \n",
    "def main():\n",
    "    text=input(\"enter any text-> \")\n",
    "    counter=Word_counter(text)\n",
    "    word_count=counter.count_words()\n",
    "    print(\"number of words \",word_count)\n",
    "    \n",
    "if __name__==\"__main__\":\n",
    "    main()\n",
    "    "
   ]
  },
  {
   "cell_type": "code",
   "execution_count": 22,
   "id": "addfeea5",
   "metadata": {},
   "outputs": [
    {
     "name": "stdout",
     "output_type": "stream",
     "text": [
      " size of stack 4\n",
      " pop operation 96\n",
      " stack is empty False\n"
     ]
    }
   ],
   "source": [
    "class Stack:\n",
    "    def __init__(self):\n",
    "        self._items=[]\n",
    "        \n",
    "    def push(self,item):\n",
    "        self._items.append(item)\n",
    "        \n",
    "        \n",
    "    def pop(self):\n",
    "        if not self.empty():\n",
    "            return self._items.pop()\n",
    "        else:\n",
    "            return \"stack is empty\"\n",
    "        \n",
    "    def empty(self):\n",
    "        return len(self._items)==0\n",
    "    \n",
    "    \n",
    "    def size(self):\n",
    "        return len(self._items)\n",
    "    \n",
    "    \n",
    "    \n",
    "stack=Stack()\n",
    "stack.push(4)\n",
    "\n",
    "stack.push(100)\n",
    "stack.push(56)\n",
    "stack.push(96)\n",
    "\n",
    "\n",
    "\n",
    "print(f\" size of stack {stack.size()}\")\n",
    "\n",
    "print(f\" pop operation {stack.pop()}\")\n",
    "\n",
    "print(f\" stack is empty {stack.empty()}\")\n",
    "\n"
   ]
  },
  {
   "cell_type": "code",
   "execution_count": 2,
   "id": "4f5257ee",
   "metadata": {},
   "outputs": [
    {
     "data": {
      "image/png": "[encoded data removed]",
      "text/plain": [
       "<Figure size 640x480 with 1 Axes>"
      ]
     },
     "metadata": {},
     "output_type": "display_data"
    }
   ],
   "source": [
    "import matplotlib.pyplot as plt\n",
    "x=[1,2,4,5,6]\n",
    "y=[4,5,3,8,4]\n",
    "plt.plot(x,y)\n",
    "plt.title(\"simple line chart\")\n",
    "plt.xlabel(\"x - axis\")\n",
    "plt.ylabel(\"y- axis \")\n",
    "plt.grid(True)\n",
    "plt.show()"
   ]
  },
  {
   "cell_type": "code",
   "execution_count": 3,
   "id": "c43cd5fd",
   "metadata": {},
   "outputs": [
    {
     "data": {
      "image/png": "[encoded data removed]",
      "text/plain": [
       "<Figure size 640x480 with 1 Axes>"
      ]
     },
     "metadata": {},
     "output_type": "display_data"
    }
   ],
   "source": [
    "x=[23,4,5,6,7]\n",
    "y=[1,35,4,9,8]\n",
    "z=[56,8,96,3,2]\n",
    "plt.plot(x,y,label=\"line one\")\n",
    "plt.plot(y,z,label=\"line two\")\n",
    "plt.legend()\n",
    "plt.show()"
   ]
  },
  {
   "cell_type": "code",
   "execution_count": 8,
   "id": "497011d5",
   "metadata": {},
   "outputs": [
    {
     "data": {
      "image/png": "[encoded data removed]",
      "text/plain": [
       "<Figure size 640x480 with 1 Axes>"
      ]
     },
     "metadata": {},
     "output_type": "display_data"
    }
   ],
   "source": [
    "import numpy as np\n",
    "x=np.linspace(0,10,100)\n",
    "y=np.sin(x)\n",
    "plt.plot(x,y,color=\"red\",linestyle=\"--\",linewidth=\"2\",label=\"sin(x)\")\n",
    "plt.title(\"customised line chart\")\n",
    "plt.grid(True)\n",
    "plt.legend()\n",
    "plt.show()\n"
   ]
  },
  {
   "cell_type": "code",
   "execution_count": 10,
   "id": "9b19b178",
   "metadata": {},
   "outputs": [
    {
     "data": {
      "image/png": "[encoded data removed]",
      "text/plain": [
       "<Figure size 640x480 with 1 Axes>"
      ]
     },
     "metadata": {},
     "output_type": "display_data"
    }
   ],
   "source": [
    "name=[\"Saraa\",\"mrinal\",\"sarita\",\"sitara\"]\n",
    "age=[14,56,23,45]\n",
    "plt.bar(name,age)\n",
    "plt.title(\"simple names\")\n",
    "plt.xlabel(\"x-axis\")\n",
    "plt.ylabel(\"y-label\")\n",
    "plt.show()"
   ]
  },
  {
   "cell_type": "code",
   "execution_count": 21,
   "id": "0f3eb0d4",
   "metadata": {},
   "outputs": [
    {
     "data": {
      "image/png": "[encoded data removed]",
      "text/plain": [
       "<Figure size 640x480 with 1 Axes>"
      ]
     },
     "metadata": {},
     "output_type": "display_data"
    }
   ],
   "source": [
    "name=[\"Saraa\",\"mrinal\",\"sarita\",\"sitara\"]\n",
    "age=[14,56,23,45]\n",
    "plt.barh(name,age,color=\"red\")\n",
    "plt.title(\"simple names\")\n",
    "plt.xlabel(\"x-axis\")\n",
    "plt.ylabel(\"y-label\")\n",
    "plt.show()"
   ]
  },
  {
   "cell_type": "code",
   "execution_count": 9,
   "id": "5164571a",
   "metadata": {},
   "outputs": [
    {
     "data": {
      "text/plain": [
       "Text(0, 0.5, 'y-axis')"
      ]
     },
     "execution_count": 9,
     "metadata": {},
     "output_type": "execute_result"
    },
    {
     "data": {
      "image/png": "[encoded data removed]",
      "text/plain": [
       "<Figure size 640x480 with 1 Axes>"
      ]
     },
     "metadata": {},
     "output_type": "display_data"
    }
   ],
   "source": [
    "# scatter plot\n",
    "import matplotlib.pyplot as plt\n",
    "x=[3,4,5,6,7]\n",
    "y=[45,8,5,3,6]\n",
    "plt.scatter(x,y,color=\"red\",alpha=1)\n",
    "plt.title(\"simple scatter plot\")\n",
    "plt.xlabel(\"x-axis\")\n",
    "plt.ylabel(\"y-axis\")"
   ]
  },
  {
   "cell_type": "code",
   "execution_count": 13,
   "id": "428e9228",
   "metadata": {},
   "outputs": [
    {
     "data": {
      "image/png": "[encoded data removed]",
      "text/plain": [
       "<Figure size 640x480 with 1 Axes>"
      ]
     },
     "metadata": {},
     "output_type": "display_data"
    }
   ],
   "source": [
    "# histogram \n",
    "name=[\"Saraa\",\"mrinal\",\"sarita\",\"sitara\"]\n",
    "age=[14,56,23,45]\n",
    "plt.hist(age,color=\"red\")\n",
    "plt.title(\"simple names\")\n",
    "plt.xlabel(\"x-axis\")\n",
    "plt.ylabel(\"y-label\")\n",
    "plt.show()\n"
   ]
  },
  {
   "cell_type": "code",
   "execution_count": 16,
   "id": "fd601618",
   "metadata": {},
   "outputs": [
    {
     "data": {
      "image/png": "[encoded data removed]",
      "text/plain": [
       "<Figure size 640x480 with 1 Axes>"
      ]
     },
     "metadata": {},
     "output_type": "display_data"
    }
   ],
   "source": [
    "\n",
    "import numpy as np\n",
    "data=np.random.randn(1000)\n",
    "\n",
    "plt.hist(data,bins=30,color=\"skyblue\")\n",
    "plt.xlabel(\"x-axis\")\n",
    "plt.ylabel(\"y-axis\")\n",
    "plt.show()"
   ]
  },
  {
   "cell_type": "code",
   "execution_count": 3,
   "id": "1fed4bab",
   "metadata": {},
   "outputs": [
    {
     "data": {
      "image/png": "[encoded data removed]",
      "text/plain": [
       "<Figure size 640x480 with 1 Axes>"
      ]
     },
     "metadata": {},
     "output_type": "display_data"
    }
   ],
   "source": [
    "import matplotlib.pyplot as plt\n",
    "age=[24,26,5,4,56]\n",
    "name=[\"sara\",\"sarika\",\"sitara\",\"sarita\",\"amita\"]\n",
    "plt.pie(age,labels=name,autopct=\" %1.1f%%\")\n",
    "plt.title(\"simple pie chart\")\n",
    "plt.axis(\"equal\")\n",
    "plt.show()"
   ]
  },
  {
   "cell_type": "code",
   "execution_count": 2,
   "id": "7cbcac3d",
   "metadata": {},
   "outputs": [
    {
     "data": {
      "text/html": [
       "<div>\n",
       "<style scoped>\n",
       "    .dataframe tbody tr th:only-of-type {\n",
       "        vertical-align: middle;\n",
       "    }\n",
       "\n",
       "    .dataframe tbody tr th {\n",
       "        vertical-align: top;\n",
       "    }\n",
       "\n",
       "    .dataframe thead th {\n",
       "        text-align: right;\n",
       "    }\n",
       "</style>\n",
       "<table border=\"1\" class=\"dataframe\">\n",
       "  <thead>\n",
       "    <tr style=\"text-align: right;\">\n",
       "      <th></th>\n",
       "      <th>ts</th>\n",
       "      <th>platform</th>\n",
       "      <th>ms_played</th>\n",
       "      <th>conn_country</th>\n",
       "      <th>master_metadata_track_name</th>\n",
       "      <th>master_metadata_album_artist_name</th>\n",
       "      <th>master_metadata_album_album_name</th>\n",
       "      <th>spotify_track_uri</th>\n",
       "      <th>reason_start</th>\n",
       "      <th>reason_end</th>\n",
       "      <th>shuffle</th>\n",
       "      <th>offline</th>\n",
       "      <th>offline_timestamp</th>\n",
       "      <th>incognito_mode</th>\n",
       "    </tr>\n",
       "  </thead>\n",
       "  <tbody>\n",
       "    <tr>\n",
       "      <th>0</th>\n",
       "      <td>2021-09-04T10:12:23Z</td>\n",
       "      <td>Windows 10 (10.0.22000; x64; AppX)</td>\n",
       "      <td>7130</td>\n",
       "      <td>LK</td>\n",
       "      <td>Broke In A Minute</td>\n",
       "      <td>Tory Lanez</td>\n",
       "      <td>The New Toronto 3</td>\n",
       "      <td>spotify:track:4xqIYGwwZTEem9U8A42SPF</td>\n",
       "      <td>playbtn</td>\n",
       "      <td>endplay</td>\n",
       "      <td>False</td>\n",
       "      <td>False</td>\n",
       "      <td>1630750333278</td>\n",
       "      <td>False</td>\n",
       "    </tr>\n",
       "    <tr>\n",
       "      <th>1</th>\n",
       "      <td>2021-09-04T10:16:20Z</td>\n",
       "      <td>Windows 10 (10.0.22000; x64; AppX)</td>\n",
       "      <td>237714</td>\n",
       "      <td>LK</td>\n",
       "      <td>Bonnona</td>\n",
       "      <td>DJ JNK</td>\n",
       "      <td>Bonnona</td>\n",
       "      <td>spotify:track:6ahGShWSkIHVoBd278gYnC</td>\n",
       "      <td>clickrow</td>\n",
       "      <td>trackdone</td>\n",
       "      <td>False</td>\n",
       "      <td>False</td>\n",
       "      <td>1630750341690</td>\n",
       "      <td>False</td>\n",
       "    </tr>\n",
       "    <tr>\n",
       "      <th>2</th>\n",
       "      <td>2021-09-04T10:17:08Z</td>\n",
       "      <td>Windows 10 (10.0.22000; x64; AppX)</td>\n",
       "      <td>47045</td>\n",
       "      <td>LK</td>\n",
       "      <td>Broken People (Originally Performed by Logic &amp;...</td>\n",
       "      <td>Covered Up</td>\n",
       "      <td>Chart Backing Tracks 2017, Vol. 14</td>\n",
       "      <td>spotify:track:0MONybFd78nzNA7Au93yb2</td>\n",
       "      <td>trackdone</td>\n",
       "      <td>endplay</td>\n",
       "      <td>False</td>\n",
       "      <td>False</td>\n",
       "      <td>1630750578721</td>\n",
       "      <td>False</td>\n",
       "    </tr>\n",
       "    <tr>\n",
       "      <th>3</th>\n",
       "      <td>2021-09-04T10:19:41Z</td>\n",
       "      <td>Windows 10 (10.0.22000; x64; AppX)</td>\n",
       "      <td>32500</td>\n",
       "      <td>LK</td>\n",
       "      <td>ブルーバード</td>\n",
       "      <td>Ikimonogakari</td>\n",
       "      <td>Chou Ikimonobakari Tennen Kinen Members Best S...</td>\n",
       "      <td>spotify:track:2XpV9sHBexcNrz0Gyf3l18</td>\n",
       "      <td>clickrow</td>\n",
       "      <td>endplay</td>\n",
       "      <td>False</td>\n",
       "      <td>False</td>\n",
       "      <td>1630750627276</td>\n",
       "      <td>False</td>\n",
       "    </tr>\n",
       "    <tr>\n",
       "      <th>4</th>\n",
       "      <td>2021-09-04T10:22:57Z</td>\n",
       "      <td>Windows 10 (10.0.22000; x64; AppX)</td>\n",
       "      <td>197298</td>\n",
       "      <td>LK</td>\n",
       "      <td>The Bones - with Hozier</td>\n",
       "      <td>Maren Morris</td>\n",
       "      <td>The Bones</td>\n",
       "      <td>spotify:track:1yTTMcUhL7rtz08Dsgb7Qb</td>\n",
       "      <td>clickrow</td>\n",
       "      <td>trackdone</td>\n",
       "      <td>False</td>\n",
       "      <td>False</td>\n",
       "      <td>1630750779709</td>\n",
       "      <td>False</td>\n",
       "    </tr>\n",
       "    <tr>\n",
       "      <th>...</th>\n",
       "      <td>...</td>\n",
       "      <td>...</td>\n",
       "      <td>...</td>\n",
       "      <td>...</td>\n",
       "      <td>...</td>\n",
       "      <td>...</td>\n",
       "      <td>...</td>\n",
       "      <td>...</td>\n",
       "      <td>...</td>\n",
       "      <td>...</td>\n",
       "      <td>...</td>\n",
       "      <td>...</td>\n",
       "      <td>...</td>\n",
       "      <td>...</td>\n",
       "    </tr>\n",
       "    <tr>\n",
       "      <th>39810</th>\n",
       "      <td>2024-01-15T16:46:58Z</td>\n",
       "      <td>ios</td>\n",
       "      <td>184889</td>\n",
       "      <td>LK</td>\n",
       "      <td>Heading Home</td>\n",
       "      <td>Alan Walker</td>\n",
       "      <td>Heading Home</td>\n",
       "      <td>spotify:track:22O2Zdfj3jnJZDSzlDMAJp</td>\n",
       "      <td>trackdone</td>\n",
       "      <td>trackdone</td>\n",
       "      <td>True</td>\n",
       "      <td>False</td>\n",
       "      <td>1705337034</td>\n",
       "      <td>False</td>\n",
       "    </tr>\n",
       "    <tr>\n",
       "      <th>39811</th>\n",
       "      <td>2024-01-15T16:51:28Z</td>\n",
       "      <td>ios</td>\n",
       "      <td>268717</td>\n",
       "      <td>LK</td>\n",
       "      <td>Dandelions - slowed + reverb</td>\n",
       "      <td>Ruth B.</td>\n",
       "      <td>Dandelions</td>\n",
       "      <td>spotify:track:6fhG2KJgwO7CrNflRaRmvp</td>\n",
       "      <td>trackdone</td>\n",
       "      <td>trackdone</td>\n",
       "      <td>True</td>\n",
       "      <td>False</td>\n",
       "      <td>1705337219</td>\n",
       "      <td>False</td>\n",
       "    </tr>\n",
       "    <tr>\n",
       "      <th>39812</th>\n",
       "      <td>2024-01-15T16:54:36Z</td>\n",
       "      <td>ios</td>\n",
       "      <td>187541</td>\n",
       "      <td>LK</td>\n",
       "      <td>WAP (feat. Megan Thee Stallion)</td>\n",
       "      <td>Cardi B</td>\n",
       "      <td>WAP (feat. Megan Thee Stallion)</td>\n",
       "      <td>spotify:track:4Oun2ylbjFKMPTiaSbbCih</td>\n",
       "      <td>trackdone</td>\n",
       "      <td>trackdone</td>\n",
       "      <td>True</td>\n",
       "      <td>False</td>\n",
       "      <td>1705337488</td>\n",
       "      <td>False</td>\n",
       "    </tr>\n",
       "    <tr>\n",
       "      <th>39813</th>\n",
       "      <td>2024-01-15T16:59:11Z</td>\n",
       "      <td>ios</td>\n",
       "      <td>274560</td>\n",
       "      <td>LK</td>\n",
       "      <td>春夏秋冬</td>\n",
       "      <td>sumika</td>\n",
       "      <td>Chime</td>\n",
       "      <td>spotify:track:3TQKZoYr4tH2YeJ02bcw1m</td>\n",
       "      <td>trackdone</td>\n",
       "      <td>trackdone</td>\n",
       "      <td>True</td>\n",
       "      <td>False</td>\n",
       "      <td>1705337676</td>\n",
       "      <td>False</td>\n",
       "    </tr>\n",
       "    <tr>\n",
       "      <th>39814</th>\n",
       "      <td>2024-01-16T03:28:03Z</td>\n",
       "      <td>ios</td>\n",
       "      <td>32888</td>\n",
       "      <td>LK</td>\n",
       "      <td>TO THE MOON</td>\n",
       "      <td>JNR CHOI</td>\n",
       "      <td>TO THE MOON</td>\n",
       "      <td>spotify:track:5vUnjhBzRJJIAOJPde6zDx</td>\n",
       "      <td>trackdone</td>\n",
       "      <td>logout</td>\n",
       "      <td>True</td>\n",
       "      <td>False</td>\n",
       "      <td>1705337951</td>\n",
       "      <td>False</td>\n",
       "    </tr>\n",
       "  </tbody>\n",
       "</table>\n",
       "<p>39815 rows × 14 columns</p>\n",
       "</div>"
      ],
      "text/plain": [
       "                         ts                            platform  ms_played  \\\n",
       "0      2021-09-04T10:12:23Z  Windows 10 (10.0.22000; x64; AppX)       7130   \n",
       "1      2021-09-04T10:16:20Z  Windows 10 (10.0.22000; x64; AppX)     237714   \n",
       "2      2021-09-04T10:17:08Z  Windows 10 (10.0.22000; x64; AppX)      47045   \n",
       "3      2021-09-04T10:19:41Z  Windows 10 (10.0.22000; x64; AppX)      32500   \n",
       "4      2021-09-04T10:22:57Z  Windows 10 (10.0.22000; x64; AppX)     197298   \n",
       "...                     ...                                 ...        ...   \n",
       "39810  2024-01-15T16:46:58Z                                 ios     184889   \n",
       "39811  2024-01-15T16:51:28Z                                 ios     268717   \n",
       "39812  2024-01-15T16:54:36Z                                 ios     187541   \n",
       "39813  2024-01-15T16:59:11Z                                 ios     274560   \n",
       "39814  2024-01-16T03:28:03Z                                 ios      32888   \n",
       "\n",
       "      conn_country                         master_metadata_track_name  \\\n",
       "0               LK                                  Broke In A Minute   \n",
       "1               LK                                            Bonnona   \n",
       "2               LK  Broken People (Originally Performed by Logic &...   \n",
       "3               LK                                             ブルーバード   \n",
       "4               LK                            The Bones - with Hozier   \n",
       "...            ...                                                ...   \n",
       "39810           LK                                       Heading Home   \n",
       "39811           LK                       Dandelions - slowed + reverb   \n",
       "39812           LK                    WAP (feat. Megan Thee Stallion)   \n",
       "39813           LK                                               春夏秋冬   \n",
       "39814           LK                                        TO THE MOON   \n",
       "\n",
       "      master_metadata_album_artist_name  \\\n",
       "0                            Tory Lanez   \n",
       "1                                DJ JNK   \n",
       "2                            Covered Up   \n",
       "3                         Ikimonogakari   \n",
       "4                          Maren Morris   \n",
       "...                                 ...   \n",
       "39810                       Alan Walker   \n",
       "39811                           Ruth B.   \n",
       "39812                           Cardi B   \n",
       "39813                            sumika   \n",
       "39814                          JNR CHOI   \n",
       "\n",
       "                        master_metadata_album_album_name  \\\n",
       "0                                      The New Toronto 3   \n",
       "1                                                Bonnona   \n",
       "2                     Chart Backing Tracks 2017, Vol. 14   \n",
       "3      Chou Ikimonobakari Tennen Kinen Members Best S...   \n",
       "4                                              The Bones   \n",
       "...                                                  ...   \n",
       "39810                                       Heading Home   \n",
       "39811                                         Dandelions   \n",
       "39812                    WAP (feat. Megan Thee Stallion)   \n",
       "39813                                              Chime   \n",
       "39814                                        TO THE MOON   \n",
       "\n",
       "                          spotify_track_uri reason_start reason_end  shuffle  \\\n",
       "0      spotify:track:4xqIYGwwZTEem9U8A42SPF      playbtn    endplay    False   \n",
       "1      spotify:track:6ahGShWSkIHVoBd278gYnC     clickrow  trackdone    False   \n",
       "2      spotify:track:0MONybFd78nzNA7Au93yb2    trackdone    endplay    False   \n",
       "3      spotify:track:2XpV9sHBexcNrz0Gyf3l18     clickrow    endplay    False   \n",
       "4      spotify:track:1yTTMcUhL7rtz08Dsgb7Qb     clickrow  trackdone    False   \n",
       "...                                     ...          ...        ...      ...   \n",
       "39810  spotify:track:22O2Zdfj3jnJZDSzlDMAJp    trackdone  trackdone     True   \n",
       "39811  spotify:track:6fhG2KJgwO7CrNflRaRmvp    trackdone  trackdone     True   \n",
       "39812  spotify:track:4Oun2ylbjFKMPTiaSbbCih    trackdone  trackdone     True   \n",
       "39813  spotify:track:3TQKZoYr4tH2YeJ02bcw1m    trackdone  trackdone     True   \n",
       "39814  spotify:track:5vUnjhBzRJJIAOJPde6zDx    trackdone     logout     True   \n",
       "\n",
       "       offline  offline_timestamp  incognito_mode  \n",
       "0        False      1630750333278           False  \n",
       "1        False      1630750341690           False  \n",
       "2        False      1630750578721           False  \n",
       "3        False      1630750627276           False  \n",
       "4        False      1630750779709           False  \n",
       "...        ...                ...             ...  \n",
       "39810    False         1705337034           False  \n",
       "39811    False         1705337219           False  \n",
       "39812    False         1705337488           False  \n",
       "39813    False         1705337676           False  \n",
       "39814    False         1705337951           False  \n",
       "\n",
       "[39815 rows x 14 columns]"
      ]
     },
     "execution_count": 2,
     "metadata": {},
     "output_type": "execute_result"
    }
   ],
   "source": [
    "import pandas as pd\n",
    "import numpy as np\n",
    "import seaborn as sns\n",
    "df=pd.read_json(\"clean_data.json\")\n",
    "df"
   ]
  },
  {
   "cell_type": "code",
   "execution_count": 3,
   "id": "ec7f9471",
   "metadata": {},
   "outputs": [
    {
     "data": {
      "text/html": [
       "<div>\n",
       "<style scoped>\n",
       "    .dataframe tbody tr th:only-of-type {\n",
       "        vertical-align: middle;\n",
       "    }\n",
       "\n",
       "    .dataframe tbody tr th {\n",
       "        vertical-align: top;\n",
       "    }\n",
       "\n",
       "    .dataframe thead th {\n",
       "        text-align: right;\n",
       "    }\n",
       "</style>\n",
       "<table border=\"1\" class=\"dataframe\">\n",
       "  <thead>\n",
       "    <tr style=\"text-align: right;\">\n",
       "      <th></th>\n",
       "      <th>ts</th>\n",
       "      <th>platform</th>\n",
       "      <th>ms_played</th>\n",
       "      <th>conn_country</th>\n",
       "      <th>master_metadata_track_name</th>\n",
       "      <th>master_metadata_album_artist_name</th>\n",
       "      <th>master_metadata_album_album_name</th>\n",
       "      <th>spotify_track_uri</th>\n",
       "      <th>reason_start</th>\n",
       "      <th>reason_end</th>\n",
       "      <th>shuffle</th>\n",
       "      <th>offline</th>\n",
       "      <th>offline_timestamp</th>\n",
       "      <th>incognito_mode</th>\n",
       "    </tr>\n",
       "  </thead>\n",
       "  <tbody>\n",
       "    <tr>\n",
       "      <th>0</th>\n",
       "      <td>2021-09-04T10:12:23Z</td>\n",
       "      <td>Windows 10 (10.0.22000; x64; AppX)</td>\n",
       "      <td>7130</td>\n",
       "      <td>LK</td>\n",
       "      <td>Broke In A Minute</td>\n",
       "      <td>Tory Lanez</td>\n",
       "      <td>The New Toronto 3</td>\n",
       "      <td>spotify:track:4xqIYGwwZTEem9U8A42SPF</td>\n",
       "      <td>playbtn</td>\n",
       "      <td>endplay</td>\n",
       "      <td>False</td>\n",
       "      <td>False</td>\n",
       "      <td>1630750333278</td>\n",
       "      <td>False</td>\n",
       "    </tr>\n",
       "    <tr>\n",
       "      <th>1</th>\n",
       "      <td>2021-09-04T10:16:20Z</td>\n",
       "      <td>Windows 10 (10.0.22000; x64; AppX)</td>\n",
       "      <td>237714</td>\n",
       "      <td>LK</td>\n",
       "      <td>Bonnona</td>\n",
       "      <td>DJ JNK</td>\n",
       "      <td>Bonnona</td>\n",
       "      <td>spotify:track:6ahGShWSkIHVoBd278gYnC</td>\n",
       "      <td>clickrow</td>\n",
       "      <td>trackdone</td>\n",
       "      <td>False</td>\n",
       "      <td>False</td>\n",
       "      <td>1630750341690</td>\n",
       "      <td>False</td>\n",
       "    </tr>\n",
       "    <tr>\n",
       "      <th>2</th>\n",
       "      <td>2021-09-04T10:17:08Z</td>\n",
       "      <td>Windows 10 (10.0.22000; x64; AppX)</td>\n",
       "      <td>47045</td>\n",
       "      <td>LK</td>\n",
       "      <td>Broken People (Originally Performed by Logic &amp;...</td>\n",
       "      <td>Covered Up</td>\n",
       "      <td>Chart Backing Tracks 2017, Vol. 14</td>\n",
       "      <td>spotify:track:0MONybFd78nzNA7Au93yb2</td>\n",
       "      <td>trackdone</td>\n",
       "      <td>endplay</td>\n",
       "      <td>False</td>\n",
       "      <td>False</td>\n",
       "      <td>1630750578721</td>\n",
       "      <td>False</td>\n",
       "    </tr>\n",
       "    <tr>\n",
       "      <th>3</th>\n",
       "      <td>2021-09-04T10:19:41Z</td>\n",
       "      <td>Windows 10 (10.0.22000; x64; AppX)</td>\n",
       "      <td>32500</td>\n",
       "      <td>LK</td>\n",
       "      <td>ブルーバード</td>\n",
       "      <td>Ikimonogakari</td>\n",
       "      <td>Chou Ikimonobakari Tennen Kinen Members Best S...</td>\n",
       "      <td>spotify:track:2XpV9sHBexcNrz0Gyf3l18</td>\n",
       "      <td>clickrow</td>\n",
       "      <td>endplay</td>\n",
       "      <td>False</td>\n",
       "      <td>False</td>\n",
       "      <td>1630750627276</td>\n",
       "      <td>False</td>\n",
       "    </tr>\n",
       "    <tr>\n",
       "      <th>4</th>\n",
       "      <td>2021-09-04T10:22:57Z</td>\n",
       "      <td>Windows 10 (10.0.22000; x64; AppX)</td>\n",
       "      <td>197298</td>\n",
       "      <td>LK</td>\n",
       "      <td>The Bones - with Hozier</td>\n",
       "      <td>Maren Morris</td>\n",
       "      <td>The Bones</td>\n",
       "      <td>spotify:track:1yTTMcUhL7rtz08Dsgb7Qb</td>\n",
       "      <td>clickrow</td>\n",
       "      <td>trackdone</td>\n",
       "      <td>False</td>\n",
       "      <td>False</td>\n",
       "      <td>1630750779709</td>\n",
       "      <td>False</td>\n",
       "    </tr>\n",
       "  </tbody>\n",
       "</table>\n",
       "</div>"
      ],
      "text/plain": [
       "                     ts                            platform  ms_played  \\\n",
       "0  2021-09-04T10:12:23Z  Windows 10 (10.0.22000; x64; AppX)       7130   \n",
       "1  2021-09-04T10:16:20Z  Windows 10 (10.0.22000; x64; AppX)     237714   \n",
       "2  2021-09-04T10:17:08Z  Windows 10 (10.0.22000; x64; AppX)      47045   \n",
       "3  2021-09-04T10:19:41Z  Windows 10 (10.0.22000; x64; AppX)      32500   \n",
       "4  2021-09-04T10:22:57Z  Windows 10 (10.0.22000; x64; AppX)     197298   \n",
       "\n",
       "  conn_country                         master_metadata_track_name  \\\n",
       "0           LK                                  Broke In A Minute   \n",
       "1           LK                                            Bonnona   \n",
       "2           LK  Broken People (Originally Performed by Logic &...   \n",
       "3           LK                                             ブルーバード   \n",
       "4           LK                            The Bones - with Hozier   \n",
       "\n",
       "  master_metadata_album_artist_name  \\\n",
       "0                        Tory Lanez   \n",
       "1                            DJ JNK   \n",
       "2                        Covered Up   \n",
       "3                     Ikimonogakari   \n",
       "4                      Maren Morris   \n",
       "\n",
       "                    master_metadata_album_album_name  \\\n",
       "0                                  The New Toronto 3   \n",
       "1                                            Bonnona   \n",
       "2                 Chart Backing Tracks 2017, Vol. 14   \n",
       "3  Chou Ikimonobakari Tennen Kinen Members Best S...   \n",
       "4                                          The Bones   \n",
       "\n",
       "                      spotify_track_uri reason_start reason_end  shuffle  \\\n",
       "0  spotify:track:4xqIYGwwZTEem9U8A42SPF      playbtn    endplay    False   \n",
       "1  spotify:track:6ahGShWSkIHVoBd278gYnC     clickrow  trackdone    False   \n",
       "2  spotify:track:0MONybFd78nzNA7Au93yb2    trackdone    endplay    False   \n",
       "3  spotify:track:2XpV9sHBexcNrz0Gyf3l18     clickrow    endplay    False   \n",
       "4  spotify:track:1yTTMcUhL7rtz08Dsgb7Qb     clickrow  trackdone    False   \n",
       "\n",
       "   offline  offline_timestamp  incognito_mode  \n",
       "0    False      1630750333278           False  \n",
       "1    False      1630750341690           False  \n",
       "2    False      1630750578721           False  \n",
       "3    False      1630750627276           False  \n",
       "4    False      1630750779709           False  "
      ]
     },
     "execution_count": 3,
     "metadata": {},
     "output_type": "execute_result"
    }
   ],
   "source": [
    "df.head()"
   ]
  },
  {
   "cell_type": "code",
   "execution_count": 4,
   "id": "533df239",
   "metadata": {},
   "outputs": [
    {
     "name": "stdout",
     "output_type": "stream",
     "text": [
      "<class 'pandas.core.frame.DataFrame'>\n",
      "Index: 39815 entries, 0 to 39814\n",
      "Data columns (total 14 columns):\n",
      " #   Column                             Non-Null Count  Dtype \n",
      "---  ------                             --------------  ----- \n",
      " 0   ts                                 39815 non-null  object\n",
      " 1   platform                           39815 non-null  object\n",
      " 2   ms_played                          39815 non-null  int64 \n",
      " 3   conn_country                       39815 non-null  object\n",
      " 4   master_metadata_track_name         39815 non-null  object\n",
      " 5   master_metadata_album_artist_name  39815 non-null  object\n",
      " 6   master_metadata_album_album_name   39815 non-null  object\n",
      " 7   spotify_track_uri                  39815 non-null  object\n",
      " 8   reason_start                       39815 non-null  object\n",
      " 9   reason_end                         39815 non-null  object\n",
      " 10  shuffle                            39815 non-null  bool  \n",
      " 11  offline                            39815 non-null  bool  \n",
      " 12  offline_timestamp                  39815 non-null  int64 \n",
      " 13  incognito_mode                     39815 non-null  bool  \n",
      "dtypes: bool(3), int64(2), object(9)\n",
      "memory usage: 3.8+ MB\n"
     ]
    }
   ],
   "source": [
    "df.info()"
   ]
  },
  {
   "cell_type": "code",
   "execution_count": 5,
   "id": "9865aa4f",
   "metadata": {},
   "outputs": [
    {
     "data": {
      "text/html": [
       "<div>\n",
       "<style scoped>\n",
       "    .dataframe tbody tr th:only-of-type {\n",
       "        vertical-align: middle;\n",
       "    }\n",
       "\n",
       "    .dataframe tbody tr th {\n",
       "        vertical-align: top;\n",
       "    }\n",
       "\n",
       "    .dataframe thead th {\n",
       "        text-align: right;\n",
       "    }\n",
       "</style>\n",
       "<table border=\"1\" class=\"dataframe\">\n",
       "  <thead>\n",
       "    <tr style=\"text-align: right;\">\n",
       "      <th></th>\n",
       "      <th>ts</th>\n",
       "      <th>platform</th>\n",
       "      <th>ms_played</th>\n",
       "      <th>conn_country</th>\n",
       "      <th>master_metadata_track_name</th>\n",
       "      <th>master_metadata_album_artist_name</th>\n",
       "      <th>master_metadata_album_album_name</th>\n",
       "      <th>spotify_track_uri</th>\n",
       "      <th>reason_start</th>\n",
       "      <th>reason_end</th>\n",
       "      <th>shuffle</th>\n",
       "      <th>offline</th>\n",
       "      <th>offline_timestamp</th>\n",
       "      <th>incognito_mode</th>\n",
       "    </tr>\n",
       "  </thead>\n",
       "  <tbody>\n",
       "    <tr>\n",
       "      <th>39810</th>\n",
       "      <td>2024-01-15T16:46:58Z</td>\n",
       "      <td>ios</td>\n",
       "      <td>184889</td>\n",
       "      <td>LK</td>\n",
       "      <td>Heading Home</td>\n",
       "      <td>Alan Walker</td>\n",
       "      <td>Heading Home</td>\n",
       "      <td>spotify:track:22O2Zdfj3jnJZDSzlDMAJp</td>\n",
       "      <td>trackdone</td>\n",
       "      <td>trackdone</td>\n",
       "      <td>True</td>\n",
       "      <td>False</td>\n",
       "      <td>1705337034</td>\n",
       "      <td>False</td>\n",
       "    </tr>\n",
       "    <tr>\n",
       "      <th>39811</th>\n",
       "      <td>2024-01-15T16:51:28Z</td>\n",
       "      <td>ios</td>\n",
       "      <td>268717</td>\n",
       "      <td>LK</td>\n",
       "      <td>Dandelions - slowed + reverb</td>\n",
       "      <td>Ruth B.</td>\n",
       "      <td>Dandelions</td>\n",
       "      <td>spotify:track:6fhG2KJgwO7CrNflRaRmvp</td>\n",
       "      <td>trackdone</td>\n",
       "      <td>trackdone</td>\n",
       "      <td>True</td>\n",
       "      <td>False</td>\n",
       "      <td>1705337219</td>\n",
       "      <td>False</td>\n",
       "    </tr>\n",
       "    <tr>\n",
       "      <th>39812</th>\n",
       "      <td>2024-01-15T16:54:36Z</td>\n",
       "      <td>ios</td>\n",
       "      <td>187541</td>\n",
       "      <td>LK</td>\n",
       "      <td>WAP (feat. Megan Thee Stallion)</td>\n",
       "      <td>Cardi B</td>\n",
       "      <td>WAP (feat. Megan Thee Stallion)</td>\n",
       "      <td>spotify:track:4Oun2ylbjFKMPTiaSbbCih</td>\n",
       "      <td>trackdone</td>\n",
       "      <td>trackdone</td>\n",
       "      <td>True</td>\n",
       "      <td>False</td>\n",
       "      <td>1705337488</td>\n",
       "      <td>False</td>\n",
       "    </tr>\n",
       "    <tr>\n",
       "      <th>39813</th>\n",
       "      <td>2024-01-15T16:59:11Z</td>\n",
       "      <td>ios</td>\n",
       "      <td>274560</td>\n",
       "      <td>LK</td>\n",
       "      <td>春夏秋冬</td>\n",
       "      <td>sumika</td>\n",
       "      <td>Chime</td>\n",
       "      <td>spotify:track:3TQKZoYr4tH2YeJ02bcw1m</td>\n",
       "      <td>trackdone</td>\n",
       "      <td>trackdone</td>\n",
       "      <td>True</td>\n",
       "      <td>False</td>\n",
       "      <td>1705337676</td>\n",
       "      <td>False</td>\n",
       "    </tr>\n",
       "    <tr>\n",
       "      <th>39814</th>\n",
       "      <td>2024-01-16T03:28:03Z</td>\n",
       "      <td>ios</td>\n",
       "      <td>32888</td>\n",
       "      <td>LK</td>\n",
       "      <td>TO THE MOON</td>\n",
       "      <td>JNR CHOI</td>\n",
       "      <td>TO THE MOON</td>\n",
       "      <td>spotify:track:5vUnjhBzRJJIAOJPde6zDx</td>\n",
       "      <td>trackdone</td>\n",
       "      <td>logout</td>\n",
       "      <td>True</td>\n",
       "      <td>False</td>\n",
       "      <td>1705337951</td>\n",
       "      <td>False</td>\n",
       "    </tr>\n",
       "  </tbody>\n",
       "</table>\n",
       "</div>"
      ],
      "text/plain": [
       "                         ts platform  ms_played conn_country  \\\n",
       "39810  2024-01-15T16:46:58Z      ios     184889           LK   \n",
       "39811  2024-01-15T16:51:28Z      ios     268717           LK   \n",
       "39812  2024-01-15T16:54:36Z      ios     187541           LK   \n",
       "39813  2024-01-15T16:59:11Z      ios     274560           LK   \n",
       "39814  2024-01-16T03:28:03Z      ios      32888           LK   \n",
       "\n",
       "            master_metadata_track_name master_metadata_album_artist_name  \\\n",
       "39810                     Heading Home                       Alan Walker   \n",
       "39811     Dandelions - slowed + reverb                           Ruth B.   \n",
       "39812  WAP (feat. Megan Thee Stallion)                           Cardi B   \n",
       "39813                             春夏秋冬                            sumika   \n",
       "39814                      TO THE MOON                          JNR CHOI   \n",
       "\n",
       "      master_metadata_album_album_name                     spotify_track_uri  \\\n",
       "39810                     Heading Home  spotify:track:22O2Zdfj3jnJZDSzlDMAJp   \n",
       "39811                       Dandelions  spotify:track:6fhG2KJgwO7CrNflRaRmvp   \n",
       "39812  WAP (feat. Megan Thee Stallion)  spotify:track:4Oun2ylbjFKMPTiaSbbCih   \n",
       "39813                            Chime  spotify:track:3TQKZoYr4tH2YeJ02bcw1m   \n",
       "39814                      TO THE MOON  spotify:track:5vUnjhBzRJJIAOJPde6zDx   \n",
       "\n",
       "      reason_start reason_end  shuffle  offline  offline_timestamp  \\\n",
       "39810    trackdone  trackdone     True    False         1705337034   \n",
       "39811    trackdone  trackdone     True    False         1705337219   \n",
       "39812    trackdone  trackdone     True    False         1705337488   \n",
       "39813    trackdone  trackdone     True    False         1705337676   \n",
       "39814    trackdone     logout     True    False         1705337951   \n",
       "\n",
       "       incognito_mode  \n",
       "39810           False  \n",
       "39811           False  \n",
       "39812           False  \n",
       "39813           False  \n",
       "39814           False  "
      ]
     },
     "execution_count": 5,
     "metadata": {},
     "output_type": "execute_result"
    }
   ],
   "source": [
    "df.tail()"
   ]
  },
  {
   "cell_type": "code",
   "execution_count": 6,
   "id": "3caebe8d",
   "metadata": {},
   "outputs": [
    {
     "data": {
      "text/plain": [
       "Index(['ts', 'platform', 'ms_played', 'conn_country',\n",
       "       'master_metadata_track_name', 'master_metadata_album_artist_name',\n",
       "       'master_metadata_album_album_name', 'spotify_track_uri', 'reason_start',\n",
       "       'reason_end', 'shuffle', 'offline', 'offline_timestamp',\n",
       "       'incognito_mode'],\n",
       "      dtype='object')"
      ]
     },
     "execution_count": 6,
     "metadata": {},
     "output_type": "execute_result"
    }
   ],
   "source": [
    "df.columns"
   ]
  },
  {
   "cell_type": "code",
   "execution_count": 7,
   "id": "145e958e",
   "metadata": {},
   "outputs": [
    {
     "data": {
      "text/html": [
       "<div>\n",
       "<style scoped>\n",
       "    .dataframe tbody tr th:only-of-type {\n",
       "        vertical-align: middle;\n",
       "    }\n",
       "\n",
       "    .dataframe tbody tr th {\n",
       "        vertical-align: top;\n",
       "    }\n",
       "\n",
       "    .dataframe thead th {\n",
       "        text-align: right;\n",
       "    }\n",
       "</style>\n",
       "<table border=\"1\" class=\"dataframe\">\n",
       "  <thead>\n",
       "    <tr style=\"text-align: right;\">\n",
       "      <th></th>\n",
       "      <th>ms_played</th>\n",
       "      <th>offline_timestamp</th>\n",
       "    </tr>\n",
       "  </thead>\n",
       "  <tbody>\n",
       "    <tr>\n",
       "      <th>count</th>\n",
       "      <td>39815.000000</td>\n",
       "      <td>3.981500e+04</td>\n",
       "    </tr>\n",
       "    <tr>\n",
       "      <th>mean</th>\n",
       "      <td>164832.787166</td>\n",
       "      <td>1.072167e+12</td>\n",
       "    </tr>\n",
       "    <tr>\n",
       "      <th>std</th>\n",
       "      <td>84677.642530</td>\n",
       "      <td>7.832921e+11</td>\n",
       "    </tr>\n",
       "    <tr>\n",
       "      <th>min</th>\n",
       "      <td>0.000000</td>\n",
       "      <td>0.000000e+00</td>\n",
       "    </tr>\n",
       "    <tr>\n",
       "      <th>25%</th>\n",
       "      <td>128635.000000</td>\n",
       "      <td>1.688829e+09</td>\n",
       "    </tr>\n",
       "    <tr>\n",
       "      <th>50%</th>\n",
       "      <td>182160.000000</td>\n",
       "      <td>1.635623e+12</td>\n",
       "    </tr>\n",
       "    <tr>\n",
       "      <th>75%</th>\n",
       "      <td>218364.000000</td>\n",
       "      <td>1.647909e+12</td>\n",
       "    </tr>\n",
       "    <tr>\n",
       "      <th>max</th>\n",
       "      <td>613026.000000</td>\n",
       "      <td>1.665782e+12</td>\n",
       "    </tr>\n",
       "  </tbody>\n",
       "</table>\n",
       "</div>"
      ],
      "text/plain": [
       "           ms_played  offline_timestamp\n",
       "count   39815.000000       3.981500e+04\n",
       "mean   164832.787166       1.072167e+12\n",
       "std     84677.642530       7.832921e+11\n",
       "min         0.000000       0.000000e+00\n",
       "25%    128635.000000       1.688829e+09\n",
       "50%    182160.000000       1.635623e+12\n",
       "75%    218364.000000       1.647909e+12\n",
       "max    613026.000000       1.665782e+12"
      ]
     },
     "execution_count": 7,
     "metadata": {},
     "output_type": "execute_result"
    }
   ],
   "source": [
    "df.describe()"
   ]
  },
  {
   "cell_type": "code",
   "execution_count": 8,
   "id": "f6e6ee83",
   "metadata": {},
   "outputs": [
    {
     "data": {
      "text/html": [
       "<div>\n",
       "<style scoped>\n",
       "    .dataframe tbody tr th:only-of-type {\n",
       "        vertical-align: middle;\n",
       "    }\n",
       "\n",
       "    .dataframe tbody tr th {\n",
       "        vertical-align: top;\n",
       "    }\n",
       "\n",
       "    .dataframe thead th {\n",
       "        text-align: right;\n",
       "    }\n",
       "</style>\n",
       "<table border=\"1\" class=\"dataframe\">\n",
       "  <thead>\n",
       "    <tr style=\"text-align: right;\">\n",
       "      <th></th>\n",
       "      <th>ts</th>\n",
       "      <th>platform</th>\n",
       "      <th>ms_played</th>\n",
       "      <th>conn_country</th>\n",
       "      <th>master_metadata_track_name</th>\n",
       "      <th>master_metadata_album_artist_name</th>\n",
       "      <th>master_metadata_album_album_name</th>\n",
       "      <th>spotify_track_uri</th>\n",
       "      <th>reason_start</th>\n",
       "      <th>reason_end</th>\n",
       "      <th>shuffle</th>\n",
       "      <th>offline</th>\n",
       "      <th>offline_timestamp</th>\n",
       "      <th>incognito_mode</th>\n",
       "    </tr>\n",
       "  </thead>\n",
       "  <tbody>\n",
       "    <tr>\n",
       "      <th>0</th>\n",
       "      <td>False</td>\n",
       "      <td>False</td>\n",
       "      <td>False</td>\n",
       "      <td>False</td>\n",
       "      <td>False</td>\n",
       "      <td>False</td>\n",
       "      <td>False</td>\n",
       "      <td>False</td>\n",
       "      <td>False</td>\n",
       "      <td>False</td>\n",
       "      <td>False</td>\n",
       "      <td>False</td>\n",
       "      <td>False</td>\n",
       "      <td>False</td>\n",
       "    </tr>\n",
       "    <tr>\n",
       "      <th>1</th>\n",
       "      <td>False</td>\n",
       "      <td>False</td>\n",
       "      <td>False</td>\n",
       "      <td>False</td>\n",
       "      <td>False</td>\n",
       "      <td>False</td>\n",
       "      <td>False</td>\n",
       "      <td>False</td>\n",
       "      <td>False</td>\n",
       "      <td>False</td>\n",
       "      <td>False</td>\n",
       "      <td>False</td>\n",
       "      <td>False</td>\n",
       "      <td>False</td>\n",
       "    </tr>\n",
       "    <tr>\n",
       "      <th>2</th>\n",
       "      <td>False</td>\n",
       "      <td>False</td>\n",
       "      <td>False</td>\n",
       "      <td>False</td>\n",
       "      <td>False</td>\n",
       "      <td>False</td>\n",
       "      <td>False</td>\n",
       "      <td>False</td>\n",
       "      <td>False</td>\n",
       "      <td>False</td>\n",
       "      <td>False</td>\n",
       "      <td>False</td>\n",
       "      <td>False</td>\n",
       "      <td>False</td>\n",
       "    </tr>\n",
       "    <tr>\n",
       "      <th>3</th>\n",
       "      <td>False</td>\n",
       "      <td>False</td>\n",
       "      <td>False</td>\n",
       "      <td>False</td>\n",
       "      <td>False</td>\n",
       "      <td>False</td>\n",
       "      <td>False</td>\n",
       "      <td>False</td>\n",
       "      <td>False</td>\n",
       "      <td>False</td>\n",
       "      <td>False</td>\n",
       "      <td>False</td>\n",
       "      <td>False</td>\n",
       "      <td>False</td>\n",
       "    </tr>\n",
       "    <tr>\n",
       "      <th>4</th>\n",
       "      <td>False</td>\n",
       "      <td>False</td>\n",
       "      <td>False</td>\n",
       "      <td>False</td>\n",
       "      <td>False</td>\n",
       "      <td>False</td>\n",
       "      <td>False</td>\n",
       "      <td>False</td>\n",
       "      <td>False</td>\n",
       "      <td>False</td>\n",
       "      <td>False</td>\n",
       "      <td>False</td>\n",
       "      <td>False</td>\n",
       "      <td>False</td>\n",
       "    </tr>\n",
       "    <tr>\n",
       "      <th>...</th>\n",
       "      <td>...</td>\n",
       "      <td>...</td>\n",
       "      <td>...</td>\n",
       "      <td>...</td>\n",
       "      <td>...</td>\n",
       "      <td>...</td>\n",
       "      <td>...</td>\n",
       "      <td>...</td>\n",
       "      <td>...</td>\n",
       "      <td>...</td>\n",
       "      <td>...</td>\n",
       "      <td>...</td>\n",
       "      <td>...</td>\n",
       "      <td>...</td>\n",
       "    </tr>\n",
       "    <tr>\n",
       "      <th>39810</th>\n",
       "      <td>False</td>\n",
       "      <td>False</td>\n",
       "      <td>False</td>\n",
       "      <td>False</td>\n",
       "      <td>False</td>\n",
       "      <td>False</td>\n",
       "      <td>False</td>\n",
       "      <td>False</td>\n",
       "      <td>False</td>\n",
       "      <td>False</td>\n",
       "      <td>False</td>\n",
       "      <td>False</td>\n",
       "      <td>False</td>\n",
       "      <td>False</td>\n",
       "    </tr>\n",
       "    <tr>\n",
       "      <th>39811</th>\n",
       "      <td>False</td>\n",
       "      <td>False</td>\n",
       "      <td>False</td>\n",
       "      <td>False</td>\n",
       "      <td>False</td>\n",
       "      <td>False</td>\n",
       "      <td>False</td>\n",
       "      <td>False</td>\n",
       "      <td>False</td>\n",
       "      <td>False</td>\n",
       "      <td>False</td>\n",
       "      <td>False</td>\n",
       "      <td>False</td>\n",
       "      <td>False</td>\n",
       "    </tr>\n",
       "    <tr>\n",
       "      <th>39812</th>\n",
       "      <td>False</td>\n",
       "      <td>False</td>\n",
       "      <td>False</td>\n",
       "      <td>False</td>\n",
       "      <td>False</td>\n",
       "      <td>False</td>\n",
       "      <td>False</td>\n",
       "      <td>False</td>\n",
       "      <td>False</td>\n",
       "      <td>False</td>\n",
       "      <td>False</td>\n",
       "      <td>False</td>\n",
       "      <td>False</td>\n",
       "      <td>False</td>\n",
       "    </tr>\n",
       "    <tr>\n",
       "      <th>39813</th>\n",
       "      <td>False</td>\n",
       "      <td>False</td>\n",
       "      <td>False</td>\n",
       "      <td>False</td>\n",
       "      <td>False</td>\n",
       "      <td>False</td>\n",
       "      <td>False</td>\n",
       "      <td>False</td>\n",
       "      <td>False</td>\n",
       "      <td>False</td>\n",
       "      <td>False</td>\n",
       "      <td>False</td>\n",
       "      <td>False</td>\n",
       "      <td>False</td>\n",
       "    </tr>\n",
       "    <tr>\n",
       "      <th>39814</th>\n",
       "      <td>False</td>\n",
       "      <td>False</td>\n",
       "      <td>False</td>\n",
       "      <td>False</td>\n",
       "      <td>False</td>\n",
       "      <td>False</td>\n",
       "      <td>False</td>\n",
       "      <td>False</td>\n",
       "      <td>False</td>\n",
       "      <td>False</td>\n",
       "      <td>False</td>\n",
       "      <td>False</td>\n",
       "      <td>False</td>\n",
       "      <td>False</td>\n",
       "    </tr>\n",
       "  </tbody>\n",
       "</table>\n",
       "<p>39815 rows × 14 columns</p>\n",
       "</div>"
      ],
      "text/plain": [
       "          ts  platform  ms_played  conn_country  master_metadata_track_name  \\\n",
       "0      False     False      False         False                       False   \n",
       "1      False     False      False         False                       False   \n",
       "2      False     False      False         False                       False   \n",
       "3      False     False      False         False                       False   \n",
       "4      False     False      False         False                       False   \n",
       "...      ...       ...        ...           ...                         ...   \n",
       "39810  False     False      False         False                       False   \n",
       "39811  False     False      False         False                       False   \n",
       "39812  False     False      False         False                       False   \n",
       "39813  False     False      False         False                       False   \n",
       "39814  False     False      False         False                       False   \n",
       "\n",
       "       master_metadata_album_artist_name  master_metadata_album_album_name  \\\n",
       "0                                  False                             False   \n",
       "1                                  False                             False   \n",
       "2                                  False                             False   \n",
       "3                                  False                             False   \n",
       "4                                  False                             False   \n",
       "...                                  ...                               ...   \n",
       "39810                              False                             False   \n",
       "39811                              False                             False   \n",
       "39812                              False                             False   \n",
       "39813                              False                             False   \n",
       "39814                              False                             False   \n",
       "\n",
       "       spotify_track_uri  reason_start  reason_end  shuffle  offline  \\\n",
       "0                  False         False       False    False    False   \n",
       "1                  False         False       False    False    False   \n",
       "2                  False         False       False    False    False   \n",
       "3                  False         False       False    False    False   \n",
       "4                  False         False       False    False    False   \n",
       "...                  ...           ...         ...      ...      ...   \n",
       "39810              False         False       False    False    False   \n",
       "39811              False         False       False    False    False   \n",
       "39812              False         False       False    False    False   \n",
       "39813              False         False       False    False    False   \n",
       "39814              False         False       False    False    False   \n",
       "\n",
       "       offline_timestamp  incognito_mode  \n",
       "0                  False           False  \n",
       "1                  False           False  \n",
       "2                  False           False  \n",
       "3                  False           False  \n",
       "4                  False           False  \n",
       "...                  ...             ...  \n",
       "39810              False           False  \n",
       "39811              False           False  \n",
       "39812              False           False  \n",
       "39813              False           False  \n",
       "39814              False           False  \n",
       "\n",
       "[39815 rows x 14 columns]"
      ]
     },
     "execution_count": 8,
     "metadata": {},
     "output_type": "execute_result"
    }
   ],
   "source": [
    "df.isnull()"
   ]
  },
  {
   "cell_type": "code",
   "execution_count": 9,
   "id": "790bf411",
   "metadata": {},
   "outputs": [
    {
     "data": {
      "text/plain": [
       "ts                                   0\n",
       "platform                             0\n",
       "ms_played                            0\n",
       "conn_country                         0\n",
       "master_metadata_track_name           0\n",
       "master_metadata_album_artist_name    0\n",
       "master_metadata_album_album_name     0\n",
       "spotify_track_uri                    0\n",
       "reason_start                         0\n",
       "reason_end                           0\n",
       "shuffle                              0\n",
       "offline                              0\n",
       "offline_timestamp                    0\n",
       "incognito_mode                       0\n",
       "dtype: int64"
      ]
     },
     "execution_count": 9,
     "metadata": {},
     "output_type": "execute_result"
    }
   ],
   "source": [
    "df.isnull().sum()"
   ]
  },
  {
   "cell_type": "code",
   "execution_count": 10,
   "id": "41a08a71",
   "metadata": {},
   "outputs": [
    {
     "data": {
      "text/plain": [
       "array(['The New Toronto 3', 'Bonnona',\n",
       "       'Chart Backing Tracks 2017, Vol. 14', ...,\n",
       "       'Enter The Wu-Tang (36 Chambers) [Expanded Edition]',\n",
       "       'The Anthology', 'The Blixky Tape 2'], dtype=object)"
      ]
     },
     "execution_count": 10,
     "metadata": {},
     "output_type": "execute_result"
    }
   ],
   "source": [
    "df[\"master_metadata_album_album_name\"].unique()"
   ]
  },
  {
   "cell_type": "code",
   "execution_count": 11,
   "id": "72877a0d",
   "metadata": {},
   "outputs": [
    {
     "data": {
      "text/plain": [
       "array(['LK', 'US', 'GB', 'SG'], dtype=object)"
      ]
     },
     "execution_count": 11,
     "metadata": {},
     "output_type": "execute_result"
    }
   ],
   "source": [
    "df[\"conn_country\"].unique()"
   ]
  },
  {
   "cell_type": "code",
   "execution_count": 12,
   "id": "94608585",
   "metadata": {},
   "outputs": [
    {
     "data": {
      "text/plain": [
       "array(['Windows 10 (10.0.22000; x64; AppX)', 'iOS 15.0 (iPhone9,1)',\n",
       "       'Partner SCEI sony_tv;ps4;9b18101888dd42948afd0b8792122bec;;tpapi',\n",
       "       'Partner windows_tv microsoft;xbox_series_s;1fc2d01aa9074dde950e8d3dc0eb1729;;tpapi',\n",
       "       'OS X 11.6.0 [arm 2]', 'iOS 15.0.1 (iPhone9,1)',\n",
       "       'iOS 15.0.2 (iPhone9,1)', 'OS X 12.0.1 [arm 2]',\n",
       "       'iOS 15.1 (iPhone10,6)', 'iOS 15.1 (iPhone12,1)',\n",
       "       'iOS 15.2 (iPhone12,1)', 'iOS 15.2.1 (iPhone12,1)',\n",
       "       'iOS 15.3 (iPhone14,2)', 'iOS 15.3.1 (iPhone14,2)',\n",
       "       'iOS 15.4.1 (iPhone14,2)', 'iOS 16.0 (iPhone14,2)',\n",
       "       'Windows 10 (10.0.19043; x64; AppX)', 'OS X 12.1.0 [arm 2]',\n",
       "       'OS X 12.5.0 [arm 2]', 'OS X 12.5.1 [arm 2]',\n",
       "       'OS X 12.6.0 [arm 2]', 'ios', 'osx', 'playstation', 'xbox',\n",
       "       'android'], dtype=object)"
      ]
     },
     "execution_count": 12,
     "metadata": {},
     "output_type": "execute_result"
    }
   ],
   "source": [
    "df[\"platform\"].unique()"
   ]
  },
  {
   "cell_type": "code",
   "execution_count": 13,
   "id": "f7a08616",
   "metadata": {},
   "outputs": [
    {
     "data": {
      "text/plain": [
       "array(['Tory Lanez', 'DJ JNK', 'Covered Up', ..., 'Wu-Tang Clan',\n",
       "       'A Tribe Called Quest', '22Gz'], dtype=object)"
      ]
     },
     "execution_count": 13,
     "metadata": {},
     "output_type": "execute_result"
    }
   ],
   "source": [
    "df[\"master_metadata_album_artist_name\"].unique()"
   ]
  },
  {
   "cell_type": "code",
   "execution_count": 14,
   "id": "b7e6097e",
   "metadata": {},
   "outputs": [
    {
     "data": {
      "image/png": "[encoded data removed]",
      "text/plain": [
       "<Figure size 1000x600 with 1 Axes>"
      ]
     },
     "metadata": {},
     "output_type": "display_data"
    }
   ],
   "source": [
    "import matplotlib.pyplot as plt\n",
    "import seaborn as sns\n",
    "plt.figure(figsize=(10,6))\n",
    "sns.countplot(x='platform',data=df)\n",
    "plt.title(\"screening platforms\")\n",
    "plt.xlabel(\"platform\")\n",
    "plt.ylabel(\"count\")\n",
    "plt.xticks(rotation=90)\n",
    "plt.show()\n"
   ]
  },
  {
   "cell_type": "code",
   "execution_count": 15,
   "id": "70a9a073",
   "metadata": {},
   "outputs": [
    {
     "data": {
      "image/png": "[encoded data removed]",
      "text/plain": [
       "<Figure size 1000x600 with 1 Axes>"
      ]
     },
     "metadata": {},
     "output_type": "display_data"
    }
   ],
   "source": [
    "import matplotlib.pyplot as plt\n",
    "import seaborn as sns\n",
    "plt.figure(figsize=(10,6))\n",
    "sns.countplot(x='conn_country',data=df)\n",
    "plt.title(\"screening platforms\")\n",
    "plt.xlabel(\"platform\")\n",
    "plt.ylabel(\"count\")\n",
    "plt.xticks(rotation=90)\n",
    "plt.show()\n"
   ]
  },
  {
   "cell_type": "code",
   "execution_count": 16,
   "id": "1013c526",
   "metadata": {},
   "outputs": [
    {
     "name": "stdout",
     "output_type": "stream",
     "text": [
      "master_metadata_track_name\n",
      "Gammane              84\n",
      "hot girl bummer      81\n",
      "Heartless            80\n",
      "Aradhana             78\n",
      "Falling              71\n",
      "Never Be Like You    69\n",
      "Off The Grid         69\n",
      "Bonnona              66\n",
      "Beautiful            65\n",
      "Praise God           62\n",
      "Name: count, dtype: int64\n"
     ]
    }
   ],
   "source": [
    "#top 10 tracks\n",
    "\n",
    "\n",
    "top_tracks=df[\"master_metadata_track_name\"].value_counts().head(10)\n",
    "print(top_tracks)"
   ]
  },
  {
   "cell_type": "code",
   "execution_count": 17,
   "id": "07a841eb",
   "metadata": {},
   "outputs": [
    {
     "name": "stdout",
     "output_type": "stream",
     "text": [
      "master_metadata_album_artist_name\n",
      "Juice WRLD     754\n",
      "Costa          667\n",
      "Drake          506\n",
      "Daddy          455\n",
      "Pop Smoke      397\n",
      "Post Malone    367\n",
      "Eminem         354\n",
      "Kanye West     351\n",
      "Roddy Ricch    348\n",
      "Lil Baby       341\n",
      "Name: count, dtype: int64\n"
     ]
    }
   ],
   "source": [
    "top_artist=df[\"master_metadata_album_artist_name\"].value_counts().head(10)\n",
    "print(top_artist)"
   ]
  },
  {
   "cell_type": "code",
   "execution_count": 18,
   "id": "d8161458",
   "metadata": {
    "scrolled": true
   },
   "outputs": [
    {
     "name": "stdout",
     "output_type": "stream",
     "text": [
      "master_metadata_album_album_name\n",
      "Legends Never Die                        401\n",
      "Please Excuse Me for Being Antisocial    309\n",
      "Shoot For The Stars Aim For The Moon     302\n",
      "Massina                                  247\n",
      "Arabiya                                  200\n",
      "13 Reasons Why                           184\n",
      "Hollywood's Bleeding                     165\n",
      "My Turn                                  159\n",
      "BLAME IT ON BABY                         157\n",
      "Donda                                    157\n",
      "Name: count, dtype: int64\n"
     ]
    }
   ],
   "source": [
    "top_albums=df[\"master_metadata_album_album_name\"].value_counts().head(10)\n",
    "print(top_albums)"
   ]
  },
  {
   "cell_type": "code",
   "execution_count": 19,
   "id": "504d58fd",
   "metadata": {},
   "outputs": [
    {
     "data": {
      "image/png": "[encoded data removed]",
      "text/plain": [
       "<Figure size 1400x600 with 1 Axes>"
      ]
     },
     "metadata": {},
     "output_type": "display_data"
    }
   ],
   "source": [
    "# top albums\n",
    "plt.figure(figsize=(14,6))\n",
    "top_albums.plot(kind=\"bar\")\n",
    "plt.title(\"top 10 most streamed albums\")\n",
    "plt.xlabel(\"songs\")\n",
    "plt.ylabel(\"count\")\n",
    "plt.show()"
   ]
  },
  {
   "cell_type": "code",
   "execution_count": 20,
   "id": "4e024edd",
   "metadata": {},
   "outputs": [
    {
     "data": {
      "image/png": "[encoded data removed]",
      "text/plain": [
       "<Figure size 1400x600 with 1 Axes>"
      ]
     },
     "metadata": {},
     "output_type": "display_data"
    }
   ],
   "source": [
    "# top 10 artist \n",
    "plt.figure(figsize=(14,6))\n",
    "top_artist.plot(kind=\"bar\")\n",
    "plt.title(\"top 10 artist \")\n",
    "plt.xlabel(\"artist\")\n",
    "plt.ylabel(\"count\")\n",
    "plt.show()"
   ]
  },
  {
   "cell_type": "code",
   "execution_count": 21,
   "id": "52689cdd",
   "metadata": {},
   "outputs": [
    {
     "ename": "SyntaxError",
     "evalue": "unterminated string literal (detected at line 35) (2754659873.py, line 35)",
     "output_type": "error",
     "traceback": [
      "\u001b[1;36m  Cell \u001b[1;32mIn[21], line 35\u001b[1;36m\u001b[0m\n\u001b[1;33m    Hollywood's Bleeding                     165\u001b[0m\n\u001b[1;37m             ^\u001b[0m\n\u001b[1;31mSyntaxError\u001b[0m\u001b[1;31m:\u001b[0m unterminated string literal (detected at line 35)\n"
     ]
    }
   ],
   "source": [
    "summary\n",
    "colums:Index(['ts', 'platform', 'ms_played', 'conn_country',\n",
    "       'master_metadata_track_name', 'master_metadata_album_artist_name',\n",
    "       'master_metadata_album_album_name', 'spotify_track_uri', 'reason_start',\n",
    "       'reason_end', 'shuffle', 'offline', 'offline_timestamp',\n",
    "       'incognito_mode'],\n",
    "      dtype='object')\n",
    "unique_artist=array(['Tory Lanez', 'DJ JNK', 'Covered Up', ..., 'Wu-Tang Clan',\n",
    "       'A Tribe Called Quest', '22Gz'], dtype=object)\n",
    "unique_albums=array(['The New Toronto 3', 'Bonnona',\n",
    "       'Chart Backing Tracks 2017, Vol. 14', ...,\n",
    "       'Enter The Wu-Tang (36 Chambers) [Expanded Edition]',\n",
    "       'The Anthology', 'The Blixky Tape 2'], dtype=object)\n",
    "top 10 tracks=master_metadata_track_name\n",
    "Gammane              84\n",
    "hot girl bummer      81\n",
    "Heartless            80\n",
    "Aradhana             78\n",
    "Falling              71\n",
    "Never Be Like You    69\n",
    "Off The Grid         69\n",
    "Bonnona              66\n",
    "Beautiful            65\n",
    "Praise God           62\n",
    "Name: count, dtype: int64\n",
    "\n",
    "        \n",
    "top 10 albums=master_metadata_album_album_name\n",
    "Legends Never Die                        401\n",
    "Please Excuse Me for Being Antisocial    309\n",
    "Shoot For The Stars Aim For The Moon     302\n",
    "Massina                                  247\n",
    "Arabiya                                  200\n",
    "13 Reasons Why                           184\n",
    "Hollywood's Bleeding                     165\n",
    "My Turn                                  159\n",
    "BLAME IT ON BABY                         157\n",
    "Donda                                    157\n",
    "Name: count, dtype: int64\n",
    "        \n",
    "        \n",
    "        \n",
    "top 10 artist=master_metadata_album_artist_name\n",
    "Juice WRLD     754\n",
    "Costa          667\n",
    "Drake          506\n",
    "Daddy          455\n",
    "Pop Smoke      397\n",
    "Post Malone    367\n",
    "Eminem         354\n",
    "Kanye West     351\n",
    "Roddy Ricch    348\n",
    "Lil Baby       341\n",
    "Name: count, dtype: int64    \n",
    "        \n",
    "        \n",
    "        "
   ]
  },
  {
   "cell_type": "code",
   "execution_count": 22,
   "id": "feb42dab",
   "metadata": {},
   "outputs": [
    {
     "data": {
      "image/png": "[encoded data removed]",
      "text/plain": [
       "<Figure size 1200x600 with 1 Axes>"
      ]
     },
     "metadata": {},
     "output_type": "display_data"
    }
   ],
   "source": [
    "import matplotlib.pyplot as plt\n",
    "import seaborn as sns\n",
    "plt.figure(figsize=(12,6))\n",
    "sns.histplot(df[\"ms_played\"],bins=50,kde=True)\n",
    "plt.show()\n"
   ]
  },
  {
   "cell_type": "code",
   "execution_count": 23,
   "id": "d056faec",
   "metadata": {},
   "outputs": [
    {
     "data": {
      "text/html": [
       "<div>\n",
       "<style scoped>\n",
       "    .dataframe tbody tr th:only-of-type {\n",
       "        vertical-align: middle;\n",
       "    }\n",
       "\n",
       "    .dataframe tbody tr th {\n",
       "        vertical-align: top;\n",
       "    }\n",
       "\n",
       "    .dataframe thead th {\n",
       "        text-align: right;\n",
       "    }\n",
       "</style>\n",
       "<table border=\"1\" class=\"dataframe\">\n",
       "  <thead>\n",
       "    <tr style=\"text-align: right;\">\n",
       "      <th></th>\n",
       "      <th>area_type</th>\n",
       "      <th>availability</th>\n",
       "      <th>location</th>\n",
       "      <th>size</th>\n",
       "      <th>society</th>\n",
       "      <th>total_sqft</th>\n",
       "      <th>bath</th>\n",
       "      <th>balcony</th>\n",
       "      <th>price</th>\n",
       "    </tr>\n",
       "  </thead>\n",
       "  <tbody>\n",
       "    <tr>\n",
       "      <th>0</th>\n",
       "      <td>Super built-up  Area</td>\n",
       "      <td>19-Dec</td>\n",
       "      <td>Electronic City Phase II</td>\n",
       "      <td>2 BHK</td>\n",
       "      <td>Coomee</td>\n",
       "      <td>1056</td>\n",
       "      <td>2.0</td>\n",
       "      <td>1.0</td>\n",
       "      <td>39.07</td>\n",
       "    </tr>\n",
       "    <tr>\n",
       "      <th>1</th>\n",
       "      <td>Plot  Area</td>\n",
       "      <td>Ready To Move</td>\n",
       "      <td>Chikka Tirupathi</td>\n",
       "      <td>4 Bedroom</td>\n",
       "      <td>Theanmp</td>\n",
       "      <td>2600</td>\n",
       "      <td>5.0</td>\n",
       "      <td>3.0</td>\n",
       "      <td>120.00</td>\n",
       "    </tr>\n",
       "    <tr>\n",
       "      <th>2</th>\n",
       "      <td>Built-up  Area</td>\n",
       "      <td>Ready To Move</td>\n",
       "      <td>Uttarahalli</td>\n",
       "      <td>3 BHK</td>\n",
       "      <td>@@@@@@</td>\n",
       "      <td>1440</td>\n",
       "      <td>2.0</td>\n",
       "      <td>3.0</td>\n",
       "      <td>62.00</td>\n",
       "    </tr>\n",
       "    <tr>\n",
       "      <th>3</th>\n",
       "      <td>Super built-up  Area</td>\n",
       "      <td>Ready To Move</td>\n",
       "      <td>Lingadheeranahalli</td>\n",
       "      <td>3 BHK</td>\n",
       "      <td>Soiewre</td>\n",
       "      <td>1521</td>\n",
       "      <td>3.0</td>\n",
       "      <td>1.0</td>\n",
       "      <td>95.00</td>\n",
       "    </tr>\n",
       "    <tr>\n",
       "      <th>4</th>\n",
       "      <td>Super built-up  Area</td>\n",
       "      <td>Ready To Move</td>\n",
       "      <td>Kothanur</td>\n",
       "      <td>2 BHK</td>\n",
       "      <td>NaN</td>\n",
       "      <td>1200</td>\n",
       "      <td>2.0</td>\n",
       "      <td>1.0</td>\n",
       "      <td>51.00</td>\n",
       "    </tr>\n",
       "    <tr>\n",
       "      <th>...</th>\n",
       "      <td>...</td>\n",
       "      <td>...</td>\n",
       "      <td>...</td>\n",
       "      <td>...</td>\n",
       "      <td>...</td>\n",
       "      <td>...</td>\n",
       "      <td>...</td>\n",
       "      <td>...</td>\n",
       "      <td>...</td>\n",
       "    </tr>\n",
       "    <tr>\n",
       "      <th>13315</th>\n",
       "      <td>Built-up  Area</td>\n",
       "      <td>Ready To Move</td>\n",
       "      <td>Whitefield</td>\n",
       "      <td>5 Bedroom</td>\n",
       "      <td>ArsiaEx</td>\n",
       "      <td>3453</td>\n",
       "      <td>4.0</td>\n",
       "      <td>0.0</td>\n",
       "      <td>231.00</td>\n",
       "    </tr>\n",
       "    <tr>\n",
       "      <th>13316</th>\n",
       "      <td>Super built-up  Area</td>\n",
       "      <td>Ready To Move</td>\n",
       "      <td>Richards Town</td>\n",
       "      <td>4 BHK</td>\n",
       "      <td>NaN</td>\n",
       "      <td>3600</td>\n",
       "      <td>5.0</td>\n",
       "      <td>NaN</td>\n",
       "      <td>400.00</td>\n",
       "    </tr>\n",
       "    <tr>\n",
       "      <th>13317</th>\n",
       "      <td>Built-up  Area</td>\n",
       "      <td>Ready To Move</td>\n",
       "      <td>Raja Rajeshwari Nagar</td>\n",
       "      <td>2 BHK</td>\n",
       "      <td>Mahla T</td>\n",
       "      <td>1141</td>\n",
       "      <td>2.0</td>\n",
       "      <td>1.0</td>\n",
       "      <td>60.00</td>\n",
       "    </tr>\n",
       "    <tr>\n",
       "      <th>13318</th>\n",
       "      <td>Super built-up  Area</td>\n",
       "      <td>18-Jun</td>\n",
       "      <td>Padmanabhanagar</td>\n",
       "      <td>4 BHK</td>\n",
       "      <td>SollyCl</td>\n",
       "      <td>4689</td>\n",
       "      <td>4.0</td>\n",
       "      <td>1.0</td>\n",
       "      <td>488.00</td>\n",
       "    </tr>\n",
       "    <tr>\n",
       "      <th>13319</th>\n",
       "      <td>Super built-up  Area</td>\n",
       "      <td>Ready To Move</td>\n",
       "      <td>Doddathoguru</td>\n",
       "      <td>1 BHK</td>\n",
       "      <td>NaN</td>\n",
       "      <td>550</td>\n",
       "      <td>1.0</td>\n",
       "      <td>1.0</td>\n",
       "      <td>17.00</td>\n",
       "    </tr>\n",
       "  </tbody>\n",
       "</table>\n",
       "<p>13320 rows × 9 columns</p>\n",
       "</div>"
      ],
      "text/plain": [
       "                  area_type   availability                  location  \\\n",
       "0      Super built-up  Area         19-Dec  Electronic City Phase II   \n",
       "1                Plot  Area  Ready To Move          Chikka Tirupathi   \n",
       "2            Built-up  Area  Ready To Move               Uttarahalli   \n",
       "3      Super built-up  Area  Ready To Move        Lingadheeranahalli   \n",
       "4      Super built-up  Area  Ready To Move                  Kothanur   \n",
       "...                     ...            ...                       ...   \n",
       "13315        Built-up  Area  Ready To Move                Whitefield   \n",
       "13316  Super built-up  Area  Ready To Move             Richards Town   \n",
       "13317        Built-up  Area  Ready To Move     Raja Rajeshwari Nagar   \n",
       "13318  Super built-up  Area         18-Jun           Padmanabhanagar   \n",
       "13319  Super built-up  Area  Ready To Move              Doddathoguru   \n",
       "\n",
       "            size  society total_sqft  bath  balcony   price  \n",
       "0          2 BHK  Coomee        1056   2.0      1.0   39.07  \n",
       "1      4 Bedroom  Theanmp       2600   5.0      3.0  120.00  \n",
       "2          3 BHK   @@@@@@       1440   2.0      3.0   62.00  \n",
       "3          3 BHK  Soiewre       1521   3.0      1.0   95.00  \n",
       "4          2 BHK      NaN       1200   2.0      1.0   51.00  \n",
       "...          ...      ...        ...   ...      ...     ...  \n",
       "13315  5 Bedroom  ArsiaEx       3453   4.0      0.0  231.00  \n",
       "13316      4 BHK      NaN       3600   5.0      NaN  400.00  \n",
       "13317      2 BHK  Mahla T       1141   2.0      1.0   60.00  \n",
       "13318      4 BHK  SollyCl       4689   4.0      1.0  488.00  \n",
       "13319      1 BHK      NaN        550   1.0      1.0   17.00  \n",
       "\n",
       "[13320 rows x 9 columns]"
      ]
     },
     "execution_count": 23,
     "metadata": {},
     "output_type": "execute_result"
    }
   ],
   "source": [
    "df=pd.read_csv(\"Bengaluru_House_Data_gwec.csv\")\n",
    "df"
   ]
  },
  {
   "cell_type": "code",
   "execution_count": 24,
   "id": "4da59102",
   "metadata": {},
   "outputs": [],
   "source": [
    "import pandas as pd\n",
    "import numpy as np"
   ]
  },
  {
   "cell_type": "code",
   "execution_count": 25,
   "id": "5a5da66d",
   "metadata": {},
   "outputs": [
    {
     "data": {
      "text/html": [
       "<div>\n",
       "<style scoped>\n",
       "    .dataframe tbody tr th:only-of-type {\n",
       "        vertical-align: middle;\n",
       "    }\n",
       "\n",
       "    .dataframe tbody tr th {\n",
       "        vertical-align: top;\n",
       "    }\n",
       "\n",
       "    .dataframe thead th {\n",
       "        text-align: right;\n",
       "    }\n",
       "</style>\n",
       "<table border=\"1\" class=\"dataframe\">\n",
       "  <thead>\n",
       "    <tr style=\"text-align: right;\">\n",
       "      <th></th>\n",
       "      <th>area_type</th>\n",
       "      <th>availability</th>\n",
       "      <th>location</th>\n",
       "      <th>size</th>\n",
       "      <th>society</th>\n",
       "      <th>total_sqft</th>\n",
       "      <th>bath</th>\n",
       "      <th>balcony</th>\n",
       "      <th>price</th>\n",
       "    </tr>\n",
       "  </thead>\n",
       "  <tbody>\n",
       "    <tr>\n",
       "      <th>0</th>\n",
       "      <td>Super built-up  Area</td>\n",
       "      <td>19-Dec</td>\n",
       "      <td>Electronic City Phase II</td>\n",
       "      <td>2 BHK</td>\n",
       "      <td>Coomee</td>\n",
       "      <td>1056</td>\n",
       "      <td>2.0</td>\n",
       "      <td>1.0</td>\n",
       "      <td>39.07</td>\n",
       "    </tr>\n",
       "    <tr>\n",
       "      <th>1</th>\n",
       "      <td>Plot  Area</td>\n",
       "      <td>Ready To Move</td>\n",
       "      <td>Chikka Tirupathi</td>\n",
       "      <td>4 Bedroom</td>\n",
       "      <td>Theanmp</td>\n",
       "      <td>2600</td>\n",
       "      <td>5.0</td>\n",
       "      <td>3.0</td>\n",
       "      <td>120.00</td>\n",
       "    </tr>\n",
       "    <tr>\n",
       "      <th>2</th>\n",
       "      <td>Built-up  Area</td>\n",
       "      <td>Ready To Move</td>\n",
       "      <td>Uttarahalli</td>\n",
       "      <td>3 BHK</td>\n",
       "      <td>@@@@@@</td>\n",
       "      <td>1440</td>\n",
       "      <td>2.0</td>\n",
       "      <td>3.0</td>\n",
       "      <td>62.00</td>\n",
       "    </tr>\n",
       "    <tr>\n",
       "      <th>3</th>\n",
       "      <td>Super built-up  Area</td>\n",
       "      <td>Ready To Move</td>\n",
       "      <td>Lingadheeranahalli</td>\n",
       "      <td>3 BHK</td>\n",
       "      <td>Soiewre</td>\n",
       "      <td>1521</td>\n",
       "      <td>3.0</td>\n",
       "      <td>1.0</td>\n",
       "      <td>95.00</td>\n",
       "    </tr>\n",
       "    <tr>\n",
       "      <th>4</th>\n",
       "      <td>Super built-up  Area</td>\n",
       "      <td>Ready To Move</td>\n",
       "      <td>Kothanur</td>\n",
       "      <td>2 BHK</td>\n",
       "      <td>NaN</td>\n",
       "      <td>1200</td>\n",
       "      <td>2.0</td>\n",
       "      <td>1.0</td>\n",
       "      <td>51.00</td>\n",
       "    </tr>\n",
       "  </tbody>\n",
       "</table>\n",
       "</div>"
      ],
      "text/plain": [
       "              area_type   availability                  location       size  \\\n",
       "0  Super built-up  Area         19-Dec  Electronic City Phase II      2 BHK   \n",
       "1            Plot  Area  Ready To Move          Chikka Tirupathi  4 Bedroom   \n",
       "2        Built-up  Area  Ready To Move               Uttarahalli      3 BHK   \n",
       "3  Super built-up  Area  Ready To Move        Lingadheeranahalli      3 BHK   \n",
       "4  Super built-up  Area  Ready To Move                  Kothanur      2 BHK   \n",
       "\n",
       "   society total_sqft  bath  balcony   price  \n",
       "0  Coomee        1056   2.0      1.0   39.07  \n",
       "1  Theanmp       2600   5.0      3.0  120.00  \n",
       "2   @@@@@@       1440   2.0      3.0   62.00  \n",
       "3  Soiewre       1521   3.0      1.0   95.00  \n",
       "4      NaN       1200   2.0      1.0   51.00  "
      ]
     },
     "execution_count": 25,
     "metadata": {},
     "output_type": "execute_result"
    }
   ],
   "source": [
    "df.head()"
   ]
  },
  {
   "cell_type": "code",
   "execution_count": 26,
   "id": "8f658421",
   "metadata": {},
   "outputs": [
    {
     "data": {
      "text/html": [
       "<div>\n",
       "<style scoped>\n",
       "    .dataframe tbody tr th:only-of-type {\n",
       "        vertical-align: middle;\n",
       "    }\n",
       "\n",
       "    .dataframe tbody tr th {\n",
       "        vertical-align: top;\n",
       "    }\n",
       "\n",
       "    .dataframe thead th {\n",
       "        text-align: right;\n",
       "    }\n",
       "</style>\n",
       "<table border=\"1\" class=\"dataframe\">\n",
       "  <thead>\n",
       "    <tr style=\"text-align: right;\">\n",
       "      <th></th>\n",
       "      <th>area_type</th>\n",
       "      <th>availability</th>\n",
       "      <th>location</th>\n",
       "      <th>size</th>\n",
       "      <th>society</th>\n",
       "      <th>total_sqft</th>\n",
       "      <th>bath</th>\n",
       "      <th>balcony</th>\n",
       "      <th>price</th>\n",
       "    </tr>\n",
       "  </thead>\n",
       "  <tbody>\n",
       "    <tr>\n",
       "      <th>13315</th>\n",
       "      <td>Built-up  Area</td>\n",
       "      <td>Ready To Move</td>\n",
       "      <td>Whitefield</td>\n",
       "      <td>5 Bedroom</td>\n",
       "      <td>ArsiaEx</td>\n",
       "      <td>3453</td>\n",
       "      <td>4.0</td>\n",
       "      <td>0.0</td>\n",
       "      <td>231.0</td>\n",
       "    </tr>\n",
       "    <tr>\n",
       "      <th>13316</th>\n",
       "      <td>Super built-up  Area</td>\n",
       "      <td>Ready To Move</td>\n",
       "      <td>Richards Town</td>\n",
       "      <td>4 BHK</td>\n",
       "      <td>NaN</td>\n",
       "      <td>3600</td>\n",
       "      <td>5.0</td>\n",
       "      <td>NaN</td>\n",
       "      <td>400.0</td>\n",
       "    </tr>\n",
       "    <tr>\n",
       "      <th>13317</th>\n",
       "      <td>Built-up  Area</td>\n",
       "      <td>Ready To Move</td>\n",
       "      <td>Raja Rajeshwari Nagar</td>\n",
       "      <td>2 BHK</td>\n",
       "      <td>Mahla T</td>\n",
       "      <td>1141</td>\n",
       "      <td>2.0</td>\n",
       "      <td>1.0</td>\n",
       "      <td>60.0</td>\n",
       "    </tr>\n",
       "    <tr>\n",
       "      <th>13318</th>\n",
       "      <td>Super built-up  Area</td>\n",
       "      <td>18-Jun</td>\n",
       "      <td>Padmanabhanagar</td>\n",
       "      <td>4 BHK</td>\n",
       "      <td>SollyCl</td>\n",
       "      <td>4689</td>\n",
       "      <td>4.0</td>\n",
       "      <td>1.0</td>\n",
       "      <td>488.0</td>\n",
       "    </tr>\n",
       "    <tr>\n",
       "      <th>13319</th>\n",
       "      <td>Super built-up  Area</td>\n",
       "      <td>Ready To Move</td>\n",
       "      <td>Doddathoguru</td>\n",
       "      <td>1 BHK</td>\n",
       "      <td>NaN</td>\n",
       "      <td>550</td>\n",
       "      <td>1.0</td>\n",
       "      <td>1.0</td>\n",
       "      <td>17.0</td>\n",
       "    </tr>\n",
       "  </tbody>\n",
       "</table>\n",
       "</div>"
      ],
      "text/plain": [
       "                  area_type   availability               location       size  \\\n",
       "13315        Built-up  Area  Ready To Move             Whitefield  5 Bedroom   \n",
       "13316  Super built-up  Area  Ready To Move          Richards Town      4 BHK   \n",
       "13317        Built-up  Area  Ready To Move  Raja Rajeshwari Nagar      2 BHK   \n",
       "13318  Super built-up  Area         18-Jun        Padmanabhanagar      4 BHK   \n",
       "13319  Super built-up  Area  Ready To Move           Doddathoguru      1 BHK   \n",
       "\n",
       "       society total_sqft  bath  balcony  price  \n",
       "13315  ArsiaEx       3453   4.0      0.0  231.0  \n",
       "13316      NaN       3600   5.0      NaN  400.0  \n",
       "13317  Mahla T       1141   2.0      1.0   60.0  \n",
       "13318  SollyCl       4689   4.0      1.0  488.0  \n",
       "13319      NaN        550   1.0      1.0   17.0  "
      ]
     },
     "execution_count": 26,
     "metadata": {},
     "output_type": "execute_result"
    }
   ],
   "source": [
    "df.tail()"
   ]
  },
  {
   "cell_type": "code",
   "execution_count": 27,
   "id": "7bc45f67",
   "metadata": {},
   "outputs": [
    {
     "name": "stdout",
     "output_type": "stream",
     "text": [
      "<class 'pandas.core.frame.DataFrame'>\n",
      "RangeIndex: 13320 entries, 0 to 13319\n",
      "Data columns (total 9 columns):\n",
      " #   Column        Non-Null Count  Dtype  \n",
      "---  ------        --------------  -----  \n",
      " 0   area_type     13320 non-null  object \n",
      " 1   availability  13320 non-null  object \n",
      " 2   location      13319 non-null  object \n",
      " 3   size          13304 non-null  object \n",
      " 4   society       7819 non-null   object \n",
      " 5   total_sqft    13320 non-null  object \n",
      " 6   bath          13247 non-null  float64\n",
      " 7   balcony       12711 non-null  float64\n",
      " 8   price         13320 non-null  float64\n",
      "dtypes: float64(3), object(6)\n",
      "memory usage: 936.7+ KB\n"
     ]
    }
   ],
   "source": [
    "df.info()"
   ]
  },
  {
   "cell_type": "code",
   "execution_count": 28,
   "id": "942a1714",
   "metadata": {},
   "outputs": [
    {
     "data": {
      "text/html": [
       "<div>\n",
       "<style scoped>\n",
       "    .dataframe tbody tr th:only-of-type {\n",
       "        vertical-align: middle;\n",
       "    }\n",
       "\n",
       "    .dataframe tbody tr th {\n",
       "        vertical-align: top;\n",
       "    }\n",
       "\n",
       "    .dataframe thead th {\n",
       "        text-align: right;\n",
       "    }\n",
       "</style>\n",
       "<table border=\"1\" class=\"dataframe\">\n",
       "  <thead>\n",
       "    <tr style=\"text-align: right;\">\n",
       "      <th></th>\n",
       "      <th>bath</th>\n",
       "      <th>balcony</th>\n",
       "      <th>price</th>\n",
       "    </tr>\n",
       "  </thead>\n",
       "  <tbody>\n",
       "    <tr>\n",
       "      <th>count</th>\n",
       "      <td>13247.000000</td>\n",
       "      <td>12711.000000</td>\n",
       "      <td>13320.000000</td>\n",
       "    </tr>\n",
       "    <tr>\n",
       "      <th>mean</th>\n",
       "      <td>2.692610</td>\n",
       "      <td>1.584376</td>\n",
       "      <td>112.565627</td>\n",
       "    </tr>\n",
       "    <tr>\n",
       "      <th>std</th>\n",
       "      <td>1.341458</td>\n",
       "      <td>0.817263</td>\n",
       "      <td>148.971674</td>\n",
       "    </tr>\n",
       "    <tr>\n",
       "      <th>min</th>\n",
       "      <td>1.000000</td>\n",
       "      <td>0.000000</td>\n",
       "      <td>8.000000</td>\n",
       "    </tr>\n",
       "    <tr>\n",
       "      <th>25%</th>\n",
       "      <td>2.000000</td>\n",
       "      <td>1.000000</td>\n",
       "      <td>50.000000</td>\n",
       "    </tr>\n",
       "    <tr>\n",
       "      <th>50%</th>\n",
       "      <td>2.000000</td>\n",
       "      <td>2.000000</td>\n",
       "      <td>72.000000</td>\n",
       "    </tr>\n",
       "    <tr>\n",
       "      <th>75%</th>\n",
       "      <td>3.000000</td>\n",
       "      <td>2.000000</td>\n",
       "      <td>120.000000</td>\n",
       "    </tr>\n",
       "    <tr>\n",
       "      <th>max</th>\n",
       "      <td>40.000000</td>\n",
       "      <td>3.000000</td>\n",
       "      <td>3600.000000</td>\n",
       "    </tr>\n",
       "  </tbody>\n",
       "</table>\n",
       "</div>"
      ],
      "text/plain": [
       "               bath       balcony         price\n",
       "count  13247.000000  12711.000000  13320.000000\n",
       "mean       2.692610      1.584376    112.565627\n",
       "std        1.341458      0.817263    148.971674\n",
       "min        1.000000      0.000000      8.000000\n",
       "25%        2.000000      1.000000     50.000000\n",
       "50%        2.000000      2.000000     72.000000\n",
       "75%        3.000000      2.000000    120.000000\n",
       "max       40.000000      3.000000   3600.000000"
      ]
     },
     "execution_count": 28,
     "metadata": {},
     "output_type": "execute_result"
    }
   ],
   "source": [
    "df.describe()\n"
   ]
  },
  {
   "cell_type": "code",
   "execution_count": 29,
   "id": "1c5eec87",
   "metadata": {},
   "outputs": [
    {
     "data": {
      "text/html": [
       "<div>\n",
       "<style scoped>\n",
       "    .dataframe tbody tr th:only-of-type {\n",
       "        vertical-align: middle;\n",
       "    }\n",
       "\n",
       "    .dataframe tbody tr th {\n",
       "        vertical-align: top;\n",
       "    }\n",
       "\n",
       "    .dataframe thead th {\n",
       "        text-align: right;\n",
       "    }\n",
       "</style>\n",
       "<table border=\"1\" class=\"dataframe\">\n",
       "  <thead>\n",
       "    <tr style=\"text-align: right;\">\n",
       "      <th></th>\n",
       "      <th>area_type</th>\n",
       "      <th>availability</th>\n",
       "      <th>location</th>\n",
       "      <th>size</th>\n",
       "      <th>society</th>\n",
       "      <th>total_sqft</th>\n",
       "      <th>bath</th>\n",
       "      <th>balcony</th>\n",
       "      <th>price</th>\n",
       "    </tr>\n",
       "  </thead>\n",
       "  <tbody>\n",
       "    <tr>\n",
       "      <th>5795</th>\n",
       "      <td>Built-up  Area</td>\n",
       "      <td>Ready To Move</td>\n",
       "      <td>Bisuvanahalli</td>\n",
       "      <td>2 BHK</td>\n",
       "      <td>Prityel</td>\n",
       "      <td>700</td>\n",
       "      <td>1.0</td>\n",
       "      <td>1.0</td>\n",
       "      <td>32.0</td>\n",
       "    </tr>\n",
       "  </tbody>\n",
       "</table>\n",
       "</div>"
      ],
      "text/plain": [
       "           area_type   availability       location   size  society total_sqft  \\\n",
       "5795  Built-up  Area  Ready To Move  Bisuvanahalli  2 BHK  Prityel        700   \n",
       "\n",
       "      bath  balcony  price  \n",
       "5795   1.0      1.0   32.0  "
      ]
     },
     "execution_count": 29,
     "metadata": {},
     "output_type": "execute_result"
    }
   ],
   "source": [
    "df.sample()"
   ]
  },
  {
   "cell_type": "code",
   "execution_count": 30,
   "id": "9404f5f3",
   "metadata": {},
   "outputs": [
    {
     "data": {
      "text/plain": [
       "Index(['area_type', 'availability', 'location', 'size', 'society',\n",
       "       'total_sqft', 'bath', 'balcony', 'price'],\n",
       "      dtype='object')"
      ]
     },
     "execution_count": 30,
     "metadata": {},
     "output_type": "execute_result"
    }
   ],
   "source": [
    "df.columns"
   ]
  },
  {
   "cell_type": "code",
   "execution_count": null,
   "id": "ba7b974a",
   "metadata": {},
   "outputs": [],
   "source": []
  },
  {
   "cell_type": "code",
   "execution_count": null,
   "id": "eb885dec",
   "metadata": {},
   "outputs": [],
   "source": []
  }
 ],
 "metadata": {
  "kernelspec": {
   "display_name": "Python 3 (ipykernel)",
   "language": "python",
   "name": "python3"
  },
  "language_info": {
   "codemirror_mode": {
    "name": "ipython",
    "version": 3
   },
   "file_extension": ".py",
   "mimetype": "text/x-python",
   "name": "python",
   "nbconvert_exporter": "python",
   "pygments_lexer": "ipython3",
   "version": "3.11.5"
  }
 },
 "nbformat": 4,
 "nbformat_minor": 5
}
